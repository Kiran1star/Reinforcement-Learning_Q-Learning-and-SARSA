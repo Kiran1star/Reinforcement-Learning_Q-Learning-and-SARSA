{
  "nbformat": 4,
  "nbformat_minor": 0,
  "metadata": {
    "colab": {
      "name": "nkarnati_assignment1_checkpoint1.ipynb",
      "provenance": [],
      "collapsed_sections": [
        "H98qnwOcKn6u",
        "B9Y2FWn-5yKS",
        "h_TXGBc2Jz3M",
        "IVA5dN_SKw-L",
        "ZaW3PFT7YqWN"
      ]
    },
    "kernelspec": {
      "name": "python3",
      "display_name": "Python 3"
    },
    "language_info": {
      "name": "python"
    }
  },
  "cells": [
    {
      "cell_type": "code",
      "execution_count": null,
      "metadata": {
        "id": "3BkqobPPBmSn"
      },
      "outputs": [],
      "source": [
        "# \"I certify that the code and data in this assignment were generated independently, using only the tools and resources defined in the course and that I did not receive any external help, coaching or contributions during the production of this work.\""
      ]
    },
    {
      "cell_type": "code",
      "source": [
        "!pip install gym"
      ],
      "metadata": {
        "colab": {
          "base_uri": "https://localhost:8080/"
        },
        "id": "ogD9CuynB2id",
        "outputId": "0e69df3b-426f-4aab-85a4-e91ec6784efc"
      },
      "execution_count": null,
      "outputs": [
        {
          "output_type": "stream",
          "name": "stdout",
          "text": [
            "Requirement already satisfied: gym in /usr/local/lib/python3.7/dist-packages (0.17.3)\n",
            "Requirement already satisfied: scipy in /usr/local/lib/python3.7/dist-packages (from gym) (1.4.1)\n",
            "Requirement already satisfied: pyglet<=1.5.0,>=1.4.0 in /usr/local/lib/python3.7/dist-packages (from gym) (1.5.0)\n",
            "Requirement already satisfied: cloudpickle<1.7.0,>=1.2.0 in /usr/local/lib/python3.7/dist-packages (from gym) (1.3.0)\n",
            "Requirement already satisfied: numpy>=1.10.4 in /usr/local/lib/python3.7/dist-packages (from gym) (1.21.5)\n",
            "Requirement already satisfied: future in /usr/local/lib/python3.7/dist-packages (from pyglet<=1.5.0,>=1.4.0->gym) (0.16.0)\n"
          ]
        }
      ]
    },
    {
      "cell_type": "code",
      "source": [
        "import numpy as np\n",
        "import matplotlib.pyplot as plt\n",
        "import gym\n",
        "from gym import spaces"
      ],
      "metadata": {
        "id": "5fVw3MKhB4T7"
      },
      "execution_count": 2,
      "outputs": []
    },
    {
      "cell_type": "code",
      "source": [
        "from google.colab import widgets\n",
        "import time"
      ],
      "metadata": {
        "id": "fy8IlAbrB6k2"
      },
      "execution_count": 3,
      "outputs": []
    },
    {
      "cell_type": "markdown",
      "source": [
        "#Part II"
      ],
      "metadata": {
        "id": "iZcUeLhnA5j6"
      }
    },
    {
      "cell_type": "markdown",
      "source": [
        "##GridEnvironment"
      ],
      "metadata": {
        "id": "H98qnwOcKn6u"
      }
    },
    {
      "cell_type": "code",
      "source": [
        "class GridEnvironment(gym.Env):\n",
        "    metadata = { 'render.modes': [] }\n",
        "    \n",
        "    def __init__(self):\n",
        "        self.observation_space = spaces.Discrete(16) #Intializing a 4x4 grid with 16 states: {s1, s2, s3,....s16}\n",
        "        self.action_space = spaces.Discrete(4) #Intializing 4 actions:  {0: down, 1: up, 2: right, 3: left}\n",
        "        self.done = False\n",
        "        #rewards = {-2, -1, 0, 3, 4, 100} defined below\n",
        "        \n",
        "    def reset(self):\n",
        "  \n",
        "        self.agent_pos = [0, 0] #start position\n",
        "        self.goal_pos = [3, 3] #target position (+100)\n",
        "        self.danger1_pos = [1,1] #first danger position (-1)\n",
        "        self.danger2_pos = [2,2] #second danger position (-2)\n",
        "        self.gold1_pos = [2,0] #First positive reward position (+3)\n",
        "        self.gold2_pos = [3,0] #Second positive reward position (+4)\n",
        "        self.done = False\n",
        "        self.state = np.zeros((4,4))\n",
        "        observation = self.state.flatten()\n",
        "        return observation\n",
        "    \n",
        "    def step(self, action, deterministic = False, stochastic = False):\n",
        "\n",
        "        #determinstic environment\n",
        "        if deterministic == True:\n",
        "          epsilon1, epsilon2 = 1, 1 #With probability 1 Agent chooses given action\n",
        "\n",
        "        #stochastic environment\n",
        "        if stochastic == True:\n",
        "          epsilon1, epsilon2 = 0.7, 0.8 #Transistion probabilites of 0.7 and 0.8 \n",
        "          #Σ(p(s', r/s, down) = 0.7 + 0.3 = 1\n",
        "          #Σ(p(s', r/s, right) = 0.8 + 0.2 = 1 \n",
        "\n",
        "        #Actions\n",
        "        if action == 0: #down\n",
        "            rand_num1 = np.random.random()\n",
        "            if epsilon1 >= rand_num1:  \n",
        "              self.agent_pos[0] += 1   \n",
        "            else: #For all states in stochastic environment when Down action is choosen: Agent chooses down state with a transition probability of 0.7 and up state with 0.3 transition probaility\n",
        "              self.agent_pos[0] -= 1\n",
        "              # print(\"Up state is choosen with 0.3 probability instead of Down\")\n",
        "\n",
        "        if action == 1: #up\n",
        "            self.agent_pos[0] -= 1\n",
        "\n",
        "        if action == 2: #right\n",
        "            rand_num2 = np.random.random()\n",
        "            if epsilon2 >= rand_num2:  \n",
        "              self.agent_pos[1] += 1        \n",
        "            else:#For all states in stochastic environment when Right action is choosen: Agent chooses right state with a transition probability of 0.8 and left state with 0.2 transition probaility\n",
        "              self.agent_pos[1] -= 1\n",
        "              # print(\"Left state is choosen with 0.2 probability instead of Right\")\n",
        "\n",
        "        if action == 3: #left\n",
        "            self.agent_pos[1] -= 1\n",
        "          \n",
        "        self.agent_pos = np.clip(self.agent_pos, 0, 3) #ensuring agent doesn't go out of the grid #One of the ways to ensure safety in the environment\n",
        "        self.state = np.zeros((4,4))\n",
        "\n",
        "        observation = self.state.flatten()\n",
        "        \n",
        "        reward = 0 #Intializing reward to zero\n",
        "        if (self.agent_pos == self.goal_pos).all():\n",
        "            reward = 100 #A reward of 5 if it reaches target position\n",
        "            self.done = True\n",
        "\n",
        "        #Rewards structure\n",
        "        elif (self.agent_pos == self.danger1_pos).all():\n",
        "            reward = -1 #A negative reward -1 if it enters 1st danger position\n",
        "\n",
        "        elif (self.agent_pos == self.danger2_pos).all():\n",
        "            reward = -2 #A negative reward of -2 if it enters 2nd danger position\n",
        "\n",
        "        elif (self.agent_pos == self.gold1_pos).all():\n",
        "            reward = 3 #A reward of +3 at [2,0]\n",
        "\n",
        "        elif (self.agent_pos == self.gold2_pos).all():\n",
        "            reward = 4 #A reward of +3 at [3,0]\n",
        "\n",
        "        return reward, self.agent_pos, self.done\n",
        "        \n",
        "    def render(self):\n",
        "        plt.imshow(self.state)"
      ],
      "metadata": {
        "id": "wswAhd84B9NC"
      },
      "execution_count": 4,
      "outputs": []
    },
    {
      "cell_type": "code",
      "source": [
        "class RandomAgent: #Definig the Random agent class\n",
        "    def __init__(self, env):\n",
        "        self.env = env\n",
        "        self.observation_space = env.observation_space\n",
        "        self.action_space = env.action_space\n",
        "\n",
        "    def step(self, observation): #Just for reference I have developed action space in algorithm #Random agent chooses random action every time we call step method\n",
        "        return np.random.choice(self.action_space.n)"
      ],
      "metadata": {
        "id": "Lvrb9DK8CKTy"
      },
      "execution_count": 7,
      "outputs": []
    },
    {
      "cell_type": "markdown",
      "source": [
        "## Q-Learning Algorithm"
      ],
      "metadata": {
        "id": "B9Y2FWn-5yKS"
      }
    },
    {
      "cell_type": "code",
      "source": [
        "#Q-learning\n",
        "\n",
        "def q_learning(deterministic = False, stochastic = False, evaluation_results = False, qlearning_rewards = False):\n",
        "  env = GridEnvironment()\n",
        "  agent = RandomAgent(env)#creating a random agent to explore the given environments \n",
        "  obs = env.reset()#resets the environment to its initial configuration\n",
        "\n",
        "  #Displays grid in its intial configuration\n",
        "  print(\"Grid Environment\\n\")\n",
        "  output_grid2 = widgets.Grid(4, 4, header_row=True, header_column=True,  style='background-color: black; font-size: 25px; color: white')\n",
        "  print(\"\\n\")\n",
        "  with output_grid2.output_to(0, 0):\n",
        "      print(\"Start\")\n",
        "  with output_grid2.output_to(3, 3):\n",
        "      print(\"Target\")\n",
        "  with output_grid2.output_to(1, 1):\n",
        "      print(\"-1\")\n",
        "  with output_grid2.output_to(2, 2):\n",
        "      print(\"-2\")\n",
        "  with output_grid2.output_to(2, 0):\n",
        "      print(\"+3\")\n",
        "  with output_grid2.output_to(3, 0):\n",
        "      print(\"+4\")\n",
        "\n",
        "  \n",
        "  #Intialize parameters\n",
        "  learning_rate = 0.15 #alpha\n",
        "  discount_factor = 0.95 #how much weightage to put on future rewards\n",
        "  det_epsilon = 0.99 # For all states in deterministic environment p(s', r/s, a) = {0, 1}: Either action taken or No action taken\n",
        "\n",
        "\n",
        "  #Intial state\n",
        "  current_state = 0 #s1\n",
        "  action_val = [0,1,2,3]\n",
        "\n",
        "  #Q table representing 16 rows: one for each state (i.e., 0,1,2,...15) -> (i.e., s1, s2, s3,....s16) and 4 columns: one for each action (i.e., 0,1,2,3) -> (down,up,right,left)\n",
        "  # (0-15, 0-3) remember the dimension is one less\n",
        "  q_table = np.zeros((16,4))\n",
        "\n",
        "  #mapping next_state co-ordinates to q_table co-ordinates\n",
        "  states = {(0,0): 0, (0,1): 1, (0,2): 2, (0,3): 3,\n",
        "                (1,0): 4, (1,1): 5, (1,2): 6, (1,3): 7,\n",
        "                (2,0): 8, (2,1): 9, (2,2): 10, (2,3): 11,\n",
        "                (3,0): 12, (3,1): 13, (3,2): 14, (3,3): 15} #16 states\n",
        "\n",
        "  #Empty lists to store values\n",
        "  optimal = []\n",
        "  reward_values = []\n",
        "  total_timesteps = []\n",
        "  epsilon_values = []\n",
        "  eva_rewards = []\n",
        "\n",
        "  done = False #signifies if agent reached terminal or not \n",
        "  total_episodes = 1500\n",
        "  eva_episodes = 10 #Used for evaluation\n",
        "  avg_timesteps = 0\n",
        "  epsilon = 1 #multiply by 0.995 for each episode(#after 20 iterations# or terminal state reached)\n",
        "  decay_factor = (0.01/1)**(1/total_episodes)\n",
        "\n",
        "  #For evaluation results\n",
        "  if evaluation_results: \n",
        "     total_episodes += eva_episodes \n",
        "     print(\"Evaluation Results\")\n",
        "\n",
        "  for episode in range(1, total_episodes+1):\n",
        "    \n",
        "    obs = env.reset()\n",
        "    current_state = 0\n",
        "    total_rewards = 0\n",
        "    timestep = 0\n",
        "\n",
        "    while timestep < 20: #(i.e., considering untill the terminal is reached or 20 timesteps completed)\n",
        "    \n",
        "      # deterministic: {0,1} probability for deterministic #stochasticity in choosing an action for stochastic\n",
        "      rand_num = np.random.random()\n",
        "      if det_epsilon > rand_num: #Choosing an action in deterministic environment\n",
        "          \n",
        "          #e - greedy algorithm\n",
        "          rand_num = np.random.random()\n",
        "          if epsilon > rand_num:\n",
        "            action = np.random.choice(action_val)\n",
        "          else:\n",
        "            action = np.argmax(q_table[current_state]) #action in current state s with max_q value\n",
        "\n",
        "          #Taking the action\n",
        "          reward, next_state_pos, done = env.step(action, deterministic, stochastic)\n",
        "\n",
        "          next_state = states[tuple(next_state_pos)]\n",
        "\n",
        "          #Choosing action with max Q value\n",
        "          max_q_action = np.argmax(q_table[next_state])\n",
        "\n",
        "          #Update function\n",
        "          q_table[current_state][action] = q_table[current_state][action] + learning_rate*(reward + discount_factor*q_table[next_state][max_q_action] - q_table[current_state][action])\n",
        "\n",
        "          if episode == total_episodes:\n",
        "            optimal.append(current_state+1)\n",
        "\n",
        "          total_rewards += reward #Captured all the rewards in each episode\n",
        "          timestep += 1 #Number of timesteps in each episode\n",
        "\n",
        "          current_state = next_state #next_state is assigned to current_state\n",
        "          \n",
        "          if done == True: #If terminal or target state reached then stop the episode\n",
        "            done = False\n",
        "            break        \n",
        "          \n",
        "    \n",
        "    #Results after each episode\n",
        "    avg_timesteps += timestep #Capturing all timesteps for all 100 episodes\n",
        "    total_timesteps.append(avg_timesteps)\n",
        "\n",
        "    reward_values.append(total_rewards) #Append rewards in every episode\n",
        "    epsilon_values.append(epsilon) #Append epsilon values in every episode\n",
        "    \n",
        "\n",
        "    if epsilon > 0.01: #keeping epsilon in [0.01 - 1] range as if it falls below 0.01 it will exploit more: choosing best actions. We want our agent to explore a bit: choosing random actions\n",
        "        epsilon = epsilon*decay_factor\n",
        "    else:\n",
        "        epsilon = 0.01\n",
        "\n",
        "\n",
        "    if (episode % 100) == 0 and evaluation_results == False and qlearning_rewards == False: #printing results for every 100 episodes\n",
        "      print(\"Episode: {}, Rewards: {}, Average timesteps taken: {}, epsilon: {}\".format(episode, total_rewards, avg_timesteps//100, epsilon))\n",
        "      avg_timesteps = 0\n",
        "\n",
        "\n",
        "    #evaluation results\n",
        "    if evaluation_results:\n",
        "      if episode > total_episodes - eva_episodes:\n",
        "         eva_rewards.append(reward)\n",
        "\n",
        "\n",
        "    #printing the optimal path in last episode\n",
        "    if episode == total_episodes:\n",
        "          print(\"Optimal Path: \")\n",
        "          for i in optimal:\n",
        "            print(i,\"->\", end = \" \")\n",
        "          print(next_state+1)\n",
        "\n",
        "    \n",
        "  #rewards  \n",
        "  if qlearning_rewards:\n",
        "    return reward_values\n",
        "\n",
        "\n",
        "  #Final Q - Table\n",
        "  print(\"Q Table: \\n\", q_table)\n",
        "\n",
        "  #Plotting the results\n",
        "  #x, y co-ordinates\n",
        "  x = [episode for episode in range(total_episodes)]\n",
        "  yr = reward_values\n",
        "  ye = epsilon_values\n",
        "  yr_eva = eva_rewards\n",
        "  x_eva = [episode for episode in range(eva_episodes)]\n",
        " \n",
        "\n",
        "  if evaluation_results:\n",
        "      #episodes vs rewards\n",
        "      plt.plot(x_eva,yr_eva)\n",
        "      plt.title(\"Rewards per episode\")\n",
        "      plt.xlabel('Episodes')\n",
        "      plt.ylabel('Rewards')\n",
        "\n",
        "  else:\n",
        "      \n",
        "      #Plots showing episodes vs epsilon, episodes vs rewards\n",
        "      fig, (ax1, ax2) = plt.subplots(1, 2, figsize=(10,4))\n",
        "      #episodes vs epsilon\n",
        "      ax1.plot(x, ye)\n",
        "      ax1.set_title(\"Epsilon decay\")\n",
        "      \n",
        "\n",
        "      #episodes vs rewards\n",
        "      ax2.plot(x,yr)\n",
        "      ax2.set_title(\"Rewards per episode\")\n",
        "      \n",
        "\n",
        "  \n",
        "\n"
      ],
      "metadata": {
        "id": "fKETSCEICM8J"
      },
      "execution_count": 11,
      "outputs": []
    },
    {
      "cell_type": "code",
      "source": [
        ""
      ],
      "metadata": {
        "id": "u2wzskBTJm6r"
      },
      "execution_count": 11,
      "outputs": []
    },
    {
      "cell_type": "markdown",
      "source": [
        "Q-Learning Deterministic environment"
      ],
      "metadata": {
        "id": "IDkP_VN7Jnli"
      }
    },
    {
      "cell_type": "code",
      "source": [
        "q_learning(deterministic = True)"
      ],
      "metadata": {
        "colab": {
          "base_uri": "https://localhost:8080/",
          "height": 1000
        },
        "id": "-64zOaVnzoiS",
        "outputId": "669862d6-64d1-44ce-f399-2f41e32d9861"
      },
      "execution_count": 12,
      "outputs": [
        {
          "output_type": "stream",
          "name": "stdout",
          "text": [
            "Grid Environment\n",
            "\n"
          ]
        },
        {
          "output_type": "display_data",
          "data": {
            "text/html": [
              "<style>\n",
              "       table#id6, #id6 > tbody > tr > th, #id6 > tbody > tr > td {\n",
              "         border: 1px solid lightgray;\n",
              "         border-collapse:collapse;\n",
              "         background-color: black; font-size: 25px; color: white\n",
              "        }</style>"
            ],
            "text/plain": [
              "<IPython.core.display.HTML object>"
            ]
          },
          "metadata": {}
        },
        {
          "output_type": "display_data",
          "data": {
            "text/html": [
              "<table id=id6><tr><th id=id6-0-0></th><th id=id6-0-1></th><th id=id6-0-2></th><th id=id6-0-3></th></tr><tr><th id=id6-1-0></th><td id=id6-1-1></td><td id=id6-1-2></td><td id=id6-1-3></td></tr><tr><th id=id6-2-0></th><td id=id6-2-1></td><td id=id6-2-2></td><td id=id6-2-3></td></tr><tr><th id=id6-3-0></th><td id=id6-3-1></td><td id=id6-3-2></td><td id=id6-3-3></td></tr></table>"
            ],
            "text/plain": [
              "<IPython.core.display.HTML object>"
            ]
          },
          "metadata": {}
        },
        {
          "output_type": "stream",
          "name": "stdout",
          "text": [
            "\n",
            "\n"
          ]
        },
        {
          "output_type": "display_data",
          "data": {
            "application/javascript": [
              "window[\"8f370e26-9dab-11ec-890e-0242ac1c0002\"] = google.colab.output.getActiveOutputArea();\n",
              "//# sourceURL=js_82974a1a63"
            ],
            "text/plain": [
              "<IPython.core.display.Javascript object>"
            ]
          },
          "metadata": {}
        },
        {
          "output_type": "display_data",
          "data": {
            "application/javascript": [
              "window[\"8f37744c-9dab-11ec-890e-0242ac1c0002\"] = document.querySelector(\"#id6-0-0\");\n",
              "//# sourceURL=js_392912a798"
            ],
            "text/plain": [
              "<IPython.core.display.Javascript object>"
            ]
          },
          "metadata": {}
        },
        {
          "output_type": "display_data",
          "data": {
            "application/javascript": [
              "window[\"8f37c744-9dab-11ec-890e-0242ac1c0002\"] = google.colab.output.setActiveOutputArea(window[\"8f37744c-9dab-11ec-890e-0242ac1c0002\"]);\n",
              "//# sourceURL=js_bdfb867ed7"
            ],
            "text/plain": [
              "<IPython.core.display.Javascript object>"
            ]
          },
          "metadata": {}
        },
        {
          "output_type": "stream",
          "name": "stdout",
          "text": [
            "Start\n"
          ]
        },
        {
          "output_type": "display_data",
          "data": {
            "application/javascript": [
              "window[\"8f39335e-9dab-11ec-890e-0242ac1c0002\"] = google.colab.output.setActiveOutputArea(window[\"8f370e26-9dab-11ec-890e-0242ac1c0002\"]);\n",
              "//# sourceURL=js_158bdd0ad3"
            ],
            "text/plain": [
              "<IPython.core.display.Javascript object>"
            ]
          },
          "metadata": {}
        },
        {
          "output_type": "display_data",
          "data": {
            "application/javascript": [
              "window[\"8f3b2768-9dab-11ec-890e-0242ac1c0002\"] = google.colab.output.getActiveOutputArea();\n",
              "//# sourceURL=js_ea25019123"
            ],
            "text/plain": [
              "<IPython.core.display.Javascript object>"
            ]
          },
          "metadata": {}
        },
        {
          "output_type": "display_data",
          "data": {
            "application/javascript": [
              "window[\"8f3b7de4-9dab-11ec-890e-0242ac1c0002\"] = document.querySelector(\"#id6-3-3\");\n",
              "//# sourceURL=js_93b5952036"
            ],
            "text/plain": [
              "<IPython.core.display.Javascript object>"
            ]
          },
          "metadata": {}
        },
        {
          "output_type": "display_data",
          "data": {
            "application/javascript": [
              "window[\"8f3bcf9c-9dab-11ec-890e-0242ac1c0002\"] = google.colab.output.setActiveOutputArea(window[\"8f3b7de4-9dab-11ec-890e-0242ac1c0002\"]);\n",
              "//# sourceURL=js_87cfc1ae31"
            ],
            "text/plain": [
              "<IPython.core.display.Javascript object>"
            ]
          },
          "metadata": {}
        },
        {
          "output_type": "stream",
          "name": "stdout",
          "text": [
            "Target\n"
          ]
        },
        {
          "output_type": "display_data",
          "data": {
            "application/javascript": [
              "window[\"8f3d1988-9dab-11ec-890e-0242ac1c0002\"] = google.colab.output.setActiveOutputArea(window[\"8f3b2768-9dab-11ec-890e-0242ac1c0002\"]);\n",
              "//# sourceURL=js_965bc423ce"
            ],
            "text/plain": [
              "<IPython.core.display.Javascript object>"
            ]
          },
          "metadata": {}
        },
        {
          "output_type": "display_data",
          "data": {
            "application/javascript": [
              "window[\"8f3f1918-9dab-11ec-890e-0242ac1c0002\"] = google.colab.output.getActiveOutputArea();\n",
              "//# sourceURL=js_05ce791783"
            ],
            "text/plain": [
              "<IPython.core.display.Javascript object>"
            ]
          },
          "metadata": {}
        },
        {
          "output_type": "display_data",
          "data": {
            "application/javascript": [
              "window[\"8f3f6ad0-9dab-11ec-890e-0242ac1c0002\"] = document.querySelector(\"#id6-1-1\");\n",
              "//# sourceURL=js_a08f79d07f"
            ],
            "text/plain": [
              "<IPython.core.display.Javascript object>"
            ]
          },
          "metadata": {}
        },
        {
          "output_type": "display_data",
          "data": {
            "application/javascript": [
              "window[\"8f3fd128-9dab-11ec-890e-0242ac1c0002\"] = google.colab.output.setActiveOutputArea(window[\"8f3f6ad0-9dab-11ec-890e-0242ac1c0002\"]);\n",
              "//# sourceURL=js_7f84f07e95"
            ],
            "text/plain": [
              "<IPython.core.display.Javascript object>"
            ]
          },
          "metadata": {}
        },
        {
          "output_type": "stream",
          "name": "stdout",
          "text": [
            "-1\n"
          ]
        },
        {
          "output_type": "display_data",
          "data": {
            "application/javascript": [
              "window[\"8f4128f2-9dab-11ec-890e-0242ac1c0002\"] = google.colab.output.setActiveOutputArea(window[\"8f3f1918-9dab-11ec-890e-0242ac1c0002\"]);\n",
              "//# sourceURL=js_f0bdb24ca3"
            ],
            "text/plain": [
              "<IPython.core.display.Javascript object>"
            ]
          },
          "metadata": {}
        },
        {
          "output_type": "display_data",
          "data": {
            "application/javascript": [
              "window[\"8f42fccc-9dab-11ec-890e-0242ac1c0002\"] = google.colab.output.getActiveOutputArea();\n",
              "//# sourceURL=js_663a49d0ec"
            ],
            "text/plain": [
              "<IPython.core.display.Javascript object>"
            ]
          },
          "metadata": {}
        },
        {
          "output_type": "display_data",
          "data": {
            "application/javascript": [
              "window[\"8f434f6a-9dab-11ec-890e-0242ac1c0002\"] = document.querySelector(\"#id6-2-2\");\n",
              "//# sourceURL=js_9e6c31a033"
            ],
            "text/plain": [
              "<IPython.core.display.Javascript object>"
            ]
          },
          "metadata": {}
        },
        {
          "output_type": "display_data",
          "data": {
            "application/javascript": [
              "window[\"8f439efc-9dab-11ec-890e-0242ac1c0002\"] = google.colab.output.setActiveOutputArea(window[\"8f434f6a-9dab-11ec-890e-0242ac1c0002\"]);\n",
              "//# sourceURL=js_645a7657fd"
            ],
            "text/plain": [
              "<IPython.core.display.Javascript object>"
            ]
          },
          "metadata": {}
        },
        {
          "output_type": "stream",
          "name": "stdout",
          "text": [
            "-2\n"
          ]
        },
        {
          "output_type": "display_data",
          "data": {
            "application/javascript": [
              "window[\"8f451002-9dab-11ec-890e-0242ac1c0002\"] = google.colab.output.setActiveOutputArea(window[\"8f42fccc-9dab-11ec-890e-0242ac1c0002\"]);\n",
              "//# sourceURL=js_d77a96876d"
            ],
            "text/plain": [
              "<IPython.core.display.Javascript object>"
            ]
          },
          "metadata": {}
        },
        {
          "output_type": "display_data",
          "data": {
            "application/javascript": [
              "window[\"8f46ffde-9dab-11ec-890e-0242ac1c0002\"] = google.colab.output.getActiveOutputArea();\n",
              "//# sourceURL=js_471d07f0f7"
            ],
            "text/plain": [
              "<IPython.core.display.Javascript object>"
            ]
          },
          "metadata": {}
        },
        {
          "output_type": "display_data",
          "data": {
            "application/javascript": [
              "window[\"8f4750a6-9dab-11ec-890e-0242ac1c0002\"] = document.querySelector(\"#id6-2-0\");\n",
              "//# sourceURL=js_441d4b62e9"
            ],
            "text/plain": [
              "<IPython.core.display.Javascript object>"
            ]
          },
          "metadata": {}
        },
        {
          "output_type": "display_data",
          "data": {
            "application/javascript": [
              "window[\"8f47a808-9dab-11ec-890e-0242ac1c0002\"] = google.colab.output.setActiveOutputArea(window[\"8f4750a6-9dab-11ec-890e-0242ac1c0002\"]);\n",
              "//# sourceURL=js_f5155e4f0c"
            ],
            "text/plain": [
              "<IPython.core.display.Javascript object>"
            ]
          },
          "metadata": {}
        },
        {
          "output_type": "stream",
          "name": "stdout",
          "text": [
            "+3\n"
          ]
        },
        {
          "output_type": "display_data",
          "data": {
            "application/javascript": [
              "window[\"8f49159e-9dab-11ec-890e-0242ac1c0002\"] = google.colab.output.setActiveOutputArea(window[\"8f46ffde-9dab-11ec-890e-0242ac1c0002\"]);\n",
              "//# sourceURL=js_1fc5897079"
            ],
            "text/plain": [
              "<IPython.core.display.Javascript object>"
            ]
          },
          "metadata": {}
        },
        {
          "output_type": "display_data",
          "data": {
            "application/javascript": [
              "window[\"8f4b258c-9dab-11ec-890e-0242ac1c0002\"] = google.colab.output.getActiveOutputArea();\n",
              "//# sourceURL=js_f4d581cc85"
            ],
            "text/plain": [
              "<IPython.core.display.Javascript object>"
            ]
          },
          "metadata": {}
        },
        {
          "output_type": "display_data",
          "data": {
            "application/javascript": [
              "window[\"8f4b7910-9dab-11ec-890e-0242ac1c0002\"] = document.querySelector(\"#id6-3-0\");\n",
              "//# sourceURL=js_edea151449"
            ],
            "text/plain": [
              "<IPython.core.display.Javascript object>"
            ]
          },
          "metadata": {}
        },
        {
          "output_type": "display_data",
          "data": {
            "application/javascript": [
              "window[\"8f4bdc98-9dab-11ec-890e-0242ac1c0002\"] = google.colab.output.setActiveOutputArea(window[\"8f4b7910-9dab-11ec-890e-0242ac1c0002\"]);\n",
              "//# sourceURL=js_6b43319002"
            ],
            "text/plain": [
              "<IPython.core.display.Javascript object>"
            ]
          },
          "metadata": {}
        },
        {
          "output_type": "stream",
          "name": "stdout",
          "text": [
            "+4\n"
          ]
        },
        {
          "output_type": "display_data",
          "data": {
            "application/javascript": [
              "window[\"8f4d8386-9dab-11ec-890e-0242ac1c0002\"] = google.colab.output.setActiveOutputArea(window[\"8f4b258c-9dab-11ec-890e-0242ac1c0002\"]);\n",
              "//# sourceURL=js_1b8ff3513b"
            ],
            "text/plain": [
              "<IPython.core.display.Javascript object>"
            ]
          },
          "metadata": {}
        },
        {
          "output_type": "stream",
          "name": "stdout",
          "text": [
            "Episode: 100, Rewards: -8, Average timesteps taken: 17, epsilon: 0.7356422544596452\n",
            "Episode: 200, Rewards: 105, Average timesteps taken: 13, epsilon: 0.5411695265464691\n",
            "Episode: 300, Rewards: 99, Average timesteps taken: 10, epsilon: 0.39810717055350314\n",
            "Episode: 400, Rewards: 114, Average timesteps taken: 9, epsilon: 0.29286445646252957\n",
            "Episode: 500, Rewards: 105, Average timesteps taken: 8, epsilon: 0.21544346900319378\n",
            "Episode: 600, Rewards: 107, Average timesteps taken: 7, epsilon: 0.15848931924611603\n",
            "Episode: 700, Rewards: 107, Average timesteps taken: 6, epsilon: 0.11659144011798714\n",
            "Episode: 800, Rewards: 107, Average timesteps taken: 6, epsilon: 0.08576958985909275\n",
            "Episode: 900, Rewards: 107, Average timesteps taken: 6, epsilon: 0.06309573444802206\n",
            "Episode: 1000, Rewards: 107, Average timesteps taken: 6, epsilon: 0.04641588833613003\n",
            "Episode: 1100, Rewards: 107, Average timesteps taken: 6, epsilon: 0.03414548873833783\n",
            "Episode: 1200, Rewards: 107, Average timesteps taken: 6, epsilon: 0.02511886431509727\n",
            "Episode: 1300, Rewards: 107, Average timesteps taken: 6, epsilon: 0.01847849797422407\n",
            "Episode: 1400, Rewards: 107, Average timesteps taken: 6, epsilon: 0.013593563908786174\n",
            "Episode: 1500, Rewards: 107, Average timesteps taken: 6, epsilon: 0.010000000000000725\n",
            "Optimal Path: \n",
            "1 -> 5 -> 9 -> 13 -> 14 -> 15 -> 16\n",
            "Q Table: \n",
            " [[ 83.83809375  79.64613987  75.66161841  79.64580562]\n",
            " [ 61.94830155  57.49184142  65.21250135  79.6460122 ]\n",
            " [ 79.85475586  54.9844894   49.34083253  40.89081383]\n",
            " [ 74.44315323  30.85193739  34.58632357  27.49620485]\n",
            " [ 88.250625    79.64482862  80.43913762  83.83407476]\n",
            " [ 85.7352073   68.77606301  74.32526986  80.02387753]\n",
            " [ 88.16438131  57.89723994  84.22841315  52.03936198]\n",
            " [ 94.63774927  36.80738687  73.71722697  67.43805889]\n",
            " [ 89.7375      83.83735864  85.73644087  88.24535363]\n",
            " [ 90.25        78.86898737  88.24818249  86.820698  ]\n",
            " [ 94.77606387  82.27141     94.99999319  84.3837372 ]\n",
            " [ 99.9999991   86.3209978   92.96362828  87.40484438]\n",
            " [ 89.73602083  88.24763423  90.25        89.73699335]\n",
            " [ 90.2497925   85.73730413  95.          89.737119  ]\n",
            " [ 94.99861557  88.2447925  100.          90.24952734]\n",
            " [  0.           0.           0.           0.        ]]\n"
          ]
        },
        {
          "output_type": "display_data",
          "data": {
            "image/png": "[encoded data removed]",
            "text/plain": [
              "<Figure size 720x288 with 2 Axes>"
            ]
          },
          "metadata": {
            "needs_background": "light"
          }
        }
      ]
    },
    {
      "cell_type": "code",
      "source": [
        ""
      ],
      "metadata": {
        "id": "KTgJPKTACGoH"
      },
      "execution_count": null,
      "outputs": []
    },
    {
      "cell_type": "markdown",
      "source": [
        "Q-Learning Stochastic environment"
      ],
      "metadata": {
        "id": "tEJ6_5GECIkj"
      }
    },
    {
      "cell_type": "code",
      "source": [
        "q_learning(stochastic= True)"
      ],
      "metadata": {
        "colab": {
          "base_uri": "https://localhost:8080/",
          "height": 1000
        },
        "id": "bkwfR_ICB8h4",
        "outputId": "3c0179d5-2a15-4d9a-fba8-0f9eb2ccddd8"
      },
      "execution_count": 13,
      "outputs": [
        {
          "output_type": "stream",
          "name": "stdout",
          "text": [
            "Grid Environment\n",
            "\n"
          ]
        },
        {
          "output_type": "display_data",
          "data": {
            "text/html": [
              "<style>\n",
              "       table#id8, #id8 > tbody > tr > th, #id8 > tbody > tr > td {\n",
              "         border: 1px solid lightgray;\n",
              "         border-collapse:collapse;\n",
              "         background-color: black; font-size: 25px; color: white\n",
              "        }</style>"
            ],
            "text/plain": [
              "<IPython.core.display.HTML object>"
            ]
          },
          "metadata": {}
        },
        {
          "output_type": "display_data",
          "data": {
            "text/html": [
              "<table id=id8><tr><th id=id8-0-0></th><th id=id8-0-1></th><th id=id8-0-2></th><th id=id8-0-3></th></tr><tr><th id=id8-1-0></th><td id=id8-1-1></td><td id=id8-1-2></td><td id=id8-1-3></td></tr><tr><th id=id8-2-0></th><td id=id8-2-1></td><td id=id8-2-2></td><td id=id8-2-3></td></tr><tr><th id=id8-3-0></th><td id=id8-3-1></td><td id=id8-3-2></td><td id=id8-3-3></td></tr></table>"
            ],
            "text/plain": [
              "<IPython.core.display.HTML object>"
            ]
          },
          "metadata": {}
        },
        {
          "output_type": "stream",
          "name": "stdout",
          "text": [
            "\n",
            "\n"
          ]
        },
        {
          "output_type": "display_data",
          "data": {
            "application/javascript": [
              "window[\"5b3ee728-9dac-11ec-890e-0242ac1c0002\"] = google.colab.output.getActiveOutputArea();\n",
              "//# sourceURL=js_e121518bcc"
            ],
            "text/plain": [
              "<IPython.core.display.Javascript object>"
            ]
          },
          "metadata": {}
        },
        {
          "output_type": "display_data",
          "data": {
            "application/javascript": [
              "window[\"5b3f5a1e-9dac-11ec-890e-0242ac1c0002\"] = document.querySelector(\"#id8-0-0\");\n",
              "//# sourceURL=js_75cefd221f"
            ],
            "text/plain": [
              "<IPython.core.display.Javascript object>"
            ]
          },
          "metadata": {}
        },
        {
          "output_type": "display_data",
          "data": {
            "application/javascript": [
              "window[\"5b3fb59a-9dac-11ec-890e-0242ac1c0002\"] = google.colab.output.setActiveOutputArea(window[\"5b3f5a1e-9dac-11ec-890e-0242ac1c0002\"]);\n",
              "//# sourceURL=js_67c2d97075"
            ],
            "text/plain": [
              "<IPython.core.display.Javascript object>"
            ]
          },
          "metadata": {}
        },
        {
          "output_type": "stream",
          "name": "stdout",
          "text": [
            "Start\n"
          ]
        },
        {
          "output_type": "display_data",
          "data": {
            "application/javascript": [
              "window[\"5b423d2e-9dac-11ec-890e-0242ac1c0002\"] = google.colab.output.setActiveOutputArea(window[\"5b3ee728-9dac-11ec-890e-0242ac1c0002\"]);\n",
              "//# sourceURL=js_42d79a27e3"
            ],
            "text/plain": [
              "<IPython.core.display.Javascript object>"
            ]
          },
          "metadata": {}
        },
        {
          "output_type": "display_data",
          "data": {
            "application/javascript": [
              "window[\"5b47ce88-9dac-11ec-890e-0242ac1c0002\"] = google.colab.output.getActiveOutputArea();\n",
              "//# sourceURL=js_22be28c2a8"
            ],
            "text/plain": [
              "<IPython.core.display.Javascript object>"
            ]
          },
          "metadata": {}
        },
        {
          "output_type": "display_data",
          "data": {
            "application/javascript": [
              "window[\"5b4850ce-9dac-11ec-890e-0242ac1c0002\"] = document.querySelector(\"#id8-3-3\");\n",
              "//# sourceURL=js_7c2f4c34c8"
            ],
            "text/plain": [
              "<IPython.core.display.Javascript object>"
            ]
          },
          "metadata": {}
        },
        {
          "output_type": "display_data",
          "data": {
            "application/javascript": [
              "window[\"5b48c234-9dac-11ec-890e-0242ac1c0002\"] = google.colab.output.setActiveOutputArea(window[\"5b4850ce-9dac-11ec-890e-0242ac1c0002\"]);\n",
              "//# sourceURL=js_56339f2201"
            ],
            "text/plain": [
              "<IPython.core.display.Javascript object>"
            ]
          },
          "metadata": {}
        },
        {
          "output_type": "stream",
          "name": "stdout",
          "text": [
            "Target\n"
          ]
        },
        {
          "output_type": "display_data",
          "data": {
            "application/javascript": [
              "window[\"5b4ac354-9dac-11ec-890e-0242ac1c0002\"] = google.colab.output.setActiveOutputArea(window[\"5b47ce88-9dac-11ec-890e-0242ac1c0002\"]);\n",
              "//# sourceURL=js_9d263183a0"
            ],
            "text/plain": [
              "<IPython.core.display.Javascript object>"
            ]
          },
          "metadata": {}
        },
        {
          "output_type": "display_data",
          "data": {
            "application/javascript": [
              "window[\"5b4d8cd8-9dac-11ec-890e-0242ac1c0002\"] = google.colab.output.getActiveOutputArea();\n",
              "//# sourceURL=js_35823d65b5"
            ],
            "text/plain": [
              "<IPython.core.display.Javascript object>"
            ]
          },
          "metadata": {}
        },
        {
          "output_type": "display_data",
          "data": {
            "application/javascript": [
              "window[\"5b4ddba2-9dac-11ec-890e-0242ac1c0002\"] = document.querySelector(\"#id8-1-1\");\n",
              "//# sourceURL=js_390395f7b3"
            ],
            "text/plain": [
              "<IPython.core.display.Javascript object>"
            ]
          },
          "metadata": {}
        },
        {
          "output_type": "display_data",
          "data": {
            "application/javascript": [
              "window[\"5b4e22e2-9dac-11ec-890e-0242ac1c0002\"] = google.colab.output.setActiveOutputArea(window[\"5b4ddba2-9dac-11ec-890e-0242ac1c0002\"]);\n",
              "//# sourceURL=js_a151d772ae"
            ],
            "text/plain": [
              "<IPython.core.display.Javascript object>"
            ]
          },
          "metadata": {}
        },
        {
          "output_type": "stream",
          "name": "stdout",
          "text": [
            "-1\n"
          ]
        },
        {
          "output_type": "display_data",
          "data": {
            "application/javascript": [
              "window[\"5b4f82fe-9dac-11ec-890e-0242ac1c0002\"] = google.colab.output.setActiveOutputArea(window[\"5b4d8cd8-9dac-11ec-890e-0242ac1c0002\"]);\n",
              "//# sourceURL=js_5f728ec0d0"
            ],
            "text/plain": [
              "<IPython.core.display.Javascript object>"
            ]
          },
          "metadata": {}
        },
        {
          "output_type": "display_data",
          "data": {
            "application/javascript": [
              "window[\"5b515d72-9dac-11ec-890e-0242ac1c0002\"] = google.colab.output.getActiveOutputArea();\n",
              "//# sourceURL=js_fe1ac5e87f"
            ],
            "text/plain": [
              "<IPython.core.display.Javascript object>"
            ]
          },
          "metadata": {}
        },
        {
          "output_type": "display_data",
          "data": {
            "application/javascript": [
              "window[\"5b51c834-9dac-11ec-890e-0242ac1c0002\"] = document.querySelector(\"#id8-2-2\");\n",
              "//# sourceURL=js_96bf98869b"
            ],
            "text/plain": [
              "<IPython.core.display.Javascript object>"
            ]
          },
          "metadata": {}
        },
        {
          "output_type": "display_data",
          "data": {
            "application/javascript": [
              "window[\"5b521686-9dac-11ec-890e-0242ac1c0002\"] = google.colab.output.setActiveOutputArea(window[\"5b51c834-9dac-11ec-890e-0242ac1c0002\"]);\n",
              "//# sourceURL=js_b41ba83034"
            ],
            "text/plain": [
              "<IPython.core.display.Javascript object>"
            ]
          },
          "metadata": {}
        },
        {
          "output_type": "stream",
          "name": "stdout",
          "text": [
            "-2\n"
          ]
        },
        {
          "output_type": "display_data",
          "data": {
            "application/javascript": [
              "window[\"5b536c16-9dac-11ec-890e-0242ac1c0002\"] = google.colab.output.setActiveOutputArea(window[\"5b515d72-9dac-11ec-890e-0242ac1c0002\"]);\n",
              "//# sourceURL=js_92e907857b"
            ],
            "text/plain": [
              "<IPython.core.display.Javascript object>"
            ]
          },
          "metadata": {}
        },
        {
          "output_type": "display_data",
          "data": {
            "application/javascript": [
              "window[\"5b55a238-9dac-11ec-890e-0242ac1c0002\"] = google.colab.output.getActiveOutputArea();\n",
              "//# sourceURL=js_99a22afb99"
            ],
            "text/plain": [
              "<IPython.core.display.Javascript object>"
            ]
          },
          "metadata": {}
        },
        {
          "output_type": "display_data",
          "data": {
            "application/javascript": [
              "window[\"5b55ed4c-9dac-11ec-890e-0242ac1c0002\"] = document.querySelector(\"#id8-2-0\");\n",
              "//# sourceURL=js_89c172c251"
            ],
            "text/plain": [
              "<IPython.core.display.Javascript object>"
            ]
          },
          "metadata": {}
        },
        {
          "output_type": "display_data",
          "data": {
            "application/javascript": [
              "window[\"5b563fd6-9dac-11ec-890e-0242ac1c0002\"] = google.colab.output.setActiveOutputArea(window[\"5b55ed4c-9dac-11ec-890e-0242ac1c0002\"]);\n",
              "//# sourceURL=js_24a448a9e7"
            ],
            "text/plain": [
              "<IPython.core.display.Javascript object>"
            ]
          },
          "metadata": {}
        },
        {
          "output_type": "stream",
          "name": "stdout",
          "text": [
            "+3\n"
          ]
        },
        {
          "output_type": "display_data",
          "data": {
            "application/javascript": [
              "window[\"5b57aef2-9dac-11ec-890e-0242ac1c0002\"] = google.colab.output.setActiveOutputArea(window[\"5b55a238-9dac-11ec-890e-0242ac1c0002\"]);\n",
              "//# sourceURL=js_00fc9f8bd5"
            ],
            "text/plain": [
              "<IPython.core.display.Javascript object>"
            ]
          },
          "metadata": {}
        },
        {
          "output_type": "display_data",
          "data": {
            "application/javascript": [
              "window[\"5b59c6ce-9dac-11ec-890e-0242ac1c0002\"] = google.colab.output.getActiveOutputArea();\n",
              "//# sourceURL=js_10a841311e"
            ],
            "text/plain": [
              "<IPython.core.display.Javascript object>"
            ]
          },
          "metadata": {}
        },
        {
          "output_type": "display_data",
          "data": {
            "application/javascript": [
              "window[\"5b5a44a0-9dac-11ec-890e-0242ac1c0002\"] = document.querySelector(\"#id8-3-0\");\n",
              "//# sourceURL=js_caf0d84226"
            ],
            "text/plain": [
              "<IPython.core.display.Javascript object>"
            ]
          },
          "metadata": {}
        },
        {
          "output_type": "display_data",
          "data": {
            "application/javascript": [
              "window[\"5b5a97d4-9dac-11ec-890e-0242ac1c0002\"] = google.colab.output.setActiveOutputArea(window[\"5b5a44a0-9dac-11ec-890e-0242ac1c0002\"]);\n",
              "//# sourceURL=js_29fc50835d"
            ],
            "text/plain": [
              "<IPython.core.display.Javascript object>"
            ]
          },
          "metadata": {}
        },
        {
          "output_type": "stream",
          "name": "stdout",
          "text": [
            "+4\n"
          ]
        },
        {
          "output_type": "display_data",
          "data": {
            "application/javascript": [
              "window[\"5b5c0146-9dac-11ec-890e-0242ac1c0002\"] = google.colab.output.setActiveOutputArea(window[\"5b59c6ce-9dac-11ec-890e-0242ac1c0002\"]);\n",
              "//# sourceURL=js_d6811b1086"
            ],
            "text/plain": [
              "<IPython.core.display.Javascript object>"
            ]
          },
          "metadata": {}
        },
        {
          "output_type": "stream",
          "name": "stdout",
          "text": [
            "Episode: 100, Rewards: 1, Average timesteps taken: 19, epsilon: 0.7356422544596452\n",
            "Episode: 200, Rewards: 13, Average timesteps taken: 19, epsilon: 0.5411695265464691\n",
            "Episode: 300, Rewards: 54, Average timesteps taken: 20, epsilon: 0.39810717055350314\n",
            "Episode: 400, Rewards: 40, Average timesteps taken: 20, epsilon: 0.29286445646252957\n",
            "Episode: 500, Rewards: 58, Average timesteps taken: 20, epsilon: 0.21544346900319378\n",
            "Episode: 600, Rewards: 32, Average timesteps taken: 20, epsilon: 0.15848931924611603\n",
            "Episode: 700, Rewards: 70, Average timesteps taken: 20, epsilon: 0.11659144011798714\n",
            "Episode: 800, Rewards: 61, Average timesteps taken: 20, epsilon: 0.08576958985909275\n",
            "Episode: 900, Rewards: 58, Average timesteps taken: 20, epsilon: 0.06309573444802206\n",
            "Episode: 1000, Rewards: 75, Average timesteps taken: 20, epsilon: 0.04641588833613003\n",
            "Episode: 1100, Rewards: 71, Average timesteps taken: 20, epsilon: 0.03414548873833783\n",
            "Episode: 1200, Rewards: 67, Average timesteps taken: 20, epsilon: 0.02511886431509727\n",
            "Episode: 1300, Rewards: 59, Average timesteps taken: 20, epsilon: 0.01847849797422407\n",
            "Episode: 1400, Rewards: 75, Average timesteps taken: 20, epsilon: 0.013593563908786174\n",
            "Episode: 1500, Rewards: 75, Average timesteps taken: 20, epsilon: 0.010000000000000725\n",
            "Optimal Path: \n",
            "1 -> 5 -> 9 -> 13 -> 13 -> 13 -> 13 -> 13 -> 13 -> 13 -> 13 -> 13 -> 13 -> 13 -> 13 -> 13 -> 13 -> 13 -> 13 -> 13 -> 13\n",
            "Q Table: \n",
            " [[ 7.00573194e+01  6.39357822e+01  5.76029417e+01  6.32312151e+01]\n",
            " [ 4.68566793e+01  4.52629225e+01  4.10300853e+01  6.19852377e+01]\n",
            " [ 1.98287496e+01  2.60136642e+01  1.37616897e+01  4.46787968e+01]\n",
            " [ 1.11662226e+00  5.86084617e+00  4.83606834e+00  3.07840401e+01]\n",
            " [ 7.53166920e+01  6.41931218e+01  6.36996547e+01  6.72075001e+01]\n",
            " [ 5.19063586e+01  4.53571712e+01  3.70731796e+01  6.84332389e+01]\n",
            " [ 8.31051416e+00  1.74927202e+01  1.66807982e+00  4.61372184e+01]\n",
            " [ 1.38026520e-05  7.82672352e+00  1.70086718e+00  1.63997961e+00]\n",
            " [ 7.85962008e+01  6.91984848e+01  6.89474283e+01  7.09871396e+01]\n",
            " [ 5.45713728e+01  5.00099195e+01  4.00687263e+01  7.49870597e+01]\n",
            " [ 1.56429770e+01  1.86986411e+01  3.22490533e+00  4.61607734e+01]\n",
            " [ 7.43283322e-01  0.00000000e+00 -3.00000000e-01  0.00000000e+00]\n",
            " [ 7.90421170e+01  7.63605904e+01  7.65623058e+01  8.00000000e+01]\n",
            " [ 2.15594895e+01  4.25072614e+01  1.72202893e+01  7.99999597e+01]\n",
            " [ 5.28726682e+00 -9.74303015e-04  4.41955547e+01  5.91081369e+00]\n",
            " [ 0.00000000e+00  0.00000000e+00  0.00000000e+00  0.00000000e+00]]\n"
          ]
        },
        {
          "output_type": "display_data",
          "data": {
            "image/png": "[encoded data removed]",
            "text/plain": [
              "<Figure size 720x288 with 2 Axes>"
            ]
          },
          "metadata": {
            "needs_background": "light"
          }
        }
      ]
    },
    {
      "cell_type": "markdown",
      "source": [
        ""
      ],
      "metadata": {
        "id": "UB7VAAGV579f"
      }
    },
    {
      "cell_type": "code",
      "source": [
        ""
      ],
      "metadata": {
        "id": "R5gtjiEoWglt"
      },
      "execution_count": null,
      "outputs": []
    },
    {
      "cell_type": "markdown",
      "source": [
        "##SARSA Algorithm"
      ],
      "metadata": {
        "id": "h_TXGBc2Jz3M"
      }
    },
    {
      "cell_type": "code",
      "source": [
        "#SARSA\n",
        "def sarsa(deterministic = False, stochastic = False, evaluation_results = False, sarsa_rewards = False):\n",
        "  env = GridEnvironment()\n",
        "  agent = RandomAgent(env)#creating a random agent to explore the given environments \n",
        "  obs = env.reset()#resets the environment to its initial configuration\n",
        "\n",
        "  #Displays grid in its intial configuration\n",
        "  print(\"Grid Environment\\n\")\n",
        "  output_grid2 = widgets.Grid(4, 4, header_row=True, header_column=True,  style='background-color: black; font-size: 25px; color: white')\n",
        "  print(\"\\n\")\n",
        "  with output_grid2.output_to(0, 0):\n",
        "      print(\"Start\")\n",
        "  with output_grid2.output_to(3, 3):\n",
        "      print(\"Target\")\n",
        "  with output_grid2.output_to(1, 1):\n",
        "      print(\"-1\")\n",
        "  with output_grid2.output_to(2, 2):\n",
        "      print(\"-2\")\n",
        "  with output_grid2.output_to(2, 0):\n",
        "      print(\"+3\")\n",
        "  with output_grid2.output_to(3, 0):\n",
        "      print(\"+4\")\n",
        "\n",
        "\n",
        "  #Intialize parameters\n",
        "  learning_rate = 0.15 #alpha\n",
        "  discount_factor = 0.95 #how much weightage to put on future rewards\n",
        "  det_epsilon = 0.99 # For all states in deterministic environment p(s', r/s, a) = {0, 1}: Either action taken or No action taken\n",
        "\n",
        "\n",
        "  #Intial state\n",
        "  current_state = 0 #s1\n",
        "  action_val = [0,1,2,3]\n",
        "\n",
        "  #Q table representing 16 rows: one for each state (i.e., 0,1,2,...15) -> (i.e., s1, s2, s3,....s16) and 4 columns: one for each action (i.e., 0,1,2,3) -> (down,up,right,left)\n",
        "  # (0-15, 0-3) remember the dimension is one less\n",
        "  q_table = np.zeros((16,4))\n",
        "\n",
        "  #mapping next_state co-ordinates to q_table co-ordinates\n",
        "  states = {(0,0): 0, (0,1): 1, (0,2): 2, (0,3): 3,\n",
        "                (1,0): 4, (1,1): 5, (1,2): 6, (1,3): 7,\n",
        "                (2,0): 8, (2,1): 9, (2,2): 10, (2,3): 11,\n",
        "                (3,0): 12, (3,1): 13, (3,2): 14, (3,3): 15} #16 states\n",
        "\n",
        "  #Empty lists to store values\n",
        "  optimal = []\n",
        "  reward_values = []\n",
        "  total_timesteps = []\n",
        "  epsilon_values = []\n",
        "  eva_rewards = []\n",
        "\n",
        "\n",
        "  done = False #signifies if agent reached terminal or not \n",
        "  total_episodes = 1500\n",
        "  eva_episodes = 10\n",
        "  avg_timesteps = 0\n",
        "  epsilon = 1 #multiply by 0.995 for each episode(#after 30 iterations# or terminal state reached)\n",
        "  decay_factor = (0.01/1)**(1/total_episodes)\n",
        "\n",
        "  #For evaluation results\n",
        "  if evaluation_results: \n",
        "     total_episodes += eva_episodes \n",
        "     print(\"Evaluation Results\")\n",
        "\n",
        "  for episode in range(1, total_episodes+1):\n",
        "    \n",
        "    obs = env.reset() #resets the environment\n",
        "    current_state = 0 \n",
        "    total_rewards = 0\n",
        "    timestep = 0\n",
        "\n",
        "\n",
        "    #e - greedy algorithm to choose s and a\n",
        "    rand_num = np.random.random()\n",
        "    if epsilon > rand_num:\n",
        "      action = np.random.choice(action_val)\n",
        "    else:\n",
        "      action = np.argmax(q_table[current_state]) #action in current state s with max_q value\n",
        "\n",
        "    while timestep < 20: #(i.e., considering untill the terminal is reached or 20 timesteps are completed)\n",
        "    \n",
        "      # deterministic: {0,1} probability for deterministic #stochasticity in choosing an action for stochastic\n",
        "      rand_num = np.random.random()\n",
        "      if det_epsilon > rand_num: #Choosing an action in deterministic environment\n",
        "          \n",
        "          reward, next_state_pos, done = env.step(action, deterministic, stochastic)\n",
        "          next_state = states[tuple(next_state_pos)]\n",
        "\n",
        "          #e - greedy algorithm to choose next_action for next_state\n",
        "          rand_num = np.random.random()\n",
        "          if epsilon > rand_num:\n",
        "            next_action = np.random.choice(action_val)\n",
        "          else:\n",
        "            next_action = np.argmax(q_table[next_state]) #action in next state s' with max_q value\n",
        "          \n",
        "          #q-value update function for SARSA\n",
        "          q_table[current_state][action] = q_table[current_state][action] + learning_rate*(reward + discount_factor*q_table[next_state][next_action] - q_table[current_state][action])\n",
        "\n",
        "          if episode == total_episodes:\n",
        "            optimal.append(current_state+1)\n",
        "\n",
        "          total_rewards += reward #Captured all the rewards in each episode\n",
        "          timestep += 1 #Number of timesteps in each episode\n",
        "\n",
        "          current_state = next_state #next_state is assigned to current_state\n",
        "          action = next_action\n",
        "          \n",
        "          if done == True: #If terminal or target state reached then stop the episode\n",
        "            done = False\n",
        "            break        \n",
        "          \n",
        "    \n",
        "    #Results after each episode\n",
        "    avg_timesteps += timestep #Capturing all timesteps for all 100 episodes\n",
        "    total_timesteps.append(avg_timesteps)\n",
        "\n",
        "    reward_values.append(total_rewards) #Append rewards in every episode\n",
        "    epsilon_values.append(epsilon) #Append epsilon values in every episode\n",
        "    \n",
        "\n",
        "    if epsilon > 0.01: #keeping epsilon in [0.01 - 1] range as if it falls below 0.01 it will exploit more: choosing best actions. We want our agent to explore a bit: choosing random actions\n",
        "        epsilon = epsilon*decay_factor\n",
        "    else:\n",
        "        epsilon = 0.01\n",
        "\n",
        "\n",
        "    if (episode % 100) == 0 and evaluation_results == False and sarsa_rewards == False: #printing results for every 100 episodes\n",
        "      print(\"Episode: {}, Rewards: {}, Average timesteps taken: {}, epsilon: {}\".format(episode, total_rewards, avg_timesteps//100, epsilon))\n",
        "      avg_timesteps = 0\n",
        "\n",
        "    #evaluation results\n",
        "    if evaluation_results:\n",
        "      if episode > total_episodes - eva_episodes:\n",
        "         eva_rewards.append(reward)\n",
        "\n",
        "    #printing the optimal path in last episode\n",
        "    if episode == total_episodes:\n",
        "          print(\"Optimal Path: \")\n",
        "          for i in optimal:\n",
        "            print(i,\"->\", end = \" \")\n",
        "          print(next_state+1)\n",
        "\n",
        "  #rewards  \n",
        "  if sarsa_rewards:\n",
        "      return reward_values\n",
        "\n",
        "  #Final Q - Table\n",
        "  print(\"Q Table: \\n\", q_table)\n",
        "\n",
        "  #Plotting the results\n",
        "  #x, y co-ordinates\n",
        "  x = [episode for episode in range(total_episodes)]\n",
        "  yr = reward_values\n",
        "  ye = epsilon_values\n",
        "\n",
        "  yr_eva = eva_rewards\n",
        "  x_eva = [episode for episode in range(eva_episodes)]\n",
        " \n",
        "\n",
        "  if evaluation_results:\n",
        "      #episodes vs rewards\n",
        "      plt.plot(x_eva,yr_eva)\n",
        "      plt.title(\"Rewards per episode\")\n",
        "      plt.xlabel('Episodes')\n",
        "      plt.ylabel('Rewards')\n",
        "\n",
        "  else:\n",
        "      #episodes vs epsilon\n",
        "      #Plots showing episodes vs epsilon, episodes vs rewards\n",
        "      fig, (ax1, ax2) = plt.subplots(1, 2, figsize=(10,4))\n",
        "      ax1.plot(x, ye)\n",
        "      ax1.set_title(\"Epsilon decay\")\n",
        "\n",
        "      #episodes vs rewards\n",
        "      ax2.plot(x,yr)\n",
        "      ax2.set_title(\"Rewards per episode\")\n",
        "\n"
      ],
      "metadata": {
        "id": "8AdfV8aowka0"
      },
      "execution_count": 16,
      "outputs": []
    },
    {
      "cell_type": "markdown",
      "source": [
        "SARSA Deterministic environment"
      ],
      "metadata": {
        "id": "dCPrLgHEKJPv"
      }
    },
    {
      "cell_type": "code",
      "source": [
        "sarsa(deterministic = True)"
      ],
      "metadata": {
        "colab": {
          "base_uri": "https://localhost:8080/",
          "height": 1000
        },
        "id": "zDMYiXsJKCIJ",
        "outputId": "12a12a04-2bf2-4049-f1c4-532b3c441755"
      },
      "execution_count": 17,
      "outputs": [
        {
          "output_type": "stream",
          "name": "stdout",
          "text": [
            "Grid Environment\n",
            "\n"
          ]
        },
        {
          "output_type": "display_data",
          "data": {
            "text/html": [
              "<style>\n",
              "       table#id12, #id12 > tbody > tr > th, #id12 > tbody > tr > td {\n",
              "         border: 1px solid lightgray;\n",
              "         border-collapse:collapse;\n",
              "         background-color: black; font-size: 25px; color: white\n",
              "        }</style>"
            ],
            "text/plain": [
              "<IPython.core.display.HTML object>"
            ]
          },
          "metadata": {}
        },
        {
          "output_type": "display_data",
          "data": {
            "text/html": [
              "<table id=id12><tr><th id=id12-0-0></th><th id=id12-0-1></th><th id=id12-0-2></th><th id=id12-0-3></th></tr><tr><th id=id12-1-0></th><td id=id12-1-1></td><td id=id12-1-2></td><td id=id12-1-3></td></tr><tr><th id=id12-2-0></th><td id=id12-2-1></td><td id=id12-2-2></td><td id=id12-2-3></td></tr><tr><th id=id12-3-0></th><td id=id12-3-1></td><td id=id12-3-2></td><td id=id12-3-3></td></tr></table>"
            ],
            "text/plain": [
              "<IPython.core.display.HTML object>"
            ]
          },
          "metadata": {}
        },
        {
          "output_type": "stream",
          "name": "stdout",
          "text": [
            "\n",
            "\n"
          ]
        },
        {
          "output_type": "display_data",
          "data": {
            "application/javascript": [
              "window[\"53251e3a-9dad-11ec-890e-0242ac1c0002\"] = google.colab.output.getActiveOutputArea();\n",
              "//# sourceURL=js_295c64d48b"
            ],
            "text/plain": [
              "<IPython.core.display.Javascript object>"
            ]
          },
          "metadata": {}
        },
        {
          "output_type": "display_data",
          "data": {
            "application/javascript": [
              "window[\"5326675e-9dad-11ec-890e-0242ac1c0002\"] = document.querySelector(\"#id12-0-0\");\n",
              "//# sourceURL=js_15ba231c92"
            ],
            "text/plain": [
              "<IPython.core.display.Javascript object>"
            ]
          },
          "metadata": {}
        },
        {
          "output_type": "display_data",
          "data": {
            "application/javascript": [
              "window[\"5327543e-9dad-11ec-890e-0242ac1c0002\"] = google.colab.output.setActiveOutputArea(window[\"5326675e-9dad-11ec-890e-0242ac1c0002\"]);\n",
              "//# sourceURL=js_08e310ede3"
            ],
            "text/plain": [
              "<IPython.core.display.Javascript object>"
            ]
          },
          "metadata": {}
        },
        {
          "output_type": "stream",
          "name": "stdout",
          "text": [
            "Start\n"
          ]
        },
        {
          "output_type": "display_data",
          "data": {
            "application/javascript": [
              "window[\"532d8aa2-9dad-11ec-890e-0242ac1c0002\"] = google.colab.output.setActiveOutputArea(window[\"53251e3a-9dad-11ec-890e-0242ac1c0002\"]);\n",
              "//# sourceURL=js_2dddff1608"
            ],
            "text/plain": [
              "<IPython.core.display.Javascript object>"
            ]
          },
          "metadata": {}
        },
        {
          "output_type": "display_data",
          "data": {
            "application/javascript": [
              "window[\"5335c208-9dad-11ec-890e-0242ac1c0002\"] = google.colab.output.getActiveOutputArea();\n",
              "//# sourceURL=js_e831d56228"
            ],
            "text/plain": [
              "<IPython.core.display.Javascript object>"
            ]
          },
          "metadata": {}
        },
        {
          "output_type": "display_data",
          "data": {
            "application/javascript": [
              "window[\"5336d274-9dad-11ec-890e-0242ac1c0002\"] = document.querySelector(\"#id12-3-3\");\n",
              "//# sourceURL=js_53d7b981fe"
            ],
            "text/plain": [
              "<IPython.core.display.Javascript object>"
            ]
          },
          "metadata": {}
        },
        {
          "output_type": "display_data",
          "data": {
            "application/javascript": [
              "window[\"5337bdd8-9dad-11ec-890e-0242ac1c0002\"] = google.colab.output.setActiveOutputArea(window[\"5336d274-9dad-11ec-890e-0242ac1c0002\"]);\n",
              "//# sourceURL=js_171aaaf120"
            ],
            "text/plain": [
              "<IPython.core.display.Javascript object>"
            ]
          },
          "metadata": {}
        },
        {
          "output_type": "stream",
          "name": "stdout",
          "text": [
            "Target\n"
          ]
        },
        {
          "output_type": "display_data",
          "data": {
            "application/javascript": [
              "window[\"533c9506-9dad-11ec-890e-0242ac1c0002\"] = google.colab.output.setActiveOutputArea(window[\"5335c208-9dad-11ec-890e-0242ac1c0002\"]);\n",
              "//# sourceURL=js_89adf78fa8"
            ],
            "text/plain": [
              "<IPython.core.display.Javascript object>"
            ]
          },
          "metadata": {}
        },
        {
          "output_type": "display_data",
          "data": {
            "application/javascript": [
              "window[\"53417ef4-9dad-11ec-890e-0242ac1c0002\"] = google.colab.output.getActiveOutputArea();\n",
              "//# sourceURL=js_beb2d1bcba"
            ],
            "text/plain": [
              "<IPython.core.display.Javascript object>"
            ]
          },
          "metadata": {}
        },
        {
          "output_type": "display_data",
          "data": {
            "application/javascript": [
              "window[\"5341f03c-9dad-11ec-890e-0242ac1c0002\"] = document.querySelector(\"#id12-1-1\");\n",
              "//# sourceURL=js_8d9dcb9bde"
            ],
            "text/plain": [
              "<IPython.core.display.Javascript object>"
            ]
          },
          "metadata": {}
        },
        {
          "output_type": "display_data",
          "data": {
            "application/javascript": [
              "window[\"53428b8c-9dad-11ec-890e-0242ac1c0002\"] = google.colab.output.setActiveOutputArea(window[\"5341f03c-9dad-11ec-890e-0242ac1c0002\"]);\n",
              "//# sourceURL=js_ebecf27e50"
            ],
            "text/plain": [
              "<IPython.core.display.Javascript object>"
            ]
          },
          "metadata": {}
        },
        {
          "output_type": "stream",
          "name": "stdout",
          "text": [
            "-1\n"
          ]
        },
        {
          "output_type": "display_data",
          "data": {
            "application/javascript": [
              "window[\"5345560a-9dad-11ec-890e-0242ac1c0002\"] = google.colab.output.setActiveOutputArea(window[\"53417ef4-9dad-11ec-890e-0242ac1c0002\"]);\n",
              "//# sourceURL=js_db9e1cbf7b"
            ],
            "text/plain": [
              "<IPython.core.display.Javascript object>"
            ]
          },
          "metadata": {}
        },
        {
          "output_type": "display_data",
          "data": {
            "application/javascript": [
              "window[\"534b672a-9dad-11ec-890e-0242ac1c0002\"] = google.colab.output.getActiveOutputArea();\n",
              "//# sourceURL=js_51d3bb2a4e"
            ],
            "text/plain": [
              "<IPython.core.display.Javascript object>"
            ]
          },
          "metadata": {}
        },
        {
          "output_type": "display_data",
          "data": {
            "application/javascript": [
              "window[\"534bb504-9dad-11ec-890e-0242ac1c0002\"] = document.querySelector(\"#id12-2-2\");\n",
              "//# sourceURL=js_d2f97c9932"
            ],
            "text/plain": [
              "<IPython.core.display.Javascript object>"
            ]
          },
          "metadata": {}
        },
        {
          "output_type": "display_data",
          "data": {
            "application/javascript": [
              "window[\"534c9c12-9dad-11ec-890e-0242ac1c0002\"] = google.colab.output.setActiveOutputArea(window[\"534bb504-9dad-11ec-890e-0242ac1c0002\"]);\n",
              "//# sourceURL=js_0824aac0e7"
            ],
            "text/plain": [
              "<IPython.core.display.Javascript object>"
            ]
          },
          "metadata": {}
        },
        {
          "output_type": "stream",
          "name": "stdout",
          "text": [
            "-2\n"
          ]
        },
        {
          "output_type": "display_data",
          "data": {
            "application/javascript": [
              "window[\"53507bac-9dad-11ec-890e-0242ac1c0002\"] = google.colab.output.setActiveOutputArea(window[\"534b672a-9dad-11ec-890e-0242ac1c0002\"]);\n",
              "//# sourceURL=js_ecba7456ee"
            ],
            "text/plain": [
              "<IPython.core.display.Javascript object>"
            ]
          },
          "metadata": {}
        },
        {
          "output_type": "display_data",
          "data": {
            "application/javascript": [
              "window[\"53571494-9dad-11ec-890e-0242ac1c0002\"] = google.colab.output.getActiveOutputArea();\n",
              "//# sourceURL=js_6a2ae03f11"
            ],
            "text/plain": [
              "<IPython.core.display.Javascript object>"
            ]
          },
          "metadata": {}
        },
        {
          "output_type": "display_data",
          "data": {
            "application/javascript": [
              "window[\"5357837a-9dad-11ec-890e-0242ac1c0002\"] = document.querySelector(\"#id12-2-0\");\n",
              "//# sourceURL=js_5e7f06bd16"
            ],
            "text/plain": [
              "<IPython.core.display.Javascript object>"
            ]
          },
          "metadata": {}
        },
        {
          "output_type": "display_data",
          "data": {
            "application/javascript": [
              "window[\"5357d28a-9dad-11ec-890e-0242ac1c0002\"] = google.colab.output.setActiveOutputArea(window[\"5357837a-9dad-11ec-890e-0242ac1c0002\"]);\n",
              "//# sourceURL=js_4d1dea9195"
            ],
            "text/plain": [
              "<IPython.core.display.Javascript object>"
            ]
          },
          "metadata": {}
        },
        {
          "output_type": "stream",
          "name": "stdout",
          "text": [
            "+3\n"
          ]
        },
        {
          "output_type": "display_data",
          "data": {
            "application/javascript": [
              "window[\"5358f304-9dad-11ec-890e-0242ac1c0002\"] = google.colab.output.setActiveOutputArea(window[\"53571494-9dad-11ec-890e-0242ac1c0002\"]);\n",
              "//# sourceURL=js_4ceb5f393a"
            ],
            "text/plain": [
              "<IPython.core.display.Javascript object>"
            ]
          },
          "metadata": {}
        },
        {
          "output_type": "display_data",
          "data": {
            "application/javascript": [
              "window[\"535fd46c-9dad-11ec-890e-0242ac1c0002\"] = google.colab.output.getActiveOutputArea();\n",
              "//# sourceURL=js_f4d7ae9429"
            ],
            "text/plain": [
              "<IPython.core.display.Javascript object>"
            ]
          },
          "metadata": {}
        },
        {
          "output_type": "display_data",
          "data": {
            "application/javascript": [
              "window[\"5360a4be-9dad-11ec-890e-0242ac1c0002\"] = document.querySelector(\"#id12-3-0\");\n",
              "//# sourceURL=js_a3e1d9952e"
            ],
            "text/plain": [
              "<IPython.core.display.Javascript object>"
            ]
          },
          "metadata": {}
        },
        {
          "output_type": "display_data",
          "data": {
            "application/javascript": [
              "window[\"5361f6de-9dad-11ec-890e-0242ac1c0002\"] = google.colab.output.setActiveOutputArea(window[\"5360a4be-9dad-11ec-890e-0242ac1c0002\"]);\n",
              "//# sourceURL=js_be07bfe751"
            ],
            "text/plain": [
              "<IPython.core.display.Javascript object>"
            ]
          },
          "metadata": {}
        },
        {
          "output_type": "stream",
          "name": "stdout",
          "text": [
            "+4\n"
          ]
        },
        {
          "output_type": "display_data",
          "data": {
            "application/javascript": [
              "window[\"5363dcd8-9dad-11ec-890e-0242ac1c0002\"] = google.colab.output.setActiveOutputArea(window[\"535fd46c-9dad-11ec-890e-0242ac1c0002\"]);\n",
              "//# sourceURL=js_d654b6341f"
            ],
            "text/plain": [
              "<IPython.core.display.Javascript object>"
            ]
          },
          "metadata": {}
        },
        {
          "output_type": "stream",
          "name": "stdout",
          "text": [
            "Episode: 100, Rewards: -3, Average timesteps taken: 18, epsilon: 0.7356422544596452\n",
            "Episode: 200, Rewards: 97, Average timesteps taken: 13, epsilon: 0.5411695265464691\n",
            "Episode: 300, Rewards: 95, Average timesteps taken: 11, epsilon: 0.39810717055350314\n",
            "Episode: 400, Rewards: 107, Average timesteps taken: 9, epsilon: 0.29286445646252957\n",
            "Episode: 500, Rewards: 107, Average timesteps taken: 8, epsilon: 0.21544346900319378\n",
            "Episode: 600, Rewards: 103, Average timesteps taken: 7, epsilon: 0.15848931924611603\n",
            "Episode: 700, Rewards: 106, Average timesteps taken: 6, epsilon: 0.11659144011798714\n",
            "Episode: 800, Rewards: 107, Average timesteps taken: 6, epsilon: 0.08576958985909275\n",
            "Episode: 900, Rewards: 107, Average timesteps taken: 6, epsilon: 0.06309573444802206\n",
            "Episode: 1000, Rewards: 107, Average timesteps taken: 6, epsilon: 0.04641588833613003\n",
            "Episode: 1100, Rewards: 107, Average timesteps taken: 6, epsilon: 0.03414548873833783\n",
            "Episode: 1200, Rewards: 107, Average timesteps taken: 6, epsilon: 0.02511886431509727\n",
            "Episode: 1300, Rewards: 107, Average timesteps taken: 6, epsilon: 0.01847849797422407\n",
            "Episode: 1400, Rewards: 107, Average timesteps taken: 6, epsilon: 0.013593563908786174\n",
            "Episode: 1500, Rewards: 107, Average timesteps taken: 6, epsilon: 0.010000000000000725\n",
            "Optimal Path: \n",
            "1 -> 5 -> 9 -> 13 -> 14 -> 15 -> 15 -> 16\n",
            "Q Table: \n",
            " [[ 83.62606281  76.21456996  56.34834526  73.35950752]\n",
            " [ 67.43041883  16.4975812   12.69085235  33.10066237]\n",
            " [ 31.12392665   3.1486359    4.17796767  10.72544047]\n",
            " [ 21.53726193   2.34033437   5.04225988   1.0715774 ]\n",
            " [ 88.09751347  72.89377126  65.26958193  79.08675511]\n",
            " [ 48.44778668  18.56621409  38.75561957  80.62932866]\n",
            " [ 63.26052001   7.23324123  17.83419102   7.84249679]\n",
            " [ 62.52237997   8.03050208  24.22346806   8.38190111]\n",
            " [ 89.65692893  76.42668447  83.33641917  86.86469156]\n",
            " [ 89.0687089   32.89846484  57.32553798  55.50402685]\n",
            " [ 94.09289504  16.26533111  55.02137855  44.69032858]\n",
            " [ 99.92157894  20.6265568   59.10184044  27.23887387]\n",
            " [ 87.79045234  84.94843763  90.22253735  86.98096135]\n",
            " [ 88.68888202  82.89198301  94.24273469  86.19061613]\n",
            " [ 94.76012126  81.92777426 100.          87.17690738]\n",
            " [  0.           0.           0.           0.        ]]\n"
          ]
        },
        {
          "output_type": "display_data",
          "data": {
            "image/png": "[encoded data removed]",
            "text/plain": [
              "<Figure size 720x288 with 2 Axes>"
            ]
          },
          "metadata": {
            "needs_background": "light"
          }
        }
      ]
    },
    {
      "cell_type": "markdown",
      "source": [
        "SARSA Stochastic environment"
      ],
      "metadata": {
        "id": "wMPDBrPsKENg"
      }
    },
    {
      "cell_type": "code",
      "source": [
        "sarsa(stochastic = True)"
      ],
      "metadata": {
        "colab": {
          "base_uri": "https://localhost:8080/",
          "height": 1000
        },
        "id": "la9QPnKPI5GG",
        "outputId": "7e22b5f6-2790-4c0d-8366-44a6c01e5015"
      },
      "execution_count": 18,
      "outputs": [
        {
          "output_type": "stream",
          "name": "stdout",
          "text": [
            "Grid Environment\n",
            "\n"
          ]
        },
        {
          "output_type": "display_data",
          "data": {
            "text/html": [
              "<style>\n",
              "       table#id14, #id14 > tbody > tr > th, #id14 > tbody > tr > td {\n",
              "         border: 1px solid lightgray;\n",
              "         border-collapse:collapse;\n",
              "         background-color: black; font-size: 25px; color: white\n",
              "        }</style>"
            ],
            "text/plain": [
              "<IPython.core.display.HTML object>"
            ]
          },
          "metadata": {}
        },
        {
          "output_type": "display_data",
          "data": {
            "text/html": [
              "<table id=id14><tr><th id=id14-0-0></th><th id=id14-0-1></th><th id=id14-0-2></th><th id=id14-0-3></th></tr><tr><th id=id14-1-0></th><td id=id14-1-1></td><td id=id14-1-2></td><td id=id14-1-3></td></tr><tr><th id=id14-2-0></th><td id=id14-2-1></td><td id=id14-2-2></td><td id=id14-2-3></td></tr><tr><th id=id14-3-0></th><td id=id14-3-1></td><td id=id14-3-2></td><td id=id14-3-3></td></tr></table>"
            ],
            "text/plain": [
              "<IPython.core.display.HTML object>"
            ]
          },
          "metadata": {}
        },
        {
          "output_type": "stream",
          "name": "stdout",
          "text": [
            "\n",
            "\n"
          ]
        },
        {
          "output_type": "display_data",
          "data": {
            "application/javascript": [
              "window[\"578d3a34-9dad-11ec-890e-0242ac1c0002\"] = google.colab.output.getActiveOutputArea();\n",
              "//# sourceURL=js_585386ff3d"
            ],
            "text/plain": [
              "<IPython.core.display.Javascript object>"
            ]
          },
          "metadata": {}
        },
        {
          "output_type": "display_data",
          "data": {
            "application/javascript": [
              "window[\"578da4b0-9dad-11ec-890e-0242ac1c0002\"] = document.querySelector(\"#id14-0-0\");\n",
              "//# sourceURL=js_dc4882e18d"
            ],
            "text/plain": [
              "<IPython.core.display.Javascript object>"
            ]
          },
          "metadata": {}
        },
        {
          "output_type": "display_data",
          "data": {
            "application/javascript": [
              "window[\"578dfa6e-9dad-11ec-890e-0242ac1c0002\"] = google.colab.output.setActiveOutputArea(window[\"578da4b0-9dad-11ec-890e-0242ac1c0002\"]);\n",
              "//# sourceURL=js_e3fdfd954f"
            ],
            "text/plain": [
              "<IPython.core.display.Javascript object>"
            ]
          },
          "metadata": {}
        },
        {
          "output_type": "stream",
          "name": "stdout",
          "text": [
            "Start\n"
          ]
        },
        {
          "output_type": "display_data",
          "data": {
            "application/javascript": [
              "window[\"578f641c-9dad-11ec-890e-0242ac1c0002\"] = google.colab.output.setActiveOutputArea(window[\"578d3a34-9dad-11ec-890e-0242ac1c0002\"]);\n",
              "//# sourceURL=js_38acd6f530"
            ],
            "text/plain": [
              "<IPython.core.display.Javascript object>"
            ]
          },
          "metadata": {}
        },
        {
          "output_type": "display_data",
          "data": {
            "application/javascript": [
              "window[\"57915164-9dad-11ec-890e-0242ac1c0002\"] = google.colab.output.getActiveOutputArea();\n",
              "//# sourceURL=js_49eac7be33"
            ],
            "text/plain": [
              "<IPython.core.display.Javascript object>"
            ]
          },
          "metadata": {}
        },
        {
          "output_type": "display_data",
          "data": {
            "application/javascript": [
              "window[\"57919e12-9dad-11ec-890e-0242ac1c0002\"] = document.querySelector(\"#id14-3-3\");\n",
              "//# sourceURL=js_ae6a1220f9"
            ],
            "text/plain": [
              "<IPython.core.display.Javascript object>"
            ]
          },
          "metadata": {}
        },
        {
          "output_type": "display_data",
          "data": {
            "application/javascript": [
              "window[\"5791e1a6-9dad-11ec-890e-0242ac1c0002\"] = google.colab.output.setActiveOutputArea(window[\"57919e12-9dad-11ec-890e-0242ac1c0002\"]);\n",
              "//# sourceURL=js_0343ba5a23"
            ],
            "text/plain": [
              "<IPython.core.display.Javascript object>"
            ]
          },
          "metadata": {}
        },
        {
          "output_type": "stream",
          "name": "stdout",
          "text": [
            "Target\n"
          ]
        },
        {
          "output_type": "display_data",
          "data": {
            "application/javascript": [
              "window[\"57931fee-9dad-11ec-890e-0242ac1c0002\"] = google.colab.output.setActiveOutputArea(window[\"57915164-9dad-11ec-890e-0242ac1c0002\"]);\n",
              "//# sourceURL=js_0a54761157"
            ],
            "text/plain": [
              "<IPython.core.display.Javascript object>"
            ]
          },
          "metadata": {}
        },
        {
          "output_type": "display_data",
          "data": {
            "application/javascript": [
              "window[\"57950822-9dad-11ec-890e-0242ac1c0002\"] = google.colab.output.getActiveOutputArea();\n",
              "//# sourceURL=js_b93eed9a5c"
            ],
            "text/plain": [
              "<IPython.core.display.Javascript object>"
            ]
          },
          "metadata": {}
        },
        {
          "output_type": "display_data",
          "data": {
            "application/javascript": [
              "window[\"57955caa-9dad-11ec-890e-0242ac1c0002\"] = document.querySelector(\"#id14-1-1\");\n",
              "//# sourceURL=js_b7cd388b30"
            ],
            "text/plain": [
              "<IPython.core.display.Javascript object>"
            ]
          },
          "metadata": {}
        },
        {
          "output_type": "display_data",
          "data": {
            "application/javascript": [
              "window[\"5795af02-9dad-11ec-890e-0242ac1c0002\"] = google.colab.output.setActiveOutputArea(window[\"57955caa-9dad-11ec-890e-0242ac1c0002\"]);\n",
              "//# sourceURL=js_c38723309f"
            ],
            "text/plain": [
              "<IPython.core.display.Javascript object>"
            ]
          },
          "metadata": {}
        },
        {
          "output_type": "stream",
          "name": "stdout",
          "text": [
            "-1\n"
          ]
        },
        {
          "output_type": "display_data",
          "data": {
            "application/javascript": [
              "window[\"5796f68c-9dad-11ec-890e-0242ac1c0002\"] = google.colab.output.setActiveOutputArea(window[\"57950822-9dad-11ec-890e-0242ac1c0002\"]);\n",
              "//# sourceURL=js_50a3b0ebfc"
            ],
            "text/plain": [
              "<IPython.core.display.Javascript object>"
            ]
          },
          "metadata": {}
        },
        {
          "output_type": "display_data",
          "data": {
            "application/javascript": [
              "window[\"5798dee8-9dad-11ec-890e-0242ac1c0002\"] = google.colab.output.getActiveOutputArea();\n",
              "//# sourceURL=js_30cafb6c57"
            ],
            "text/plain": [
              "<IPython.core.display.Javascript object>"
            ]
          },
          "metadata": {}
        },
        {
          "output_type": "display_data",
          "data": {
            "application/javascript": [
              "window[\"579931fe-9dad-11ec-890e-0242ac1c0002\"] = document.querySelector(\"#id14-2-2\");\n",
              "//# sourceURL=js_de70dc5abb"
            ],
            "text/plain": [
              "<IPython.core.display.Javascript object>"
            ]
          },
          "metadata": {}
        },
        {
          "output_type": "display_data",
          "data": {
            "application/javascript": [
              "window[\"579984ec-9dad-11ec-890e-0242ac1c0002\"] = google.colab.output.setActiveOutputArea(window[\"579931fe-9dad-11ec-890e-0242ac1c0002\"]);\n",
              "//# sourceURL=js_417856c85b"
            ],
            "text/plain": [
              "<IPython.core.display.Javascript object>"
            ]
          },
          "metadata": {}
        },
        {
          "output_type": "stream",
          "name": "stdout",
          "text": [
            "-2\n"
          ]
        },
        {
          "output_type": "display_data",
          "data": {
            "application/javascript": [
              "window[\"579abc04-9dad-11ec-890e-0242ac1c0002\"] = google.colab.output.setActiveOutputArea(window[\"5798dee8-9dad-11ec-890e-0242ac1c0002\"]);\n",
              "//# sourceURL=js_86df9bd018"
            ],
            "text/plain": [
              "<IPython.core.display.Javascript object>"
            ]
          },
          "metadata": {}
        },
        {
          "output_type": "display_data",
          "data": {
            "application/javascript": [
              "window[\"579ca6ea-9dad-11ec-890e-0242ac1c0002\"] = google.colab.output.getActiveOutputArea();\n",
              "//# sourceURL=js_8c165a7329"
            ],
            "text/plain": [
              "<IPython.core.display.Javascript object>"
            ]
          },
          "metadata": {}
        },
        {
          "output_type": "display_data",
          "data": {
            "application/javascript": [
              "window[\"579cfdfc-9dad-11ec-890e-0242ac1c0002\"] = document.querySelector(\"#id14-2-0\");\n",
              "//# sourceURL=js_27d34fb3a5"
            ],
            "text/plain": [
              "<IPython.core.display.Javascript object>"
            ]
          },
          "metadata": {}
        },
        {
          "output_type": "display_data",
          "data": {
            "application/javascript": [
              "window[\"579d4ca8-9dad-11ec-890e-0242ac1c0002\"] = google.colab.output.setActiveOutputArea(window[\"579cfdfc-9dad-11ec-890e-0242ac1c0002\"]);\n",
              "//# sourceURL=js_bc6f2435ef"
            ],
            "text/plain": [
              "<IPython.core.display.Javascript object>"
            ]
          },
          "metadata": {}
        },
        {
          "output_type": "stream",
          "name": "stdout",
          "text": [
            "+3\n"
          ]
        },
        {
          "output_type": "display_data",
          "data": {
            "application/javascript": [
              "window[\"579e9360-9dad-11ec-890e-0242ac1c0002\"] = google.colab.output.setActiveOutputArea(window[\"579ca6ea-9dad-11ec-890e-0242ac1c0002\"]);\n",
              "//# sourceURL=js_93784b0447"
            ],
            "text/plain": [
              "<IPython.core.display.Javascript object>"
            ]
          },
          "metadata": {}
        },
        {
          "output_type": "display_data",
          "data": {
            "application/javascript": [
              "window[\"57a0806c-9dad-11ec-890e-0242ac1c0002\"] = google.colab.output.getActiveOutputArea();\n",
              "//# sourceURL=js_4f879d9a0f"
            ],
            "text/plain": [
              "<IPython.core.display.Javascript object>"
            ]
          },
          "metadata": {}
        },
        {
          "output_type": "display_data",
          "data": {
            "application/javascript": [
              "window[\"57a0cd6a-9dad-11ec-890e-0242ac1c0002\"] = document.querySelector(\"#id14-3-0\");\n",
              "//# sourceURL=js_a1c866ac31"
            ],
            "text/plain": [
              "<IPython.core.display.Javascript object>"
            ]
          },
          "metadata": {}
        },
        {
          "output_type": "display_data",
          "data": {
            "application/javascript": [
              "window[\"57a12058-9dad-11ec-890e-0242ac1c0002\"] = google.colab.output.setActiveOutputArea(window[\"57a0cd6a-9dad-11ec-890e-0242ac1c0002\"]);\n",
              "//# sourceURL=js_9ef892daa0"
            ],
            "text/plain": [
              "<IPython.core.display.Javascript object>"
            ]
          },
          "metadata": {}
        },
        {
          "output_type": "stream",
          "name": "stdout",
          "text": [
            "+4\n"
          ]
        },
        {
          "output_type": "display_data",
          "data": {
            "application/javascript": [
              "window[\"57a263aa-9dad-11ec-890e-0242ac1c0002\"] = google.colab.output.setActiveOutputArea(window[\"57a0806c-9dad-11ec-890e-0242ac1c0002\"]);\n",
              "//# sourceURL=js_623a6c02f3"
            ],
            "text/plain": [
              "<IPython.core.display.Javascript object>"
            ]
          },
          "metadata": {}
        },
        {
          "output_type": "stream",
          "name": "stdout",
          "text": [
            "Episode: 100, Rewards: 16, Average timesteps taken: 19, epsilon: 0.7356422544596452\n",
            "Episode: 200, Rewards: 20, Average timesteps taken: 19, epsilon: 0.5411695265464691\n",
            "Episode: 300, Rewards: 9, Average timesteps taken: 18, epsilon: 0.39810717055350314\n",
            "Episode: 400, Rewards: 48, Average timesteps taken: 16, epsilon: 0.29286445646252957\n",
            "Episode: 500, Rewards: 51, Average timesteps taken: 19, epsilon: 0.21544346900319378\n",
            "Episode: 600, Rewards: 60, Average timesteps taken: 20, epsilon: 0.15848931924611603\n",
            "Episode: 700, Rewards: 63, Average timesteps taken: 19, epsilon: 0.11659144011798714\n",
            "Episode: 800, Rewards: 37, Average timesteps taken: 20, epsilon: 0.08576958985909275\n",
            "Episode: 900, Rewards: 59, Average timesteps taken: 20, epsilon: 0.06309573444802206\n",
            "Episode: 1000, Rewards: 70, Average timesteps taken: 20, epsilon: 0.04641588833613003\n",
            "Episode: 1100, Rewards: 75, Average timesteps taken: 20, epsilon: 0.03414548873833783\n",
            "Episode: 1200, Rewards: 70, Average timesteps taken: 20, epsilon: 0.02511886431509727\n",
            "Episode: 1300, Rewards: 28, Average timesteps taken: 20, epsilon: 0.01847849797422407\n",
            "Episode: 1400, Rewards: 61, Average timesteps taken: 20, epsilon: 0.013593563908786174\n",
            "Episode: 1500, Rewards: 75, Average timesteps taken: 20, epsilon: 0.010000000000000725\n",
            "Optimal Path: \n",
            "1 -> 5 -> 9 -> 13 -> 13 -> 13 -> 13 -> 13 -> 13 -> 13 -> 13 -> 13 -> 13 -> 13 -> 13 -> 13 -> 13 -> 13 -> 13 -> 13 -> 13\n",
            "Q Table: \n",
            " [[ 6.97124147e+01  5.91617014e+01  5.54816576e+01  6.04903706e+01]\n",
            " [ 1.75762674e+01  2.08124558e+01  1.38739492e+01  5.93187198e+01]\n",
            " [ 2.64364447e+00  3.33831089e+00  3.30548162e-01  1.88830401e+01]\n",
            " [-2.20445071e-02  1.09939305e-01 -2.89712222e-02  1.76580657e+00]\n",
            " [ 7.41962276e+01  5.87823100e+01  5.73238757e+01  6.33394317e+01]\n",
            " [ 3.13245368e+01  1.99692900e+01  9.23542286e+00  6.22995558e+01]\n",
            " [ 5.43872479e+00  8.84751778e-01 -3.59020613e-02  2.12741832e+01]\n",
            " [-1.81080679e-01  5.61448261e-02 -1.72014395e-02  2.13886043e+00]\n",
            " [ 7.68547575e+01  6.35323073e+01  6.34693209e+01  7.16585476e+01]\n",
            " [ 2.42614809e+01  1.60330851e+01  2.07115390e+01  7.13812390e+01]\n",
            " [ 4.23820420e+01  1.92067612e+00  4.65117315e+00  8.19591424e+00]\n",
            " [ 2.17514263e+01 -5.76890696e-03  1.71826304e+00 -4.69674782e-01]\n",
            " [ 7.80390006e+01  7.44595350e+01  7.54402621e+01  7.83887766e+01]\n",
            " [ 5.29910215e+01  4.08247749e+01  6.77817040e+01  7.85116641e+01]\n",
            " [ 6.20500661e+01  1.45338422e+01  8.63331453e+01  3.85666903e+01]\n",
            " [ 0.00000000e+00  0.00000000e+00  0.00000000e+00  0.00000000e+00]]\n"
          ]
        },
        {
          "output_type": "display_data",
          "data": {
            "image/png": "[encoded data removed]",
            "text/plain": [
              "<Figure size 720x288 with 2 Axes>"
            ]
          },
          "metadata": {
            "needs_background": "light"
          }
        }
      ]
    },
    {
      "cell_type": "code",
      "source": [
        ""
      ],
      "metadata": {
        "id": "-1S2HX-mI4b_"
      },
      "execution_count": null,
      "outputs": []
    },
    {
      "cell_type": "markdown",
      "source": [
        "##Evaluation Results"
      ],
      "metadata": {
        "id": "IVA5dN_SKw-L"
      }
    },
    {
      "cell_type": "code",
      "source": [
        "q_learning(deterministic = True, evaluation_results = True)"
      ],
      "metadata": {
        "colab": {
          "base_uri": "https://localhost:8080/",
          "height": 834
        },
        "id": "nroXVxz7Ku4l",
        "outputId": "1d1cd34b-fa59-4d0f-909f-7bb325955d5e"
      },
      "execution_count": null,
      "outputs": [
        {
          "output_type": "stream",
          "name": "stdout",
          "text": [
            "Grid Environment\n",
            "\n"
          ]
        },
        {
          "output_type": "display_data",
          "data": {
            "text/html": [
              "<style>\n",
              "       table#id6, #id6 > tbody > tr > th, #id6 > tbody > tr > td {\n",
              "         border: 1px solid lightgray;\n",
              "         border-collapse:collapse;\n",
              "         background-color: black; font-size: 25px; color: white\n",
              "        }</style>"
            ],
            "text/plain": [
              "<IPython.core.display.HTML object>"
            ]
          },
          "metadata": {}
        },
        {
          "output_type": "display_data",
          "data": {
            "text/html": [
              "<table id=id6><tr><th id=id6-0-0></th><th id=id6-0-1></th><th id=id6-0-2></th><th id=id6-0-3></th></tr><tr><th id=id6-1-0></th><td id=id6-1-1></td><td id=id6-1-2></td><td id=id6-1-3></td></tr><tr><th id=id6-2-0></th><td id=id6-2-1></td><td id=id6-2-2></td><td id=id6-2-3></td></tr><tr><th id=id6-3-0></th><td id=id6-3-1></td><td id=id6-3-2></td><td id=id6-3-3></td></tr></table>"
            ],
            "text/plain": [
              "<IPython.core.display.HTML object>"
            ]
          },
          "metadata": {}
        },
        {
          "output_type": "stream",
          "name": "stdout",
          "text": [
            "\n",
            "\n"
          ]
        },
        {
          "output_type": "display_data",
          "data": {
            "application/javascript": [
              "window[\"309c0ffc-9ce7-11ec-81df-0242ac1c0002\"] = google.colab.output.getActiveOutputArea();\n",
              "//# sourceURL=js_fea076bedb"
            ],
            "text/plain": [
              "<IPython.core.display.Javascript object>"
            ]
          },
          "metadata": {}
        },
        {
          "output_type": "display_data",
          "data": {
            "application/javascript": [
              "window[\"309cb600-9ce7-11ec-81df-0242ac1c0002\"] = document.querySelector(\"#id6-0-0\");\n",
              "//# sourceURL=js_40976561a9"
            ],
            "text/plain": [
              "<IPython.core.display.Javascript object>"
            ]
          },
          "metadata": {}
        },
        {
          "output_type": "display_data",
          "data": {
            "application/javascript": [
              "window[\"309d248c-9ce7-11ec-81df-0242ac1c0002\"] = google.colab.output.setActiveOutputArea(window[\"309cb600-9ce7-11ec-81df-0242ac1c0002\"]);\n",
              "//# sourceURL=js_9b48d554a4"
            ],
            "text/plain": [
              "<IPython.core.display.Javascript object>"
            ]
          },
          "metadata": {}
        },
        {
          "output_type": "stream",
          "name": "stdout",
          "text": [
            "Start\n"
          ]
        },
        {
          "output_type": "display_data",
          "data": {
            "application/javascript": [
              "window[\"309f9bf4-9ce7-11ec-81df-0242ac1c0002\"] = google.colab.output.setActiveOutputArea(window[\"309c0ffc-9ce7-11ec-81df-0242ac1c0002\"]);\n",
              "//# sourceURL=js_9529698999"
            ],
            "text/plain": [
              "<IPython.core.display.Javascript object>"
            ]
          },
          "metadata": {}
        },
        {
          "output_type": "display_data",
          "data": {
            "application/javascript": [
              "window[\"30a637fc-9ce7-11ec-81df-0242ac1c0002\"] = google.colab.output.getActiveOutputArea();\n",
              "//# sourceURL=js_0c0913dff8"
            ],
            "text/plain": [
              "<IPython.core.display.Javascript object>"
            ]
          },
          "metadata": {}
        },
        {
          "output_type": "display_data",
          "data": {
            "application/javascript": [
              "window[\"30a6a458-9ce7-11ec-81df-0242ac1c0002\"] = document.querySelector(\"#id6-3-3\");\n",
              "//# sourceURL=js_75ef1aaacb"
            ],
            "text/plain": [
              "<IPython.core.display.Javascript object>"
            ]
          },
          "metadata": {}
        },
        {
          "output_type": "display_data",
          "data": {
            "application/javascript": [
              "window[\"30a6f2e6-9ce7-11ec-81df-0242ac1c0002\"] = google.colab.output.setActiveOutputArea(window[\"30a6a458-9ce7-11ec-81df-0242ac1c0002\"]);\n",
              "//# sourceURL=js_b2ed23b090"
            ],
            "text/plain": [
              "<IPython.core.display.Javascript object>"
            ]
          },
          "metadata": {}
        },
        {
          "output_type": "stream",
          "name": "stdout",
          "text": [
            "Target\n"
          ]
        },
        {
          "output_type": "display_data",
          "data": {
            "application/javascript": [
              "window[\"30a8195a-9ce7-11ec-81df-0242ac1c0002\"] = google.colab.output.setActiveOutputArea(window[\"30a637fc-9ce7-11ec-81df-0242ac1c0002\"]);\n",
              "//# sourceURL=js_fcab36594d"
            ],
            "text/plain": [
              "<IPython.core.display.Javascript object>"
            ]
          },
          "metadata": {}
        },
        {
          "output_type": "display_data",
          "data": {
            "application/javascript": [
              "window[\"30a9d998-9ce7-11ec-81df-0242ac1c0002\"] = google.colab.output.getActiveOutputArea();\n",
              "//# sourceURL=js_382fef0fa2"
            ],
            "text/plain": [
              "<IPython.core.display.Javascript object>"
            ]
          },
          "metadata": {}
        },
        {
          "output_type": "display_data",
          "data": {
            "application/javascript": [
              "window[\"30aa2c36-9ce7-11ec-81df-0242ac1c0002\"] = document.querySelector(\"#id6-1-1\");\n",
              "//# sourceURL=js_206cf9348b"
            ],
            "text/plain": [
              "<IPython.core.display.Javascript object>"
            ]
          },
          "metadata": {}
        },
        {
          "output_type": "display_data",
          "data": {
            "application/javascript": [
              "window[\"30aa7a38-9ce7-11ec-81df-0242ac1c0002\"] = google.colab.output.setActiveOutputArea(window[\"30aa2c36-9ce7-11ec-81df-0242ac1c0002\"]);\n",
              "//# sourceURL=js_40e1b51a50"
            ],
            "text/plain": [
              "<IPython.core.display.Javascript object>"
            ]
          },
          "metadata": {}
        },
        {
          "output_type": "stream",
          "name": "stdout",
          "text": [
            "-1\n"
          ]
        },
        {
          "output_type": "display_data",
          "data": {
            "application/javascript": [
              "window[\"30ab935a-9ce7-11ec-81df-0242ac1c0002\"] = google.colab.output.setActiveOutputArea(window[\"30a9d998-9ce7-11ec-81df-0242ac1c0002\"]);\n",
              "//# sourceURL=js_f731018e48"
            ],
            "text/plain": [
              "<IPython.core.display.Javascript object>"
            ]
          },
          "metadata": {}
        },
        {
          "output_type": "display_data",
          "data": {
            "application/javascript": [
              "window[\"30ad564a-9ce7-11ec-81df-0242ac1c0002\"] = google.colab.output.getActiveOutputArea();\n",
              "//# sourceURL=js_c3e44d5c9d"
            ],
            "text/plain": [
              "<IPython.core.display.Javascript object>"
            ]
          },
          "metadata": {}
        },
        {
          "output_type": "display_data",
          "data": {
            "application/javascript": [
              "window[\"30ada1ae-9ce7-11ec-81df-0242ac1c0002\"] = document.querySelector(\"#id6-2-2\");\n",
              "//# sourceURL=js_4a5ca90cde"
            ],
            "text/plain": [
              "<IPython.core.display.Javascript object>"
            ]
          },
          "metadata": {}
        },
        {
          "output_type": "display_data",
          "data": {
            "application/javascript": [
              "window[\"30aea0ea-9ce7-11ec-81df-0242ac1c0002\"] = google.colab.output.setActiveOutputArea(window[\"30ada1ae-9ce7-11ec-81df-0242ac1c0002\"]);\n",
              "//# sourceURL=js_0600349f69"
            ],
            "text/plain": [
              "<IPython.core.display.Javascript object>"
            ]
          },
          "metadata": {}
        },
        {
          "output_type": "stream",
          "name": "stdout",
          "text": [
            "-2\n"
          ]
        },
        {
          "output_type": "display_data",
          "data": {
            "application/javascript": [
              "window[\"30b0c88e-9ce7-11ec-81df-0242ac1c0002\"] = google.colab.output.setActiveOutputArea(window[\"30ad564a-9ce7-11ec-81df-0242ac1c0002\"]);\n",
              "//# sourceURL=js_6aa4e62795"
            ],
            "text/plain": [
              "<IPython.core.display.Javascript object>"
            ]
          },
          "metadata": {}
        },
        {
          "output_type": "display_data",
          "data": {
            "application/javascript": [
              "window[\"30b36b66-9ce7-11ec-81df-0242ac1c0002\"] = google.colab.output.getActiveOutputArea();\n",
              "//# sourceURL=js_c2b03dff5f"
            ],
            "text/plain": [
              "<IPython.core.display.Javascript object>"
            ]
          },
          "metadata": {}
        },
        {
          "output_type": "display_data",
          "data": {
            "application/javascript": [
              "window[\"30b42f7e-9ce7-11ec-81df-0242ac1c0002\"] = document.querySelector(\"#id6-2-0\");\n",
              "//# sourceURL=js_2d228b0b9a"
            ],
            "text/plain": [
              "<IPython.core.display.Javascript object>"
            ]
          },
          "metadata": {}
        },
        {
          "output_type": "display_data",
          "data": {
            "application/javascript": [
              "window[\"30b48104-9ce7-11ec-81df-0242ac1c0002\"] = google.colab.output.setActiveOutputArea(window[\"30b42f7e-9ce7-11ec-81df-0242ac1c0002\"]);\n",
              "//# sourceURL=js_673d3eb09b"
            ],
            "text/plain": [
              "<IPython.core.display.Javascript object>"
            ]
          },
          "metadata": {}
        },
        {
          "output_type": "stream",
          "name": "stdout",
          "text": [
            "+3\n"
          ]
        },
        {
          "output_type": "display_data",
          "data": {
            "application/javascript": [
              "window[\"30b6298c-9ce7-11ec-81df-0242ac1c0002\"] = google.colab.output.setActiveOutputArea(window[\"30b36b66-9ce7-11ec-81df-0242ac1c0002\"]);\n",
              "//# sourceURL=js_be8b3b9124"
            ],
            "text/plain": [
              "<IPython.core.display.Javascript object>"
            ]
          },
          "metadata": {}
        },
        {
          "output_type": "display_data",
          "data": {
            "application/javascript": [
              "window[\"30baac64-9ce7-11ec-81df-0242ac1c0002\"] = google.colab.output.getActiveOutputArea();\n",
              "//# sourceURL=js_c68d9ad85b"
            ],
            "text/plain": [
              "<IPython.core.display.Javascript object>"
            ]
          },
          "metadata": {}
        },
        {
          "output_type": "display_data",
          "data": {
            "application/javascript": [
              "window[\"30bb36de-9ce7-11ec-81df-0242ac1c0002\"] = document.querySelector(\"#id6-3-0\");\n",
              "//# sourceURL=js_6737686062"
            ],
            "text/plain": [
              "<IPython.core.display.Javascript object>"
            ]
          },
          "metadata": {}
        },
        {
          "output_type": "display_data",
          "data": {
            "application/javascript": [
              "window[\"30bba52e-9ce7-11ec-81df-0242ac1c0002\"] = google.colab.output.setActiveOutputArea(window[\"30bb36de-9ce7-11ec-81df-0242ac1c0002\"]);\n",
              "//# sourceURL=js_94e6b29902"
            ],
            "text/plain": [
              "<IPython.core.display.Javascript object>"
            ]
          },
          "metadata": {}
        },
        {
          "output_type": "stream",
          "name": "stdout",
          "text": [
            "+4\n"
          ]
        },
        {
          "output_type": "display_data",
          "data": {
            "application/javascript": [
              "window[\"30be7204-9ce7-11ec-81df-0242ac1c0002\"] = google.colab.output.setActiveOutputArea(window[\"30baac64-9ce7-11ec-81df-0242ac1c0002\"]);\n",
              "//# sourceURL=js_7d62a2425e"
            ],
            "text/plain": [
              "<IPython.core.display.Javascript object>"
            ]
          },
          "metadata": {}
        },
        {
          "output_type": "stream",
          "name": "stdout",
          "text": [
            "Evaluation Results\n",
            "Optimal Path: \n",
            "1 -> 5 -> 9 -> 13 -> 14 -> 15 -> 16\n",
            "Q Table: \n",
            " [[ 83.83809375  79.64589243  75.66284679  79.64594412]\n",
            " [ 76.92822259  61.41210746  65.27750844  79.64603354]\n",
            " [ 79.84511118  41.71812196  19.25811412  34.09899186]\n",
            " [ 51.29748048   1.21195031  10.56239356   5.39326265]\n",
            " [ 88.250625    79.64529365  78.61788724  83.83807293]\n",
            " [ 81.6341517   61.88522423  83.83506823  79.10248005]\n",
            " [ 88.24969515  52.96123155  66.25563017  76.20030705]\n",
            " [ 89.37645141   7.2617063   38.41980329  61.35237884]\n",
            " [ 89.7375      83.83785211  85.73735927  88.24993784]\n",
            " [ 90.24999999  76.10367542  87.07537435  85.29739041]\n",
            " [ 94.99999987  79.73046177  93.4524722   84.10991257]\n",
            " [ 99.89145873  49.34170142  49.01263285  50.79364863]\n",
            " [ 89.73708751  88.25028955  90.25        89.73746592]\n",
            " [ 90.24997071  85.73716303  95.          89.73748597]\n",
            " [ 94.9999887   88.24973599 100.          90.24965367]\n",
            " [  0.           0.           0.           0.        ]]\n"
          ]
        },
        {
          "output_type": "display_data",
          "data": {
            "image/png": "[encoded data removed]",
            "text/plain": [
              "<Figure size 432x288 with 1 Axes>"
            ]
          },
          "metadata": {
            "needs_background": "light"
          }
        }
      ]
    },
    {
      "cell_type": "code",
      "source": [
        "q_learning(stochastic = True, evaluation_results = True)"
      ],
      "metadata": {
        "colab": {
          "base_uri": "https://localhost:8080/",
          "height": 834
        },
        "id": "Cdpd7o-nQ2xp",
        "outputId": "0db336be-589f-427f-af3b-dfc228e7bebd"
      },
      "execution_count": null,
      "outputs": [
        {
          "output_type": "stream",
          "name": "stdout",
          "text": [
            "Grid Environment\n",
            "\n"
          ]
        },
        {
          "output_type": "display_data",
          "data": {
            "text/html": [
              "<style>\n",
              "       table#id70, #id70 > tbody > tr > th, #id70 > tbody > tr > td {\n",
              "         border: 1px solid lightgray;\n",
              "         border-collapse:collapse;\n",
              "         background-color: black; font-size: 25px; color: white\n",
              "        }</style>"
            ],
            "text/plain": [
              "<IPython.core.display.HTML object>"
            ]
          },
          "metadata": {}
        },
        {
          "output_type": "display_data",
          "data": {
            "text/html": [
              "<table id=id70><tr><th id=id70-0-0></th><th id=id70-0-1></th><th id=id70-0-2></th><th id=id70-0-3></th></tr><tr><th id=id70-1-0></th><td id=id70-1-1></td><td id=id70-1-2></td><td id=id70-1-3></td></tr><tr><th id=id70-2-0></th><td id=id70-2-1></td><td id=id70-2-2></td><td id=id70-2-3></td></tr><tr><th id=id70-3-0></th><td id=id70-3-1></td><td id=id70-3-2></td><td id=id70-3-3></td></tr></table>"
            ],
            "text/plain": [
              "<IPython.core.display.HTML object>"
            ]
          },
          "metadata": {}
        },
        {
          "output_type": "stream",
          "name": "stdout",
          "text": [
            "\n",
            "\n"
          ]
        },
        {
          "output_type": "display_data",
          "data": {
            "application/javascript": [
              "window[\"88819626-9cb8-11ec-9a98-0242ac1c0002\"] = google.colab.output.getActiveOutputArea();\n",
              "//# sourceURL=js_f02a631079"
            ],
            "text/plain": [
              "<IPython.core.display.Javascript object>"
            ]
          },
          "metadata": {}
        },
        {
          "output_type": "display_data",
          "data": {
            "application/javascript": [
              "window[\"888246d4-9cb8-11ec-9a98-0242ac1c0002\"] = document.querySelector(\"#id70-0-0\");\n",
              "//# sourceURL=js_2899497832"
            ],
            "text/plain": [
              "<IPython.core.display.Javascript object>"
            ]
          },
          "metadata": {}
        },
        {
          "output_type": "display_data",
          "data": {
            "application/javascript": [
              "window[\"88830dda-9cb8-11ec-9a98-0242ac1c0002\"] = google.colab.output.setActiveOutputArea(window[\"888246d4-9cb8-11ec-9a98-0242ac1c0002\"]);\n",
              "//# sourceURL=js_263952ffe9"
            ],
            "text/plain": [
              "<IPython.core.display.Javascript object>"
            ]
          },
          "metadata": {}
        },
        {
          "output_type": "stream",
          "name": "stdout",
          "text": [
            "Start\n"
          ]
        },
        {
          "output_type": "display_data",
          "data": {
            "application/javascript": [
              "window[\"88849240-9cb8-11ec-9a98-0242ac1c0002\"] = google.colab.output.setActiveOutputArea(window[\"88819626-9cb8-11ec-9a98-0242ac1c0002\"]);\n",
              "//# sourceURL=js_ba2b2612e0"
            ],
            "text/plain": [
              "<IPython.core.display.Javascript object>"
            ]
          },
          "metadata": {}
        },
        {
          "output_type": "display_data",
          "data": {
            "application/javascript": [
              "window[\"8886ef4a-9cb8-11ec-9a98-0242ac1c0002\"] = google.colab.output.getActiveOutputArea();\n",
              "//# sourceURL=js_74593a5790"
            ],
            "text/plain": [
              "<IPython.core.display.Javascript object>"
            ]
          },
          "metadata": {}
        },
        {
          "output_type": "display_data",
          "data": {
            "application/javascript": [
              "window[\"888818de-9cb8-11ec-9a98-0242ac1c0002\"] = document.querySelector(\"#id70-3-3\");\n",
              "//# sourceURL=js_f3f1185e58"
            ],
            "text/plain": [
              "<IPython.core.display.Javascript object>"
            ]
          },
          "metadata": {}
        },
        {
          "output_type": "display_data",
          "data": {
            "application/javascript": [
              "window[\"88888206-9cb8-11ec-9a98-0242ac1c0002\"] = google.colab.output.setActiveOutputArea(window[\"888818de-9cb8-11ec-9a98-0242ac1c0002\"]);\n",
              "//# sourceURL=js_ddde04477e"
            ],
            "text/plain": [
              "<IPython.core.display.Javascript object>"
            ]
          },
          "metadata": {}
        },
        {
          "output_type": "stream",
          "name": "stdout",
          "text": [
            "Target\n"
          ]
        },
        {
          "output_type": "display_data",
          "data": {
            "application/javascript": [
              "window[\"8889c7ec-9cb8-11ec-9a98-0242ac1c0002\"] = google.colab.output.setActiveOutputArea(window[\"8886ef4a-9cb8-11ec-9a98-0242ac1c0002\"]);\n",
              "//# sourceURL=js_a5010d3ea5"
            ],
            "text/plain": [
              "<IPython.core.display.Javascript object>"
            ]
          },
          "metadata": {}
        },
        {
          "output_type": "display_data",
          "data": {
            "application/javascript": [
              "window[\"888b970c-9cb8-11ec-9a98-0242ac1c0002\"] = google.colab.output.getActiveOutputArea();\n",
              "//# sourceURL=js_e92cfbe5f5"
            ],
            "text/plain": [
              "<IPython.core.display.Javascript object>"
            ]
          },
          "metadata": {}
        },
        {
          "output_type": "display_data",
          "data": {
            "application/javascript": [
              "window[\"888bf030-9cb8-11ec-9a98-0242ac1c0002\"] = document.querySelector(\"#id70-1-1\");\n",
              "//# sourceURL=js_0e9696a00a"
            ],
            "text/plain": [
              "<IPython.core.display.Javascript object>"
            ]
          },
          "metadata": {}
        },
        {
          "output_type": "display_data",
          "data": {
            "application/javascript": [
              "window[\"888c40b2-9cb8-11ec-9a98-0242ac1c0002\"] = google.colab.output.setActiveOutputArea(window[\"888bf030-9cb8-11ec-9a98-0242ac1c0002\"]);\n",
              "//# sourceURL=js_9aa51f3d26"
            ],
            "text/plain": [
              "<IPython.core.display.Javascript object>"
            ]
          },
          "metadata": {}
        },
        {
          "output_type": "stream",
          "name": "stdout",
          "text": [
            "-1\n"
          ]
        },
        {
          "output_type": "display_data",
          "data": {
            "application/javascript": [
              "window[\"888d7b58-9cb8-11ec-9a98-0242ac1c0002\"] = google.colab.output.setActiveOutputArea(window[\"888b970c-9cb8-11ec-9a98-0242ac1c0002\"]);\n",
              "//# sourceURL=js_c80c545ead"
            ],
            "text/plain": [
              "<IPython.core.display.Javascript object>"
            ]
          },
          "metadata": {}
        },
        {
          "output_type": "display_data",
          "data": {
            "application/javascript": [
              "window[\"888f47c6-9cb8-11ec-9a98-0242ac1c0002\"] = google.colab.output.getActiveOutputArea();\n",
              "//# sourceURL=js_9801157b25"
            ],
            "text/plain": [
              "<IPython.core.display.Javascript object>"
            ]
          },
          "metadata": {}
        },
        {
          "output_type": "display_data",
          "data": {
            "application/javascript": [
              "window[\"888f9c4e-9cb8-11ec-9a98-0242ac1c0002\"] = document.querySelector(\"#id70-2-2\");\n",
              "//# sourceURL=js_abd280cf1c"
            ],
            "text/plain": [
              "<IPython.core.display.Javascript object>"
            ]
          },
          "metadata": {}
        },
        {
          "output_type": "display_data",
          "data": {
            "application/javascript": [
              "window[\"888ff66c-9cb8-11ec-9a98-0242ac1c0002\"] = google.colab.output.setActiveOutputArea(window[\"888f9c4e-9cb8-11ec-9a98-0242ac1c0002\"]);\n",
              "//# sourceURL=js_1d3cb24a02"
            ],
            "text/plain": [
              "<IPython.core.display.Javascript object>"
            ]
          },
          "metadata": {}
        },
        {
          "output_type": "stream",
          "name": "stdout",
          "text": [
            "-2\n"
          ]
        },
        {
          "output_type": "display_data",
          "data": {
            "application/javascript": [
              "window[\"8891273a-9cb8-11ec-9a98-0242ac1c0002\"] = google.colab.output.setActiveOutputArea(window[\"888f47c6-9cb8-11ec-9a98-0242ac1c0002\"]);\n",
              "//# sourceURL=js_767cc1e3f1"
            ],
            "text/plain": [
              "<IPython.core.display.Javascript object>"
            ]
          },
          "metadata": {}
        },
        {
          "output_type": "display_data",
          "data": {
            "application/javascript": [
              "window[\"8892f34e-9cb8-11ec-9a98-0242ac1c0002\"] = google.colab.output.getActiveOutputArea();\n",
              "//# sourceURL=js_5f60f2ef91"
            ],
            "text/plain": [
              "<IPython.core.display.Javascript object>"
            ]
          },
          "metadata": {}
        },
        {
          "output_type": "display_data",
          "data": {
            "application/javascript": [
              "window[\"88934db2-9cb8-11ec-9a98-0242ac1c0002\"] = document.querySelector(\"#id70-2-0\");\n",
              "//# sourceURL=js_a7be133fc8"
            ],
            "text/plain": [
              "<IPython.core.display.Javascript object>"
            ]
          },
          "metadata": {}
        },
        {
          "output_type": "display_data",
          "data": {
            "application/javascript": [
              "window[\"88939cea-9cb8-11ec-9a98-0242ac1c0002\"] = google.colab.output.setActiveOutputArea(window[\"88934db2-9cb8-11ec-9a98-0242ac1c0002\"]);\n",
              "//# sourceURL=js_4b67321be9"
            ],
            "text/plain": [
              "<IPython.core.display.Javascript object>"
            ]
          },
          "metadata": {}
        },
        {
          "output_type": "stream",
          "name": "stdout",
          "text": [
            "+3\n"
          ]
        },
        {
          "output_type": "display_data",
          "data": {
            "application/javascript": [
              "window[\"8894cb4c-9cb8-11ec-9a98-0242ac1c0002\"] = google.colab.output.setActiveOutputArea(window[\"8892f34e-9cb8-11ec-9a98-0242ac1c0002\"]);\n",
              "//# sourceURL=js_b1f0a09544"
            ],
            "text/plain": [
              "<IPython.core.display.Javascript object>"
            ]
          },
          "metadata": {}
        },
        {
          "output_type": "display_data",
          "data": {
            "application/javascript": [
              "window[\"88969404-9cb8-11ec-9a98-0242ac1c0002\"] = google.colab.output.getActiveOutputArea();\n",
              "//# sourceURL=js_cc89fd540f"
            ],
            "text/plain": [
              "<IPython.core.display.Javascript object>"
            ]
          },
          "metadata": {}
        },
        {
          "output_type": "display_data",
          "data": {
            "application/javascript": [
              "window[\"8896e7a6-9cb8-11ec-9a98-0242ac1c0002\"] = document.querySelector(\"#id70-3-0\");\n",
              "//# sourceURL=js_1a41222f81"
            ],
            "text/plain": [
              "<IPython.core.display.Javascript object>"
            ]
          },
          "metadata": {}
        },
        {
          "output_type": "display_data",
          "data": {
            "application/javascript": [
              "window[\"88973ae4-9cb8-11ec-9a98-0242ac1c0002\"] = google.colab.output.setActiveOutputArea(window[\"8896e7a6-9cb8-11ec-9a98-0242ac1c0002\"]);\n",
              "//# sourceURL=js_6b440fb5c7"
            ],
            "text/plain": [
              "<IPython.core.display.Javascript object>"
            ]
          },
          "metadata": {}
        },
        {
          "output_type": "stream",
          "name": "stdout",
          "text": [
            "+4\n"
          ]
        },
        {
          "output_type": "display_data",
          "data": {
            "application/javascript": [
              "window[\"889869c8-9cb8-11ec-9a98-0242ac1c0002\"] = google.colab.output.setActiveOutputArea(window[\"88969404-9cb8-11ec-9a98-0242ac1c0002\"]);\n",
              "//# sourceURL=js_7687964c3f"
            ],
            "text/plain": [
              "<IPython.core.display.Javascript object>"
            ]
          },
          "metadata": {}
        },
        {
          "output_type": "stream",
          "name": "stdout",
          "text": [
            "Evaluation Results\n",
            "Optimal Path: \n",
            "1 -> 5 -> 9 -> 13 -> 13 -> 13 -> 14 -> 15 -> 16\n",
            "Q Table: \n",
            " [[75.03748985 64.61167959 63.53591499 65.82906042]\n",
            " [66.37661499 65.76619634 66.06073416 65.87804877]\n",
            " [71.21389464 69.34472862 69.99860481 66.33963787]\n",
            " [73.05973234 72.38484162 71.98680089 69.68104443]\n",
            " [80.30574925 68.07539448 68.07074659 67.95427081]\n",
            " [70.56847158 65.56779712 71.04969637 70.06204595]\n",
            " [75.13391516 68.61397539 75.22118693 69.62354723]\n",
            " [79.57861049 72.83645307 75.4226713  74.7763677 ]\n",
            " [83.62014274 74.13056572 76.22383291 77.12647935]\n",
            " [78.7112925  68.71488483 79.29902695 77.98790897]\n",
            " [88.60073717 74.17472229 83.70267394 76.81385498]\n",
            " [92.30583468 80.52301087 83.49639431 80.74749646]\n",
            " [82.5514594  82.24527944 86.83444756 84.47357838]\n",
            " [83.89227389 77.87164385 92.25119047 85.65726777]\n",
            " [87.95230575 82.01900422 97.53062105 86.87566692]\n",
            " [ 0.          0.          0.          0.        ]]\n"
          ]
        },
        {
          "output_type": "display_data",
          "data": {
            "image/png": "[encoded data removed]",
            "text/plain": [
              "<Figure size 432x288 with 1 Axes>"
            ]
          },
          "metadata": {
            "needs_background": "light"
          }
        }
      ]
    },
    {
      "cell_type": "code",
      "source": [
        "sarsa(deterministic = True, evaluation_results = True)"
      ],
      "metadata": {
        "colab": {
          "base_uri": "https://localhost:8080/",
          "height": 849
        },
        "id": "KZdBr7gmYpX-",
        "outputId": "971d5bee-2170-4ba4-b08e-aca0d2f74a2e"
      },
      "execution_count": 19,
      "outputs": [
        {
          "output_type": "stream",
          "name": "stdout",
          "text": [
            "Grid Environment\n",
            "\n"
          ]
        },
        {
          "output_type": "display_data",
          "data": {
            "text/html": [
              "<style>\n",
              "       table#id16, #id16 > tbody > tr > th, #id16 > tbody > tr > td {\n",
              "         border: 1px solid lightgray;\n",
              "         border-collapse:collapse;\n",
              "         background-color: black; font-size: 25px; color: white\n",
              "        }</style>"
            ],
            "text/plain": [
              "<IPython.core.display.HTML object>"
            ]
          },
          "metadata": {}
        },
        {
          "output_type": "display_data",
          "data": {
            "text/html": [
              "<table id=id16><tr><th id=id16-0-0></th><th id=id16-0-1></th><th id=id16-0-2></th><th id=id16-0-3></th></tr><tr><th id=id16-1-0></th><td id=id16-1-1></td><td id=id16-1-2></td><td id=id16-1-3></td></tr><tr><th id=id16-2-0></th><td id=id16-2-1></td><td id=id16-2-2></td><td id=id16-2-3></td></tr><tr><th id=id16-3-0></th><td id=id16-3-1></td><td id=id16-3-2></td><td id=id16-3-3></td></tr></table>"
            ],
            "text/plain": [
              "<IPython.core.display.HTML object>"
            ]
          },
          "metadata": {}
        },
        {
          "output_type": "stream",
          "name": "stdout",
          "text": [
            "\n",
            "\n"
          ]
        },
        {
          "output_type": "display_data",
          "data": {
            "application/javascript": [
              "window[\"2e806e70-9daf-11ec-890e-0242ac1c0002\"] = google.colab.output.getActiveOutputArea();\n",
              "//# sourceURL=js_bacfa3711d"
            ],
            "text/plain": [
              "<IPython.core.display.Javascript object>"
            ]
          },
          "metadata": {}
        },
        {
          "output_type": "display_data",
          "data": {
            "application/javascript": [
              "window[\"2e80c7e4-9daf-11ec-890e-0242ac1c0002\"] = document.querySelector(\"#id16-0-0\");\n",
              "//# sourceURL=js_dac7fe1144"
            ],
            "text/plain": [
              "<IPython.core.display.Javascript object>"
            ]
          },
          "metadata": {}
        },
        {
          "output_type": "display_data",
          "data": {
            "application/javascript": [
              "window[\"2e812590-9daf-11ec-890e-0242ac1c0002\"] = google.colab.output.setActiveOutputArea(window[\"2e80c7e4-9daf-11ec-890e-0242ac1c0002\"]);\n",
              "//# sourceURL=js_47a594e113"
            ],
            "text/plain": [
              "<IPython.core.display.Javascript object>"
            ]
          },
          "metadata": {}
        },
        {
          "output_type": "stream",
          "name": "stdout",
          "text": [
            "Start\n"
          ]
        },
        {
          "output_type": "display_data",
          "data": {
            "application/javascript": [
              "window[\"2e8262de-9daf-11ec-890e-0242ac1c0002\"] = google.colab.output.setActiveOutputArea(window[\"2e806e70-9daf-11ec-890e-0242ac1c0002\"]);\n",
              "//# sourceURL=js_4c01f389e9"
            ],
            "text/plain": [
              "<IPython.core.display.Javascript object>"
            ]
          },
          "metadata": {}
        },
        {
          "output_type": "display_data",
          "data": {
            "application/javascript": [
              "window[\"2e84684a-9daf-11ec-890e-0242ac1c0002\"] = google.colab.output.getActiveOutputArea();\n",
              "//# sourceURL=js_098a23be1d"
            ],
            "text/plain": [
              "<IPython.core.display.Javascript object>"
            ]
          },
          "metadata": {}
        },
        {
          "output_type": "display_data",
          "data": {
            "application/javascript": [
              "window[\"2e84b34a-9daf-11ec-890e-0242ac1c0002\"] = document.querySelector(\"#id16-3-3\");\n",
              "//# sourceURL=js_277347a798"
            ],
            "text/plain": [
              "<IPython.core.display.Javascript object>"
            ]
          },
          "metadata": {}
        },
        {
          "output_type": "display_data",
          "data": {
            "application/javascript": [
              "window[\"2e85145c-9daf-11ec-890e-0242ac1c0002\"] = google.colab.output.setActiveOutputArea(window[\"2e84b34a-9daf-11ec-890e-0242ac1c0002\"]);\n",
              "//# sourceURL=js_9e8d40189d"
            ],
            "text/plain": [
              "<IPython.core.display.Javascript object>"
            ]
          },
          "metadata": {}
        },
        {
          "output_type": "stream",
          "name": "stdout",
          "text": [
            "Target\n"
          ]
        },
        {
          "output_type": "display_data",
          "data": {
            "application/javascript": [
              "window[\"2e867478-9daf-11ec-890e-0242ac1c0002\"] = google.colab.output.setActiveOutputArea(window[\"2e84684a-9daf-11ec-890e-0242ac1c0002\"]);\n",
              "//# sourceURL=js_a66ff3486f"
            ],
            "text/plain": [
              "<IPython.core.display.Javascript object>"
            ]
          },
          "metadata": {}
        },
        {
          "output_type": "display_data",
          "data": {
            "application/javascript": [
              "window[\"2e889cd0-9daf-11ec-890e-0242ac1c0002\"] = google.colab.output.getActiveOutputArea();\n",
              "//# sourceURL=js_aa5d4f8575"
            ],
            "text/plain": [
              "<IPython.core.display.Javascript object>"
            ]
          },
          "metadata": {}
        },
        {
          "output_type": "display_data",
          "data": {
            "application/javascript": [
              "window[\"2e89018e-9daf-11ec-890e-0242ac1c0002\"] = document.querySelector(\"#id16-1-1\");\n",
              "//# sourceURL=js_12414175b0"
            ],
            "text/plain": [
              "<IPython.core.display.Javascript object>"
            ]
          },
          "metadata": {}
        },
        {
          "output_type": "display_data",
          "data": {
            "application/javascript": [
              "window[\"2e8946b2-9daf-11ec-890e-0242ac1c0002\"] = google.colab.output.setActiveOutputArea(window[\"2e89018e-9daf-11ec-890e-0242ac1c0002\"]);\n",
              "//# sourceURL=js_7d4ff7bbc5"
            ],
            "text/plain": [
              "<IPython.core.display.Javascript object>"
            ]
          },
          "metadata": {}
        },
        {
          "output_type": "stream",
          "name": "stdout",
          "text": [
            "-1\n"
          ]
        },
        {
          "output_type": "display_data",
          "data": {
            "application/javascript": [
              "window[\"2e8aae08-9daf-11ec-890e-0242ac1c0002\"] = google.colab.output.setActiveOutputArea(window[\"2e889cd0-9daf-11ec-890e-0242ac1c0002\"]);\n",
              "//# sourceURL=js_0ec07baaac"
            ],
            "text/plain": [
              "<IPython.core.display.Javascript object>"
            ]
          },
          "metadata": {}
        },
        {
          "output_type": "display_data",
          "data": {
            "application/javascript": [
              "window[\"2e8cf776-9daf-11ec-890e-0242ac1c0002\"] = google.colab.output.getActiveOutputArea();\n",
              "//# sourceURL=js_f5fd0f7aac"
            ],
            "text/plain": [
              "<IPython.core.display.Javascript object>"
            ]
          },
          "metadata": {}
        },
        {
          "output_type": "display_data",
          "data": {
            "application/javascript": [
              "window[\"2e8d430c-9daf-11ec-890e-0242ac1c0002\"] = document.querySelector(\"#id16-2-2\");\n",
              "//# sourceURL=js_81a6ee495a"
            ],
            "text/plain": [
              "<IPython.core.display.Javascript object>"
            ]
          },
          "metadata": {}
        },
        {
          "output_type": "display_data",
          "data": {
            "application/javascript": [
              "window[\"2e8d9c80-9daf-11ec-890e-0242ac1c0002\"] = google.colab.output.setActiveOutputArea(window[\"2e8d430c-9daf-11ec-890e-0242ac1c0002\"]);\n",
              "//# sourceURL=js_db68b526a8"
            ],
            "text/plain": [
              "<IPython.core.display.Javascript object>"
            ]
          },
          "metadata": {}
        },
        {
          "output_type": "stream",
          "name": "stdout",
          "text": [
            "-2\n"
          ]
        },
        {
          "output_type": "display_data",
          "data": {
            "application/javascript": [
              "window[\"2e8f9562-9daf-11ec-890e-0242ac1c0002\"] = google.colab.output.setActiveOutputArea(window[\"2e8cf776-9daf-11ec-890e-0242ac1c0002\"]);\n",
              "//# sourceURL=js_e03603555e"
            ],
            "text/plain": [
              "<IPython.core.display.Javascript object>"
            ]
          },
          "metadata": {}
        },
        {
          "output_type": "display_data",
          "data": {
            "application/javascript": [
              "window[\"2e91d7dc-9daf-11ec-890e-0242ac1c0002\"] = google.colab.output.getActiveOutputArea();\n",
              "//# sourceURL=js_1d77a6942a"
            ],
            "text/plain": [
              "<IPython.core.display.Javascript object>"
            ]
          },
          "metadata": {}
        },
        {
          "output_type": "display_data",
          "data": {
            "application/javascript": [
              "window[\"2e923100-9daf-11ec-890e-0242ac1c0002\"] = document.querySelector(\"#id16-2-0\");\n",
              "//# sourceURL=js_4502eec55d"
            ],
            "text/plain": [
              "<IPython.core.display.Javascript object>"
            ]
          },
          "metadata": {}
        },
        {
          "output_type": "display_data",
          "data": {
            "application/javascript": [
              "window[\"2e9287c2-9daf-11ec-890e-0242ac1c0002\"] = google.colab.output.setActiveOutputArea(window[\"2e923100-9daf-11ec-890e-0242ac1c0002\"]);\n",
              "//# sourceURL=js_9c8da4a6ac"
            ],
            "text/plain": [
              "<IPython.core.display.Javascript object>"
            ]
          },
          "metadata": {}
        },
        {
          "output_type": "stream",
          "name": "stdout",
          "text": [
            "+3\n"
          ]
        },
        {
          "output_type": "display_data",
          "data": {
            "application/javascript": [
              "window[\"2e93e298-9daf-11ec-890e-0242ac1c0002\"] = google.colab.output.setActiveOutputArea(window[\"2e91d7dc-9daf-11ec-890e-0242ac1c0002\"]);\n",
              "//# sourceURL=js_328d3d990a"
            ],
            "text/plain": [
              "<IPython.core.display.Javascript object>"
            ]
          },
          "metadata": {}
        },
        {
          "output_type": "display_data",
          "data": {
            "application/javascript": [
              "window[\"2e966414-9daf-11ec-890e-0242ac1c0002\"] = google.colab.output.getActiveOutputArea();\n",
              "//# sourceURL=js_2fd14005d4"
            ],
            "text/plain": [
              "<IPython.core.display.Javascript object>"
            ]
          },
          "metadata": {}
        },
        {
          "output_type": "display_data",
          "data": {
            "application/javascript": [
              "window[\"2e96aa1e-9daf-11ec-890e-0242ac1c0002\"] = document.querySelector(\"#id16-3-0\");\n",
              "//# sourceURL=js_55b5934a1d"
            ],
            "text/plain": [
              "<IPython.core.display.Javascript object>"
            ]
          },
          "metadata": {}
        },
        {
          "output_type": "display_data",
          "data": {
            "application/javascript": [
              "window[\"2e96f050-9daf-11ec-890e-0242ac1c0002\"] = google.colab.output.setActiveOutputArea(window[\"2e96aa1e-9daf-11ec-890e-0242ac1c0002\"]);\n",
              "//# sourceURL=js_8be1e771b3"
            ],
            "text/plain": [
              "<IPython.core.display.Javascript object>"
            ]
          },
          "metadata": {}
        },
        {
          "output_type": "stream",
          "name": "stdout",
          "text": [
            "+4\n"
          ]
        },
        {
          "output_type": "display_data",
          "data": {
            "application/javascript": [
              "window[\"2e981c00-9daf-11ec-890e-0242ac1c0002\"] = google.colab.output.setActiveOutputArea(window[\"2e966414-9daf-11ec-890e-0242ac1c0002\"]);\n",
              "//# sourceURL=js_784353b2c7"
            ],
            "text/plain": [
              "<IPython.core.display.Javascript object>"
            ]
          },
          "metadata": {}
        },
        {
          "output_type": "stream",
          "name": "stdout",
          "text": [
            "Evaluation Results\n",
            "Optimal Path: \n",
            "1 -> 5 -> 9 -> 13 -> 14 -> 15 -> 16\n",
            "Q Table: \n",
            " [[ 83.671913    74.23238071  56.36738018  74.16762852]\n",
            " [ 68.09276279  30.11918671  24.6590761   10.09357732]\n",
            " [ 50.43962002  19.10293763   0.51485127   6.64727157]\n",
            " [  0.90036127   0.4933422    0.31106529   4.67015836]\n",
            " [ 88.20046484  65.15625947  72.4677864   79.02130636]\n",
            " [ 83.21186818  28.22797164  52.81977239  49.94523519]\n",
            " [ 78.69125423  11.83526948  38.99935511  12.58500663]\n",
            " [ 73.44293034   0.72569708  21.72665807  19.20595587]\n",
            " [ 89.7328565   77.34807959  82.48204496  86.02320423]\n",
            " [ 90.01288411  46.44429808  71.13173783  72.39392268]\n",
            " [ 71.99284786  47.63279641  91.00808333  42.55640508]\n",
            " [ 99.99999982  27.18759421  84.79950075  51.51093542]\n",
            " [ 85.41480919  81.91597894  90.24990314  85.89816658]\n",
            " [ 88.29434069  80.17700207  94.99999992  85.65561805]\n",
            " [ 94.52905251  80.0535138  100.          86.80315394]\n",
            " [  0.           0.           0.           0.        ]]\n"
          ]
        },
        {
          "output_type": "display_data",
          "data": {
            "image/png": "[encoded data removed]",
            "text/plain": [
              "<Figure size 432x288 with 1 Axes>"
            ]
          },
          "metadata": {
            "needs_background": "light"
          }
        }
      ]
    },
    {
      "cell_type": "code",
      "source": [
        "sarsa(stochastic = True, evaluation_results = True)"
      ],
      "metadata": {
        "colab": {
          "base_uri": "https://localhost:8080/",
          "height": 849
        },
        "id": "K7XYXXP2boce",
        "outputId": "4c2bc4b3-dbc9-4036-e20d-c7c5e1649470"
      },
      "execution_count": 23,
      "outputs": [
        {
          "output_type": "stream",
          "name": "stdout",
          "text": [
            "Grid Environment\n",
            "\n"
          ]
        },
        {
          "output_type": "display_data",
          "data": {
            "text/html": [
              "<style>\n",
              "       table#id24, #id24 > tbody > tr > th, #id24 > tbody > tr > td {\n",
              "         border: 1px solid lightgray;\n",
              "         border-collapse:collapse;\n",
              "         background-color: black; font-size: 25px; color: white\n",
              "        }</style>"
            ],
            "text/plain": [
              "<IPython.core.display.HTML object>"
            ]
          },
          "metadata": {}
        },
        {
          "output_type": "display_data",
          "data": {
            "text/html": [
              "<table id=id24><tr><th id=id24-0-0></th><th id=id24-0-1></th><th id=id24-0-2></th><th id=id24-0-3></th></tr><tr><th id=id24-1-0></th><td id=id24-1-1></td><td id=id24-1-2></td><td id=id24-1-3></td></tr><tr><th id=id24-2-0></th><td id=id24-2-1></td><td id=id24-2-2></td><td id=id24-2-3></td></tr><tr><th id=id24-3-0></th><td id=id24-3-1></td><td id=id24-3-2></td><td id=id24-3-3></td></tr></table>"
            ],
            "text/plain": [
              "<IPython.core.display.HTML object>"
            ]
          },
          "metadata": {}
        },
        {
          "output_type": "stream",
          "name": "stdout",
          "text": [
            "\n",
            "\n"
          ]
        },
        {
          "output_type": "display_data",
          "data": {
            "application/javascript": [
              "window[\"499e0618-9daf-11ec-890e-0242ac1c0002\"] = google.colab.output.getActiveOutputArea();\n",
              "//# sourceURL=js_d268657961"
            ],
            "text/plain": [
              "<IPython.core.display.Javascript object>"
            ]
          },
          "metadata": {}
        },
        {
          "output_type": "display_data",
          "data": {
            "application/javascript": [
              "window[\"499e8b7e-9daf-11ec-890e-0242ac1c0002\"] = document.querySelector(\"#id24-0-0\");\n",
              "//# sourceURL=js_fc916a8e75"
            ],
            "text/plain": [
              "<IPython.core.display.Javascript object>"
            ]
          },
          "metadata": {}
        },
        {
          "output_type": "display_data",
          "data": {
            "application/javascript": [
              "window[\"499ee6c8-9daf-11ec-890e-0242ac1c0002\"] = google.colab.output.setActiveOutputArea(window[\"499e8b7e-9daf-11ec-890e-0242ac1c0002\"]);\n",
              "//# sourceURL=js_1941960420"
            ],
            "text/plain": [
              "<IPython.core.display.Javascript object>"
            ]
          },
          "metadata": {}
        },
        {
          "output_type": "stream",
          "name": "stdout",
          "text": [
            "Start\n"
          ]
        },
        {
          "output_type": "display_data",
          "data": {
            "application/javascript": [
              "window[\"49a0ffe4-9daf-11ec-890e-0242ac1c0002\"] = google.colab.output.setActiveOutputArea(window[\"499e0618-9daf-11ec-890e-0242ac1c0002\"]);\n",
              "//# sourceURL=js_6a6d1e2389"
            ],
            "text/plain": [
              "<IPython.core.display.Javascript object>"
            ]
          },
          "metadata": {}
        },
        {
          "output_type": "display_data",
          "data": {
            "application/javascript": [
              "window[\"49a3ef92-9daf-11ec-890e-0242ac1c0002\"] = google.colab.output.getActiveOutputArea();\n",
              "//# sourceURL=js_1d303c8afe"
            ],
            "text/plain": [
              "<IPython.core.display.Javascript object>"
            ]
          },
          "metadata": {}
        },
        {
          "output_type": "display_data",
          "data": {
            "application/javascript": [
              "window[\"49a45cf2-9daf-11ec-890e-0242ac1c0002\"] = document.querySelector(\"#id24-3-3\");\n",
              "//# sourceURL=js_87ffdcbcbd"
            ],
            "text/plain": [
              "<IPython.core.display.Javascript object>"
            ]
          },
          "metadata": {}
        },
        {
          "output_type": "display_data",
          "data": {
            "application/javascript": [
              "window[\"49a4c1b0-9daf-11ec-890e-0242ac1c0002\"] = google.colab.output.setActiveOutputArea(window[\"49a45cf2-9daf-11ec-890e-0242ac1c0002\"]);\n",
              "//# sourceURL=js_00a03b19d0"
            ],
            "text/plain": [
              "<IPython.core.display.Javascript object>"
            ]
          },
          "metadata": {}
        },
        {
          "output_type": "stream",
          "name": "stdout",
          "text": [
            "Target\n"
          ]
        },
        {
          "output_type": "display_data",
          "data": {
            "application/javascript": [
              "window[\"49a74d86-9daf-11ec-890e-0242ac1c0002\"] = google.colab.output.setActiveOutputArea(window[\"49a3ef92-9daf-11ec-890e-0242ac1c0002\"]);\n",
              "//# sourceURL=js_d76a7b6ab7"
            ],
            "text/plain": [
              "<IPython.core.display.Javascript object>"
            ]
          },
          "metadata": {}
        },
        {
          "output_type": "display_data",
          "data": {
            "application/javascript": [
              "window[\"49abc636-9daf-11ec-890e-0242ac1c0002\"] = google.colab.output.getActiveOutputArea();\n",
              "//# sourceURL=js_07b6337a49"
            ],
            "text/plain": [
              "<IPython.core.display.Javascript object>"
            ]
          },
          "metadata": {}
        },
        {
          "output_type": "display_data",
          "data": {
            "application/javascript": [
              "window[\"49ac174e-9daf-11ec-890e-0242ac1c0002\"] = document.querySelector(\"#id24-1-1\");\n",
              "//# sourceURL=js_504708b37d"
            ],
            "text/plain": [
              "<IPython.core.display.Javascript object>"
            ]
          },
          "metadata": {}
        },
        {
          "output_type": "display_data",
          "data": {
            "application/javascript": [
              "window[\"49ac7b62-9daf-11ec-890e-0242ac1c0002\"] = google.colab.output.setActiveOutputArea(window[\"49ac174e-9daf-11ec-890e-0242ac1c0002\"]);\n",
              "//# sourceURL=js_f4c533c76c"
            ],
            "text/plain": [
              "<IPython.core.display.Javascript object>"
            ]
          },
          "metadata": {}
        },
        {
          "output_type": "stream",
          "name": "stdout",
          "text": [
            "-1\n"
          ]
        },
        {
          "output_type": "display_data",
          "data": {
            "application/javascript": [
              "window[\"49ae07b6-9daf-11ec-890e-0242ac1c0002\"] = google.colab.output.setActiveOutputArea(window[\"49abc636-9daf-11ec-890e-0242ac1c0002\"]);\n",
              "//# sourceURL=js_286b15a3aa"
            ],
            "text/plain": [
              "<IPython.core.display.Javascript object>"
            ]
          },
          "metadata": {}
        },
        {
          "output_type": "display_data",
          "data": {
            "application/javascript": [
              "window[\"49b1ac22-9daf-11ec-890e-0242ac1c0002\"] = google.colab.output.getActiveOutputArea();\n",
              "//# sourceURL=js_7728d0fc08"
            ],
            "text/plain": [
              "<IPython.core.display.Javascript object>"
            ]
          },
          "metadata": {}
        },
        {
          "output_type": "display_data",
          "data": {
            "application/javascript": [
              "window[\"49b20ef6-9daf-11ec-890e-0242ac1c0002\"] = document.querySelector(\"#id24-2-2\");\n",
              "//# sourceURL=js_ef259e94dd"
            ],
            "text/plain": [
              "<IPython.core.display.Javascript object>"
            ]
          },
          "metadata": {}
        },
        {
          "output_type": "display_data",
          "data": {
            "application/javascript": [
              "window[\"49b2eee8-9daf-11ec-890e-0242ac1c0002\"] = google.colab.output.setActiveOutputArea(window[\"49b20ef6-9daf-11ec-890e-0242ac1c0002\"]);\n",
              "//# sourceURL=js_1f03b2d65a"
            ],
            "text/plain": [
              "<IPython.core.display.Javascript object>"
            ]
          },
          "metadata": {}
        },
        {
          "output_type": "stream",
          "name": "stdout",
          "text": [
            "-2\n"
          ]
        },
        {
          "output_type": "display_data",
          "data": {
            "application/javascript": [
              "window[\"49b49658-9daf-11ec-890e-0242ac1c0002\"] = google.colab.output.setActiveOutputArea(window[\"49b1ac22-9daf-11ec-890e-0242ac1c0002\"]);\n",
              "//# sourceURL=js_0ce6660eed"
            ],
            "text/plain": [
              "<IPython.core.display.Javascript object>"
            ]
          },
          "metadata": {}
        },
        {
          "output_type": "display_data",
          "data": {
            "application/javascript": [
              "window[\"49b75780-9daf-11ec-890e-0242ac1c0002\"] = google.colab.output.getActiveOutputArea();\n",
              "//# sourceURL=js_ee19941059"
            ],
            "text/plain": [
              "<IPython.core.display.Javascript object>"
            ]
          },
          "metadata": {}
        },
        {
          "output_type": "display_data",
          "data": {
            "application/javascript": [
              "window[\"49b7c648-9daf-11ec-890e-0242ac1c0002\"] = document.querySelector(\"#id24-2-0\");\n",
              "//# sourceURL=js_38c3bb2e18"
            ],
            "text/plain": [
              "<IPython.core.display.Javascript object>"
            ]
          },
          "metadata": {}
        },
        {
          "output_type": "display_data",
          "data": {
            "application/javascript": [
              "window[\"49b85400-9daf-11ec-890e-0242ac1c0002\"] = google.colab.output.setActiveOutputArea(window[\"49b7c648-9daf-11ec-890e-0242ac1c0002\"]);\n",
              "//# sourceURL=js_45c18fe4b9"
            ],
            "text/plain": [
              "<IPython.core.display.Javascript object>"
            ]
          },
          "metadata": {}
        },
        {
          "output_type": "stream",
          "name": "stdout",
          "text": [
            "+3\n"
          ]
        },
        {
          "output_type": "display_data",
          "data": {
            "application/javascript": [
              "window[\"49b9fe72-9daf-11ec-890e-0242ac1c0002\"] = google.colab.output.setActiveOutputArea(window[\"49b75780-9daf-11ec-890e-0242ac1c0002\"]);\n",
              "//# sourceURL=js_5219fcfb9c"
            ],
            "text/plain": [
              "<IPython.core.display.Javascript object>"
            ]
          },
          "metadata": {}
        },
        {
          "output_type": "display_data",
          "data": {
            "application/javascript": [
              "window[\"49bda0b8-9daf-11ec-890e-0242ac1c0002\"] = google.colab.output.getActiveOutputArea();\n",
              "//# sourceURL=js_cbfcbe5dd5"
            ],
            "text/plain": [
              "<IPython.core.display.Javascript object>"
            ]
          },
          "metadata": {}
        },
        {
          "output_type": "display_data",
          "data": {
            "application/javascript": [
              "window[\"49bde820-9daf-11ec-890e-0242ac1c0002\"] = document.querySelector(\"#id24-3-0\");\n",
              "//# sourceURL=js_e8484ab1cf"
            ],
            "text/plain": [
              "<IPython.core.display.Javascript object>"
            ]
          },
          "metadata": {}
        },
        {
          "output_type": "display_data",
          "data": {
            "application/javascript": [
              "window[\"49be984c-9daf-11ec-890e-0242ac1c0002\"] = google.colab.output.setActiveOutputArea(window[\"49bde820-9daf-11ec-890e-0242ac1c0002\"]);\n",
              "//# sourceURL=js_90e0f72cf7"
            ],
            "text/plain": [
              "<IPython.core.display.Javascript object>"
            ]
          },
          "metadata": {}
        },
        {
          "output_type": "stream",
          "name": "stdout",
          "text": [
            "+4\n"
          ]
        },
        {
          "output_type": "display_data",
          "data": {
            "application/javascript": [
              "window[\"49c023ec-9daf-11ec-890e-0242ac1c0002\"] = google.colab.output.setActiveOutputArea(window[\"49bda0b8-9daf-11ec-890e-0242ac1c0002\"]);\n",
              "//# sourceURL=js_09920092a4"
            ],
            "text/plain": [
              "<IPython.core.display.Javascript object>"
            ]
          },
          "metadata": {}
        },
        {
          "output_type": "stream",
          "name": "stdout",
          "text": [
            "Evaluation Results\n",
            "Optimal Path: \n",
            "1 -> 1 -> 1 -> 5 -> 9 -> 13 -> 14 -> 15 -> 14 -> 13 -> 14 -> 15 -> 14 -> 15 -> 16\n",
            "Q Table: \n",
            " [[ 6.63340592e+01  6.57857006e+01  5.89015494e+01  6.56912127e+01]\n",
            " [ 3.24754729e+01  2.08673705e+01  1.24518734e+01  6.38294743e+01]\n",
            " [ 3.58074590e+00  1.74016216e+00  1.53872125e-01  8.39382600e+00]\n",
            " [ 2.13598611e+01  2.57020507e+00  8.48108790e-01  2.80271322e-01]\n",
            " [ 7.43318808e+01  6.30844026e+01  6.06879670e+01  6.80160186e+01]\n",
            " [ 2.68991785e+01  1.90535201e+01  1.70860372e+01  6.74097215e+01]\n",
            " [ 5.47861129e+00 -2.01480445e-02  1.98614586e+01  7.64641061e+00]\n",
            " [ 4.43245997e+01  3.63972155e+00  4.37197943e+00  2.33706961e+00]\n",
            " [ 7.89400211e+01  6.82360713e+01  6.63998796e+01  7.37153561e+01]\n",
            " [ 5.78633299e+01  2.27481780e+01  3.71899934e+01  7.97806601e+01]\n",
            " [ 2.57567454e+01  1.20802310e+00  8.75478531e+01  1.76419436e+01]\n",
            " [ 9.79504955e+01  6.93482500e+00  2.93896081e+01  1.14283312e+01]\n",
            " [ 8.04240398e+01  7.63983011e+01  8.44863606e+01  8.07364334e+01]\n",
            " [ 7.26192698e+01  7.39149682e+01  8.95136864e+01  8.04880694e+01]\n",
            " [ 8.43461188e+01  6.48418746e+01  9.50591608e+01  8.04617094e+01]\n",
            " [ 0.00000000e+00  0.00000000e+00  0.00000000e+00  0.00000000e+00]]\n"
          ]
        },
        {
          "output_type": "display_data",
          "data": {
            "image/png": "[encoded data removed]",
            "text/plain": [
              "<Figure size 432x288 with 1 Axes>"
            ]
          },
          "metadata": {
            "needs_background": "light"
          }
        }
      ]
    },
    {
      "cell_type": "markdown",
      "source": [
        "##Comparisons"
      ],
      "metadata": {
        "id": "ZaW3PFT7YqWN"
      }
    },
    {
      "cell_type": "markdown",
      "source": [
        "Deterministic environments"
      ],
      "metadata": {
        "id": "1u5pE-1Me_ZV"
      }
    },
    {
      "cell_type": "code",
      "source": [
        "yq_r = q_learning(deterministic = True, qlearning_rewards = True)\n",
        "ys_r = sarsa(deterministic = True, sarsa_rewards = True)"
      ],
      "metadata": {
        "colab": {
          "base_uri": "https://localhost:8080/",
          "height": 499
        },
        "id": "TpFuPa8iYsvz",
        "outputId": "a925c080-cdf4-4e57-89a8-fe53ec81ea7c"
      },
      "execution_count": 27,
      "outputs": [
        {
          "output_type": "stream",
          "name": "stdout",
          "text": [
            "Grid Environment\n",
            "\n"
          ]
        },
        {
          "output_type": "display_data",
          "data": {
            "text/html": [
              "<style>\n",
              "       table#id30, #id30 > tbody > tr > th, #id30 > tbody > tr > td {\n",
              "         border: 1px solid lightgray;\n",
              "         border-collapse:collapse;\n",
              "         background-color: black; font-size: 25px; color: white\n",
              "        }</style>"
            ],
            "text/plain": [
              "<IPython.core.display.HTML object>"
            ]
          },
          "metadata": {}
        },
        {
          "output_type": "display_data",
          "data": {
            "text/html": [
              "<table id=id30><tr><th id=id30-0-0></th><th id=id30-0-1></th><th id=id30-0-2></th><th id=id30-0-3></th></tr><tr><th id=id30-1-0></th><td id=id30-1-1></td><td id=id30-1-2></td><td id=id30-1-3></td></tr><tr><th id=id30-2-0></th><td id=id30-2-1></td><td id=id30-2-2></td><td id=id30-2-3></td></tr><tr><th id=id30-3-0></th><td id=id30-3-1></td><td id=id30-3-2></td><td id=id30-3-3></td></tr></table>"
            ],
            "text/plain": [
              "<IPython.core.display.HTML object>"
            ]
          },
          "metadata": {}
        },
        {
          "output_type": "stream",
          "name": "stdout",
          "text": [
            "\n",
            "\n"
          ]
        },
        {
          "output_type": "display_data",
          "data": {
            "application/javascript": [
              "window[\"680a64e6-9db1-11ec-890e-0242ac1c0002\"] = google.colab.output.getActiveOutputArea();\n",
              "//# sourceURL=js_39aa35c658"
            ],
            "text/plain": [
              "<IPython.core.display.Javascript object>"
            ]
          },
          "metadata": {}
        },
        {
          "output_type": "display_data",
          "data": {
            "application/javascript": [
              "window[\"680abe5a-9db1-11ec-890e-0242ac1c0002\"] = document.querySelector(\"#id30-0-0\");\n",
              "//# sourceURL=js_2e01e020e9"
            ],
            "text/plain": [
              "<IPython.core.display.Javascript object>"
            ]
          },
          "metadata": {}
        },
        {
          "output_type": "display_data",
          "data": {
            "application/javascript": [
              "window[\"680b3510-9db1-11ec-890e-0242ac1c0002\"] = google.colab.output.setActiveOutputArea(window[\"680abe5a-9db1-11ec-890e-0242ac1c0002\"]);\n",
              "//# sourceURL=js_71009ce73e"
            ],
            "text/plain": [
              "<IPython.core.display.Javascript object>"
            ]
          },
          "metadata": {}
        },
        {
          "output_type": "stream",
          "name": "stdout",
          "text": [
            "Start\n"
          ]
        },
        {
          "output_type": "display_data",
          "data": {
            "application/javascript": [
              "window[\"680cd7ee-9db1-11ec-890e-0242ac1c0002\"] = google.colab.output.setActiveOutputArea(window[\"680a64e6-9db1-11ec-890e-0242ac1c0002\"]);\n",
              "//# sourceURL=js_5436f9d6a0"
            ],
            "text/plain": [
              "<IPython.core.display.Javascript object>"
            ]
          },
          "metadata": {}
        },
        {
          "output_type": "display_data",
          "data": {
            "application/javascript": [
              "window[\"680f4d4e-9db1-11ec-890e-0242ac1c0002\"] = google.colab.output.getActiveOutputArea();\n",
              "//# sourceURL=js_c312ad2d26"
            ],
            "text/plain": [
              "<IPython.core.display.Javascript object>"
            ]
          },
          "metadata": {}
        },
        {
          "output_type": "display_data",
          "data": {
            "application/javascript": [
              "window[\"680f9e8e-9db1-11ec-890e-0242ac1c0002\"] = document.querySelector(\"#id30-3-3\");\n",
              "//# sourceURL=js_97698de01a"
            ],
            "text/plain": [
              "<IPython.core.display.Javascript object>"
            ]
          },
          "metadata": {}
        },
        {
          "output_type": "display_data",
          "data": {
            "application/javascript": [
              "window[\"680fefec-9db1-11ec-890e-0242ac1c0002\"] = google.colab.output.setActiveOutputArea(window[\"680f9e8e-9db1-11ec-890e-0242ac1c0002\"]);\n",
              "//# sourceURL=js_f367b2d06c"
            ],
            "text/plain": [
              "<IPython.core.display.Javascript object>"
            ]
          },
          "metadata": {}
        },
        {
          "output_type": "stream",
          "name": "stdout",
          "text": [
            "Target\n"
          ]
        },
        {
          "output_type": "display_data",
          "data": {
            "application/javascript": [
              "window[\"68112a1a-9db1-11ec-890e-0242ac1c0002\"] = google.colab.output.setActiveOutputArea(window[\"680f4d4e-9db1-11ec-890e-0242ac1c0002\"]);\n",
              "//# sourceURL=js_c0db8dac0b"
            ],
            "text/plain": [
              "<IPython.core.display.Javascript object>"
            ]
          },
          "metadata": {}
        },
        {
          "output_type": "display_data",
          "data": {
            "application/javascript": [
              "window[\"68130fec-9db1-11ec-890e-0242ac1c0002\"] = google.colab.output.getActiveOutputArea();\n",
              "//# sourceURL=js_35227f220c"
            ],
            "text/plain": [
              "<IPython.core.display.Javascript object>"
            ]
          },
          "metadata": {}
        },
        {
          "output_type": "display_data",
          "data": {
            "application/javascript": [
              "window[\"68136690-9db1-11ec-890e-0242ac1c0002\"] = document.querySelector(\"#id30-1-1\");\n",
              "//# sourceURL=js_edd7649c57"
            ],
            "text/plain": [
              "<IPython.core.display.Javascript object>"
            ]
          },
          "metadata": {}
        },
        {
          "output_type": "display_data",
          "data": {
            "application/javascript": [
              "window[\"6813ba82-9db1-11ec-890e-0242ac1c0002\"] = google.colab.output.setActiveOutputArea(window[\"68136690-9db1-11ec-890e-0242ac1c0002\"]);\n",
              "//# sourceURL=js_f0af2babae"
            ],
            "text/plain": [
              "<IPython.core.display.Javascript object>"
            ]
          },
          "metadata": {}
        },
        {
          "output_type": "stream",
          "name": "stdout",
          "text": [
            "-1\n"
          ]
        },
        {
          "output_type": "display_data",
          "data": {
            "application/javascript": [
              "window[\"6814ff64-9db1-11ec-890e-0242ac1c0002\"] = google.colab.output.setActiveOutputArea(window[\"68130fec-9db1-11ec-890e-0242ac1c0002\"]);\n",
              "//# sourceURL=js_93d9935e62"
            ],
            "text/plain": [
              "<IPython.core.display.Javascript object>"
            ]
          },
          "metadata": {}
        },
        {
          "output_type": "display_data",
          "data": {
            "application/javascript": [
              "window[\"6816e2d4-9db1-11ec-890e-0242ac1c0002\"] = google.colab.output.getActiveOutputArea();\n",
              "//# sourceURL=js_23f9007947"
            ],
            "text/plain": [
              "<IPython.core.display.Javascript object>"
            ]
          },
          "metadata": {}
        },
        {
          "output_type": "display_data",
          "data": {
            "application/javascript": [
              "window[\"68172c3a-9db1-11ec-890e-0242ac1c0002\"] = document.querySelector(\"#id30-2-2\");\n",
              "//# sourceURL=js_3e3c5c35a8"
            ],
            "text/plain": [
              "<IPython.core.display.Javascript object>"
            ]
          },
          "metadata": {}
        },
        {
          "output_type": "display_data",
          "data": {
            "application/javascript": [
              "window[\"6817791a-9db1-11ec-890e-0242ac1c0002\"] = google.colab.output.setActiveOutputArea(window[\"68172c3a-9db1-11ec-890e-0242ac1c0002\"]);\n",
              "//# sourceURL=js_a95b19358c"
            ],
            "text/plain": [
              "<IPython.core.display.Javascript object>"
            ]
          },
          "metadata": {}
        },
        {
          "output_type": "stream",
          "name": "stdout",
          "text": [
            "-2\n"
          ]
        },
        {
          "output_type": "display_data",
          "data": {
            "application/javascript": [
              "window[\"6818c16c-9db1-11ec-890e-0242ac1c0002\"] = google.colab.output.setActiveOutputArea(window[\"6816e2d4-9db1-11ec-890e-0242ac1c0002\"]);\n",
              "//# sourceURL=js_0b55e8d7cc"
            ],
            "text/plain": [
              "<IPython.core.display.Javascript object>"
            ]
          },
          "metadata": {}
        },
        {
          "output_type": "display_data",
          "data": {
            "application/javascript": [
              "window[\"681aa14e-9db1-11ec-890e-0242ac1c0002\"] = google.colab.output.getActiveOutputArea();\n",
              "//# sourceURL=js_e05c41d916"
            ],
            "text/plain": [
              "<IPython.core.display.Javascript object>"
            ]
          },
          "metadata": {}
        },
        {
          "output_type": "display_data",
          "data": {
            "application/javascript": [
              "window[\"681af3c4-9db1-11ec-890e-0242ac1c0002\"] = document.querySelector(\"#id30-2-0\");\n",
              "//# sourceURL=js_3e8df0a100"
            ],
            "text/plain": [
              "<IPython.core.display.Javascript object>"
            ]
          },
          "metadata": {}
        },
        {
          "output_type": "display_data",
          "data": {
            "application/javascript": [
              "window[\"681b4108-9db1-11ec-890e-0242ac1c0002\"] = google.colab.output.setActiveOutputArea(window[\"681af3c4-9db1-11ec-890e-0242ac1c0002\"]);\n",
              "//# sourceURL=js_08f0170456"
            ],
            "text/plain": [
              "<IPython.core.display.Javascript object>"
            ]
          },
          "metadata": {}
        },
        {
          "output_type": "stream",
          "name": "stdout",
          "text": [
            "+3\n"
          ]
        },
        {
          "output_type": "display_data",
          "data": {
            "application/javascript": [
              "window[\"681c8504-9db1-11ec-890e-0242ac1c0002\"] = google.colab.output.setActiveOutputArea(window[\"681aa14e-9db1-11ec-890e-0242ac1c0002\"]);\n",
              "//# sourceURL=js_87f87ba2ce"
            ],
            "text/plain": [
              "<IPython.core.display.Javascript object>"
            ]
          },
          "metadata": {}
        },
        {
          "output_type": "display_data",
          "data": {
            "application/javascript": [
              "window[\"681e65e0-9db1-11ec-890e-0242ac1c0002\"] = google.colab.output.getActiveOutputArea();\n",
              "//# sourceURL=js_dd20d9fc7b"
            ],
            "text/plain": [
              "<IPython.core.display.Javascript object>"
            ]
          },
          "metadata": {}
        },
        {
          "output_type": "display_data",
          "data": {
            "application/javascript": [
              "window[\"681eb3c4-9db1-11ec-890e-0242ac1c0002\"] = document.querySelector(\"#id30-3-0\");\n",
              "//# sourceURL=js_6f5dc6233f"
            ],
            "text/plain": [
              "<IPython.core.display.Javascript object>"
            ]
          },
          "metadata": {}
        },
        {
          "output_type": "display_data",
          "data": {
            "application/javascript": [
              "window[\"681f05b8-9db1-11ec-890e-0242ac1c0002\"] = google.colab.output.setActiveOutputArea(window[\"681eb3c4-9db1-11ec-890e-0242ac1c0002\"]);\n",
              "//# sourceURL=js_8a76a38b15"
            ],
            "text/plain": [
              "<IPython.core.display.Javascript object>"
            ]
          },
          "metadata": {}
        },
        {
          "output_type": "stream",
          "name": "stdout",
          "text": [
            "+4\n"
          ]
        },
        {
          "output_type": "display_data",
          "data": {
            "application/javascript": [
              "window[\"682042fc-9db1-11ec-890e-0242ac1c0002\"] = google.colab.output.setActiveOutputArea(window[\"681e65e0-9db1-11ec-890e-0242ac1c0002\"]);\n",
              "//# sourceURL=js_32965565a8"
            ],
            "text/plain": [
              "<IPython.core.display.Javascript object>"
            ]
          },
          "metadata": {}
        },
        {
          "output_type": "stream",
          "name": "stdout",
          "text": [
            "Optimal Path: \n",
            "1 -> 2 -> 3 -> 7 -> 8 -> 12 -> 16\n",
            "Grid Environment\n",
            "\n"
          ]
        },
        {
          "output_type": "display_data",
          "data": {
            "text/html": [
              "<style>\n",
              "       table#id32, #id32 > tbody > tr > th, #id32 > tbody > tr > td {\n",
              "         border: 1px solid lightgray;\n",
              "         border-collapse:collapse;\n",
              "         background-color: black; font-size: 25px; color: white\n",
              "        }</style>"
            ],
            "text/plain": [
              "<IPython.core.display.HTML object>"
            ]
          },
          "metadata": {}
        },
        {
          "output_type": "display_data",
          "data": {
            "text/html": [
              "<table id=id32><tr><th id=id32-0-0></th><th id=id32-0-1></th><th id=id32-0-2></th><th id=id32-0-3></th></tr><tr><th id=id32-1-0></th><td id=id32-1-1></td><td id=id32-1-2></td><td id=id32-1-3></td></tr><tr><th id=id32-2-0></th><td id=id32-2-1></td><td id=id32-2-2></td><td id=id32-2-3></td></tr><tr><th id=id32-3-0></th><td id=id32-3-1></td><td id=id32-3-2></td><td id=id32-3-3></td></tr></table>"
            ],
            "text/plain": [
              "<IPython.core.display.HTML object>"
            ]
          },
          "metadata": {}
        },
        {
          "output_type": "stream",
          "name": "stdout",
          "text": [
            "\n",
            "\n"
          ]
        },
        {
          "output_type": "display_data",
          "data": {
            "application/javascript": [
              "window[\"68e0487c-9db1-11ec-890e-0242ac1c0002\"] = google.colab.output.getActiveOutputArea();\n",
              "//# sourceURL=js_d16786efae"
            ],
            "text/plain": [
              "<IPython.core.display.Javascript object>"
            ]
          },
          "metadata": {}
        },
        {
          "output_type": "display_data",
          "data": {
            "application/javascript": [
              "window[\"68e0f222-9db1-11ec-890e-0242ac1c0002\"] = document.querySelector(\"#id32-0-0\");\n",
              "//# sourceURL=js_a06c54bfef"
            ],
            "text/plain": [
              "<IPython.core.display.Javascript object>"
            ]
          },
          "metadata": {}
        },
        {
          "output_type": "display_data",
          "data": {
            "application/javascript": [
              "window[\"68e1a17c-9db1-11ec-890e-0242ac1c0002\"] = google.colab.output.setActiveOutputArea(window[\"68e0f222-9db1-11ec-890e-0242ac1c0002\"]);\n",
              "//# sourceURL=js_55320ea9b8"
            ],
            "text/plain": [
              "<IPython.core.display.Javascript object>"
            ]
          },
          "metadata": {}
        },
        {
          "output_type": "stream",
          "name": "stdout",
          "text": [
            "Start\n"
          ]
        },
        {
          "output_type": "display_data",
          "data": {
            "application/javascript": [
              "window[\"68e48db0-9db1-11ec-890e-0242ac1c0002\"] = google.colab.output.setActiveOutputArea(window[\"68e0487c-9db1-11ec-890e-0242ac1c0002\"]);\n",
              "//# sourceURL=js_7a52689009"
            ],
            "text/plain": [
              "<IPython.core.display.Javascript object>"
            ]
          },
          "metadata": {}
        },
        {
          "output_type": "display_data",
          "data": {
            "application/javascript": [
              "window[\"68e87ba0-9db1-11ec-890e-0242ac1c0002\"] = google.colab.output.getActiveOutputArea();\n",
              "//# sourceURL=js_60d1ca6720"
            ],
            "text/plain": [
              "<IPython.core.display.Javascript object>"
            ]
          },
          "metadata": {}
        },
        {
          "output_type": "display_data",
          "data": {
            "application/javascript": [
              "window[\"68e90228-9db1-11ec-890e-0242ac1c0002\"] = document.querySelector(\"#id32-3-3\");\n",
              "//# sourceURL=js_021f64aa1b"
            ],
            "text/plain": [
              "<IPython.core.display.Javascript object>"
            ]
          },
          "metadata": {}
        },
        {
          "output_type": "display_data",
          "data": {
            "application/javascript": [
              "window[\"68e96a88-9db1-11ec-890e-0242ac1c0002\"] = google.colab.output.setActiveOutputArea(window[\"68e90228-9db1-11ec-890e-0242ac1c0002\"]);\n",
              "//# sourceURL=js_71f701a32b"
            ],
            "text/plain": [
              "<IPython.core.display.Javascript object>"
            ]
          },
          "metadata": {}
        },
        {
          "output_type": "stream",
          "name": "stdout",
          "text": [
            "Target\n"
          ]
        },
        {
          "output_type": "display_data",
          "data": {
            "application/javascript": [
              "window[\"68eb8e08-9db1-11ec-890e-0242ac1c0002\"] = google.colab.output.setActiveOutputArea(window[\"68e87ba0-9db1-11ec-890e-0242ac1c0002\"]);\n",
              "//# sourceURL=js_827b7d8566"
            ],
            "text/plain": [
              "<IPython.core.display.Javascript object>"
            ]
          },
          "metadata": {}
        },
        {
          "output_type": "display_data",
          "data": {
            "application/javascript": [
              "window[\"68eea4f8-9db1-11ec-890e-0242ac1c0002\"] = google.colab.output.getActiveOutputArea();\n",
              "//# sourceURL=js_f9697a3926"
            ],
            "text/plain": [
              "<IPython.core.display.Javascript object>"
            ]
          },
          "metadata": {}
        },
        {
          "output_type": "display_data",
          "data": {
            "application/javascript": [
              "window[\"68eef278-9db1-11ec-890e-0242ac1c0002\"] = document.querySelector(\"#id32-1-1\");\n",
              "//# sourceURL=js_0da7b14fdd"
            ],
            "text/plain": [
              "<IPython.core.display.Javascript object>"
            ]
          },
          "metadata": {}
        },
        {
          "output_type": "display_data",
          "data": {
            "application/javascript": [
              "window[\"68ef4fde-9db1-11ec-890e-0242ac1c0002\"] = google.colab.output.setActiveOutputArea(window[\"68eef278-9db1-11ec-890e-0242ac1c0002\"]);\n",
              "//# sourceURL=js_e940fd67be"
            ],
            "text/plain": [
              "<IPython.core.display.Javascript object>"
            ]
          },
          "metadata": {}
        },
        {
          "output_type": "stream",
          "name": "stdout",
          "text": [
            "-1\n"
          ]
        },
        {
          "output_type": "display_data",
          "data": {
            "application/javascript": [
              "window[\"68f1eea6-9db1-11ec-890e-0242ac1c0002\"] = google.colab.output.setActiveOutputArea(window[\"68eea4f8-9db1-11ec-890e-0242ac1c0002\"]);\n",
              "//# sourceURL=js_28f1a3158c"
            ],
            "text/plain": [
              "<IPython.core.display.Javascript object>"
            ]
          },
          "metadata": {}
        },
        {
          "output_type": "display_data",
          "data": {
            "application/javascript": [
              "window[\"68f3d5ea-9db1-11ec-890e-0242ac1c0002\"] = google.colab.output.getActiveOutputArea();\n",
              "//# sourceURL=js_f8b137870a"
            ],
            "text/plain": [
              "<IPython.core.display.Javascript object>"
            ]
          },
          "metadata": {}
        },
        {
          "output_type": "display_data",
          "data": {
            "application/javascript": [
              "window[\"68f41a1e-9db1-11ec-890e-0242ac1c0002\"] = document.querySelector(\"#id32-2-2\");\n",
              "//# sourceURL=js_ca9a5a8d16"
            ],
            "text/plain": [
              "<IPython.core.display.Javascript object>"
            ]
          },
          "metadata": {}
        },
        {
          "output_type": "display_data",
          "data": {
            "application/javascript": [
              "window[\"68f45e3e-9db1-11ec-890e-0242ac1c0002\"] = google.colab.output.setActiveOutputArea(window[\"68f41a1e-9db1-11ec-890e-0242ac1c0002\"]);\n",
              "//# sourceURL=js_15d6e2c646"
            ],
            "text/plain": [
              "<IPython.core.display.Javascript object>"
            ]
          },
          "metadata": {}
        },
        {
          "output_type": "stream",
          "name": "stdout",
          "text": [
            "-2\n"
          ]
        },
        {
          "output_type": "display_data",
          "data": {
            "application/javascript": [
              "window[\"68f5d37c-9db1-11ec-890e-0242ac1c0002\"] = google.colab.output.setActiveOutputArea(window[\"68f3d5ea-9db1-11ec-890e-0242ac1c0002\"]);\n",
              "//# sourceURL=js_7dc9e5dd62"
            ],
            "text/plain": [
              "<IPython.core.display.Javascript object>"
            ]
          },
          "metadata": {}
        },
        {
          "output_type": "display_data",
          "data": {
            "application/javascript": [
              "window[\"68f8c0aa-9db1-11ec-890e-0242ac1c0002\"] = google.colab.output.getActiveOutputArea();\n",
              "//# sourceURL=js_afc9f973cc"
            ],
            "text/plain": [
              "<IPython.core.display.Javascript object>"
            ]
          },
          "metadata": {}
        },
        {
          "output_type": "display_data",
          "data": {
            "application/javascript": [
              "window[\"68f90b28-9db1-11ec-890e-0242ac1c0002\"] = document.querySelector(\"#id32-2-0\");\n",
              "//# sourceURL=js_b2749ad1b9"
            ],
            "text/plain": [
              "<IPython.core.display.Javascript object>"
            ]
          },
          "metadata": {}
        },
        {
          "output_type": "display_data",
          "data": {
            "application/javascript": [
              "window[\"68f994ee-9db1-11ec-890e-0242ac1c0002\"] = google.colab.output.setActiveOutputArea(window[\"68f90b28-9db1-11ec-890e-0242ac1c0002\"]);\n",
              "//# sourceURL=js_3de3fc260a"
            ],
            "text/plain": [
              "<IPython.core.display.Javascript object>"
            ]
          },
          "metadata": {}
        },
        {
          "output_type": "stream",
          "name": "stdout",
          "text": [
            "+3\n"
          ]
        },
        {
          "output_type": "display_data",
          "data": {
            "application/javascript": [
              "window[\"68fab590-9db1-11ec-890e-0242ac1c0002\"] = google.colab.output.setActiveOutputArea(window[\"68f8c0aa-9db1-11ec-890e-0242ac1c0002\"]);\n",
              "//# sourceURL=js_fb061de6ef"
            ],
            "text/plain": [
              "<IPython.core.display.Javascript object>"
            ]
          },
          "metadata": {}
        },
        {
          "output_type": "display_data",
          "data": {
            "application/javascript": [
              "window[\"68fcc47a-9db1-11ec-890e-0242ac1c0002\"] = google.colab.output.getActiveOutputArea();\n",
              "//# sourceURL=js_6e357d5c1e"
            ],
            "text/plain": [
              "<IPython.core.display.Javascript object>"
            ]
          },
          "metadata": {}
        },
        {
          "output_type": "display_data",
          "data": {
            "application/javascript": [
              "window[\"68fdefee-9db1-11ec-890e-0242ac1c0002\"] = document.querySelector(\"#id32-3-0\");\n",
              "//# sourceURL=js_f65fe0fa93"
            ],
            "text/plain": [
              "<IPython.core.display.Javascript object>"
            ]
          },
          "metadata": {}
        },
        {
          "output_type": "display_data",
          "data": {
            "application/javascript": [
              "window[\"68fe6118-9db1-11ec-890e-0242ac1c0002\"] = google.colab.output.setActiveOutputArea(window[\"68fdefee-9db1-11ec-890e-0242ac1c0002\"]);\n",
              "//# sourceURL=js_31ead23bd1"
            ],
            "text/plain": [
              "<IPython.core.display.Javascript object>"
            ]
          },
          "metadata": {}
        },
        {
          "output_type": "stream",
          "name": "stdout",
          "text": [
            "+4\n"
          ]
        },
        {
          "output_type": "display_data",
          "data": {
            "application/javascript": [
              "window[\"69009c26-9db1-11ec-890e-0242ac1c0002\"] = google.colab.output.setActiveOutputArea(window[\"68fcc47a-9db1-11ec-890e-0242ac1c0002\"]);\n",
              "//# sourceURL=js_bf3d26222b"
            ],
            "text/plain": [
              "<IPython.core.display.Javascript object>"
            ]
          },
          "metadata": {}
        },
        {
          "output_type": "stream",
          "name": "stdout",
          "text": [
            "Optimal Path: \n",
            "1 -> 5 -> 9 -> 13 -> 14 -> 15 -> 16\n"
          ]
        }
      ]
    },
    {
      "cell_type": "code",
      "source": [
        "#Rewards for Q-learning and SARSA\n",
        "yq = yq_r\n",
        "ys = ys_r\n",
        "episodes = len(yq_r)\n",
        "x = [x for x in range(episodes)]\n",
        "plt.plot(x, yq)\n",
        "plt.plot(x, ys)\n",
        "plt.xlabel('Episodes')\n",
        "plt.ylabel('Rewards')\n",
        "plt.legend([\"Q-learning\", \"SARSA\"])\n",
        "plt.title(\"Deterministic Environment\")"
      ],
      "metadata": {
        "colab": {
          "base_uri": "https://localhost:8080/",
          "height": 312
        },
        "id": "JMlFfw3Ubvpc",
        "outputId": "0170d1b2-1a61-4ba6-aaa7-9136d3228ae8"
      },
      "execution_count": 28,
      "outputs": [
        {
          "output_type": "execute_result",
          "data": {
            "text/plain": [
              "Text(0.5, 1.0, 'Deterministic Environment')"
            ]
          },
          "metadata": {},
          "execution_count": 28
        },
        {
          "output_type": "display_data",
          "data": {
            "image/png": "[encoded data removed]",
            "text/plain": [
              "<Figure size 432x288 with 1 Axes>"
            ]
          },
          "metadata": {
            "needs_background": "light"
          }
        }
      ]
    },
    {
      "cell_type": "code",
      "source": [
        ""
      ],
      "metadata": {
        "id": "GrBkL3tnb4ZZ"
      },
      "execution_count": null,
      "outputs": []
    },
    {
      "cell_type": "markdown",
      "source": [
        "Stochastic Environment"
      ],
      "metadata": {
        "id": "-pxr1eC3fDbb"
      }
    },
    {
      "cell_type": "code",
      "source": [
        "yq_r = q_learning(stochastic = True, qlearning_rewards = True)\n",
        "ys_r = sarsa(stochastic = True, sarsa_rewards = True)"
      ],
      "metadata": {
        "colab": {
          "base_uri": "https://localhost:8080/",
          "height": 519
        },
        "id": "XDCZpxHXfF-o",
        "outputId": "6924fd19-75df-442e-b993-d37d33a6378d"
      },
      "execution_count": 36,
      "outputs": [
        {
          "output_type": "stream",
          "name": "stdout",
          "text": [
            "Grid Environment\n",
            "\n"
          ]
        },
        {
          "output_type": "display_data",
          "data": {
            "text/html": [
              "<style>\n",
              "       table#id46, #id46 > tbody > tr > th, #id46 > tbody > tr > td {\n",
              "         border: 1px solid lightgray;\n",
              "         border-collapse:collapse;\n",
              "         background-color: black; font-size: 25px; color: white\n",
              "        }</style>"
            ],
            "text/plain": [
              "<IPython.core.display.HTML object>"
            ]
          },
          "metadata": {}
        },
        {
          "output_type": "display_data",
          "data": {
            "text/html": [
              "<table id=id46><tr><th id=id46-0-0></th><th id=id46-0-1></th><th id=id46-0-2></th><th id=id46-0-3></th></tr><tr><th id=id46-1-0></th><td id=id46-1-1></td><td id=id46-1-2></td><td id=id46-1-3></td></tr><tr><th id=id46-2-0></th><td id=id46-2-1></td><td id=id46-2-2></td><td id=id46-2-3></td></tr><tr><th id=id46-3-0></th><td id=id46-3-1></td><td id=id46-3-2></td><td id=id46-3-3></td></tr></table>"
            ],
            "text/plain": [
              "<IPython.core.display.HTML object>"
            ]
          },
          "metadata": {}
        },
        {
          "output_type": "stream",
          "name": "stdout",
          "text": [
            "\n",
            "\n"
          ]
        },
        {
          "output_type": "display_data",
          "data": {
            "application/javascript": [
              "window[\"e15dff56-9db1-11ec-890e-0242ac1c0002\"] = google.colab.output.getActiveOutputArea();\n",
              "//# sourceURL=js_2ebd53953b"
            ],
            "text/plain": [
              "<IPython.core.display.Javascript object>"
            ]
          },
          "metadata": {}
        },
        {
          "output_type": "display_data",
          "data": {
            "application/javascript": [
              "window[\"e15e5cc6-9db1-11ec-890e-0242ac1c0002\"] = document.querySelector(\"#id46-0-0\");\n",
              "//# sourceURL=js_a348ed75fa"
            ],
            "text/plain": [
              "<IPython.core.display.Javascript object>"
            ]
          },
          "metadata": {}
        },
        {
          "output_type": "display_data",
          "data": {
            "application/javascript": [
              "window[\"e15eb16c-9db1-11ec-890e-0242ac1c0002\"] = google.colab.output.setActiveOutputArea(window[\"e15e5cc6-9db1-11ec-890e-0242ac1c0002\"]);\n",
              "//# sourceURL=js_a04c3a459e"
            ],
            "text/plain": [
              "<IPython.core.display.Javascript object>"
            ]
          },
          "metadata": {}
        },
        {
          "output_type": "stream",
          "name": "stdout",
          "text": [
            "Start\n"
          ]
        },
        {
          "output_type": "display_data",
          "data": {
            "application/javascript": [
              "window[\"e15ff644-9db1-11ec-890e-0242ac1c0002\"] = google.colab.output.setActiveOutputArea(window[\"e15dff56-9db1-11ec-890e-0242ac1c0002\"]);\n",
              "//# sourceURL=js_541aa27437"
            ],
            "text/plain": [
              "<IPython.core.display.Javascript object>"
            ]
          },
          "metadata": {}
        },
        {
          "output_type": "display_data",
          "data": {
            "application/javascript": [
              "window[\"e1623bca-9db1-11ec-890e-0242ac1c0002\"] = google.colab.output.getActiveOutputArea();\n",
              "//# sourceURL=js_0532811325"
            ],
            "text/plain": [
              "<IPython.core.display.Javascript object>"
            ]
          },
          "metadata": {}
        },
        {
          "output_type": "display_data",
          "data": {
            "application/javascript": [
              "window[\"e1632364-9db1-11ec-890e-0242ac1c0002\"] = document.querySelector(\"#id46-3-3\");\n",
              "//# sourceURL=js_3b758ad2ec"
            ],
            "text/plain": [
              "<IPython.core.display.Javascript object>"
            ]
          },
          "metadata": {}
        },
        {
          "output_type": "display_data",
          "data": {
            "application/javascript": [
              "window[\"e16398d0-9db1-11ec-890e-0242ac1c0002\"] = google.colab.output.setActiveOutputArea(window[\"e1632364-9db1-11ec-890e-0242ac1c0002\"]);\n",
              "//# sourceURL=js_5992c58613"
            ],
            "text/plain": [
              "<IPython.core.display.Javascript object>"
            ]
          },
          "metadata": {}
        },
        {
          "output_type": "stream",
          "name": "stdout",
          "text": [
            "Target\n"
          ]
        },
        {
          "output_type": "display_data",
          "data": {
            "application/javascript": [
              "window[\"e165233a-9db1-11ec-890e-0242ac1c0002\"] = google.colab.output.setActiveOutputArea(window[\"e1623bca-9db1-11ec-890e-0242ac1c0002\"]);\n",
              "//# sourceURL=js_fb2537db85"
            ],
            "text/plain": [
              "<IPython.core.display.Javascript object>"
            ]
          },
          "metadata": {}
        },
        {
          "output_type": "display_data",
          "data": {
            "application/javascript": [
              "window[\"e1675682-9db1-11ec-890e-0242ac1c0002\"] = google.colab.output.getActiveOutputArea();\n",
              "//# sourceURL=js_9cad6eb6dc"
            ],
            "text/plain": [
              "<IPython.core.display.Javascript object>"
            ]
          },
          "metadata": {}
        },
        {
          "output_type": "display_data",
          "data": {
            "application/javascript": [
              "window[\"e167aa24-9db1-11ec-890e-0242ac1c0002\"] = document.querySelector(\"#id46-1-1\");\n",
              "//# sourceURL=js_4edb48f50d"
            ],
            "text/plain": [
              "<IPython.core.display.Javascript object>"
            ]
          },
          "metadata": {}
        },
        {
          "output_type": "display_data",
          "data": {
            "application/javascript": [
              "window[\"e167f7a4-9db1-11ec-890e-0242ac1c0002\"] = google.colab.output.setActiveOutputArea(window[\"e167aa24-9db1-11ec-890e-0242ac1c0002\"]);\n",
              "//# sourceURL=js_7cf8751825"
            ],
            "text/plain": [
              "<IPython.core.display.Javascript object>"
            ]
          },
          "metadata": {}
        },
        {
          "output_type": "stream",
          "name": "stdout",
          "text": [
            "-1\n"
          ]
        },
        {
          "output_type": "display_data",
          "data": {
            "application/javascript": [
              "window[\"e1693290-9db1-11ec-890e-0242ac1c0002\"] = google.colab.output.setActiveOutputArea(window[\"e1675682-9db1-11ec-890e-0242ac1c0002\"]);\n",
              "//# sourceURL=js_bee2045b01"
            ],
            "text/plain": [
              "<IPython.core.display.Javascript object>"
            ]
          },
          "metadata": {}
        },
        {
          "output_type": "display_data",
          "data": {
            "application/javascript": [
              "window[\"e16b0b06-9db1-11ec-890e-0242ac1c0002\"] = google.colab.output.getActiveOutputArea();\n",
              "//# sourceURL=js_20600a4249"
            ],
            "text/plain": [
              "<IPython.core.display.Javascript object>"
            ]
          },
          "metadata": {}
        },
        {
          "output_type": "display_data",
          "data": {
            "application/javascript": [
              "window[\"e16b5980-9db1-11ec-890e-0242ac1c0002\"] = document.querySelector(\"#id46-2-2\");\n",
              "//# sourceURL=js_3b0117e6a5"
            ],
            "text/plain": [
              "<IPython.core.display.Javascript object>"
            ]
          },
          "metadata": {}
        },
        {
          "output_type": "display_data",
          "data": {
            "application/javascript": [
              "window[\"e16ba84a-9db1-11ec-890e-0242ac1c0002\"] = google.colab.output.setActiveOutputArea(window[\"e16b5980-9db1-11ec-890e-0242ac1c0002\"]);\n",
              "//# sourceURL=js_9056bbc718"
            ],
            "text/plain": [
              "<IPython.core.display.Javascript object>"
            ]
          },
          "metadata": {}
        },
        {
          "output_type": "stream",
          "name": "stdout",
          "text": [
            "-2\n"
          ]
        },
        {
          "output_type": "display_data",
          "data": {
            "application/javascript": [
              "window[\"e16cdd5a-9db1-11ec-890e-0242ac1c0002\"] = google.colab.output.setActiveOutputArea(window[\"e16b0b06-9db1-11ec-890e-0242ac1c0002\"]);\n",
              "//# sourceURL=js_36d4f462eb"
            ],
            "text/plain": [
              "<IPython.core.display.Javascript object>"
            ]
          },
          "metadata": {}
        },
        {
          "output_type": "display_data",
          "data": {
            "application/javascript": [
              "window[\"e16eb616-9db1-11ec-890e-0242ac1c0002\"] = google.colab.output.getActiveOutputArea();\n",
              "//# sourceURL=js_e01dab1492"
            ],
            "text/plain": [
              "<IPython.core.display.Javascript object>"
            ]
          },
          "metadata": {}
        },
        {
          "output_type": "display_data",
          "data": {
            "application/javascript": [
              "window[\"e16f0918-9db1-11ec-890e-0242ac1c0002\"] = document.querySelector(\"#id46-2-0\");\n",
              "//# sourceURL=js_65f8f7e239"
            ],
            "text/plain": [
              "<IPython.core.display.Javascript object>"
            ]
          },
          "metadata": {}
        },
        {
          "output_type": "display_data",
          "data": {
            "application/javascript": [
              "window[\"e16f56de-9db1-11ec-890e-0242ac1c0002\"] = google.colab.output.setActiveOutputArea(window[\"e16f0918-9db1-11ec-890e-0242ac1c0002\"]);\n",
              "//# sourceURL=js_455caa974e"
            ],
            "text/plain": [
              "<IPython.core.display.Javascript object>"
            ]
          },
          "metadata": {}
        },
        {
          "output_type": "stream",
          "name": "stdout",
          "text": [
            "+3\n"
          ]
        },
        {
          "output_type": "display_data",
          "data": {
            "application/javascript": [
              "window[\"e1708fea-9db1-11ec-890e-0242ac1c0002\"] = google.colab.output.setActiveOutputArea(window[\"e16eb616-9db1-11ec-890e-0242ac1c0002\"]);\n",
              "//# sourceURL=js_19386afb3e"
            ],
            "text/plain": [
              "<IPython.core.display.Javascript object>"
            ]
          },
          "metadata": {}
        },
        {
          "output_type": "display_data",
          "data": {
            "application/javascript": [
              "window[\"e1726536-9db1-11ec-890e-0242ac1c0002\"] = google.colab.output.getActiveOutputArea();\n",
              "//# sourceURL=js_4546275072"
            ],
            "text/plain": [
              "<IPython.core.display.Javascript object>"
            ]
          },
          "metadata": {}
        },
        {
          "output_type": "display_data",
          "data": {
            "application/javascript": [
              "window[\"e172b842-9db1-11ec-890e-0242ac1c0002\"] = document.querySelector(\"#id46-3-0\");\n",
              "//# sourceURL=js_e839796f3a"
            ],
            "text/plain": [
              "<IPython.core.display.Javascript object>"
            ]
          },
          "metadata": {}
        },
        {
          "output_type": "display_data",
          "data": {
            "application/javascript": [
              "window[\"e1730914-9db1-11ec-890e-0242ac1c0002\"] = google.colab.output.setActiveOutputArea(window[\"e172b842-9db1-11ec-890e-0242ac1c0002\"]);\n",
              "//# sourceURL=js_53a248ae20"
            ],
            "text/plain": [
              "<IPython.core.display.Javascript object>"
            ]
          },
          "metadata": {}
        },
        {
          "output_type": "stream",
          "name": "stdout",
          "text": [
            "+4\n"
          ]
        },
        {
          "output_type": "display_data",
          "data": {
            "application/javascript": [
              "window[\"e1744716-9db1-11ec-890e-0242ac1c0002\"] = google.colab.output.setActiveOutputArea(window[\"e1726536-9db1-11ec-890e-0242ac1c0002\"]);\n",
              "//# sourceURL=js_2b3da3ad9f"
            ],
            "text/plain": [
              "<IPython.core.display.Javascript object>"
            ]
          },
          "metadata": {}
        },
        {
          "output_type": "stream",
          "name": "stdout",
          "text": [
            "Optimal Path: \n",
            "1 -> 5 -> 1 -> 1 -> 5 -> 1 -> 1 -> 5 -> 1 -> 5 -> 9 -> 13 -> 14 -> 15 -> 14 -> 15 -> 16\n",
            "Grid Environment\n",
            "\n"
          ]
        },
        {
          "output_type": "display_data",
          "data": {
            "text/html": [
              "<style>\n",
              "       table#id48, #id48 > tbody > tr > th, #id48 > tbody > tr > td {\n",
              "         border: 1px solid lightgray;\n",
              "         border-collapse:collapse;\n",
              "         background-color: black; font-size: 25px; color: white\n",
              "        }</style>"
            ],
            "text/plain": [
              "<IPython.core.display.HTML object>"
            ]
          },
          "metadata": {}
        },
        {
          "output_type": "display_data",
          "data": {
            "text/html": [
              "<table id=id48><tr><th id=id48-0-0></th><th id=id48-0-1></th><th id=id48-0-2></th><th id=id48-0-3></th></tr><tr><th id=id48-1-0></th><td id=id48-1-1></td><td id=id48-1-2></td><td id=id48-1-3></td></tr><tr><th id=id48-2-0></th><td id=id48-2-1></td><td id=id48-2-2></td><td id=id48-2-3></td></tr><tr><th id=id48-3-0></th><td id=id48-3-1></td><td id=id48-3-2></td><td id=id48-3-3></td></tr></table>"
            ],
            "text/plain": [
              "<IPython.core.display.HTML object>"
            ]
          },
          "metadata": {}
        },
        {
          "output_type": "stream",
          "name": "stdout",
          "text": [
            "\n",
            "\n"
          ]
        },
        {
          "output_type": "display_data",
          "data": {
            "application/javascript": [
              "window[\"e27977da-9db1-11ec-890e-0242ac1c0002\"] = google.colab.output.getActiveOutputArea();\n",
              "//# sourceURL=js_ae0a15ad0c"
            ],
            "text/plain": [
              "<IPython.core.display.Javascript object>"
            ]
          },
          "metadata": {}
        },
        {
          "output_type": "display_data",
          "data": {
            "application/javascript": [
              "window[\"e279d0ae-9db1-11ec-890e-0242ac1c0002\"] = document.querySelector(\"#id48-0-0\");\n",
              "//# sourceURL=js_33762b5dfc"
            ],
            "text/plain": [
              "<IPython.core.display.Javascript object>"
            ]
          },
          "metadata": {}
        },
        {
          "output_type": "display_data",
          "data": {
            "application/javascript": [
              "window[\"e27a29d2-9db1-11ec-890e-0242ac1c0002\"] = google.colab.output.setActiveOutputArea(window[\"e279d0ae-9db1-11ec-890e-0242ac1c0002\"]);\n",
              "//# sourceURL=js_0585f63a14"
            ],
            "text/plain": [
              "<IPython.core.display.Javascript object>"
            ]
          },
          "metadata": {}
        },
        {
          "output_type": "stream",
          "name": "stdout",
          "text": [
            "Start\n"
          ]
        },
        {
          "output_type": "display_data",
          "data": {
            "application/javascript": [
              "window[\"e27b7a12-9db1-11ec-890e-0242ac1c0002\"] = google.colab.output.setActiveOutputArea(window[\"e27977da-9db1-11ec-890e-0242ac1c0002\"]);\n",
              "//# sourceURL=js_2fb25db6e4"
            ],
            "text/plain": [
              "<IPython.core.display.Javascript object>"
            ]
          },
          "metadata": {}
        },
        {
          "output_type": "display_data",
          "data": {
            "application/javascript": [
              "window[\"e27d8096-9db1-11ec-890e-0242ac1c0002\"] = google.colab.output.getActiveOutputArea();\n",
              "//# sourceURL=js_d33cc7da47"
            ],
            "text/plain": [
              "<IPython.core.display.Javascript object>"
            ]
          },
          "metadata": {}
        },
        {
          "output_type": "display_data",
          "data": {
            "application/javascript": [
              "window[\"e27dd898-9db1-11ec-890e-0242ac1c0002\"] = document.querySelector(\"#id48-3-3\");\n",
              "//# sourceURL=js_d44d40f18e"
            ],
            "text/plain": [
              "<IPython.core.display.Javascript object>"
            ]
          },
          "metadata": {}
        },
        {
          "output_type": "display_data",
          "data": {
            "application/javascript": [
              "window[\"e27e2d34-9db1-11ec-890e-0242ac1c0002\"] = google.colab.output.setActiveOutputArea(window[\"e27dd898-9db1-11ec-890e-0242ac1c0002\"]);\n",
              "//# sourceURL=js_f7081ea48b"
            ],
            "text/plain": [
              "<IPython.core.display.Javascript object>"
            ]
          },
          "metadata": {}
        },
        {
          "output_type": "stream",
          "name": "stdout",
          "text": [
            "Target\n"
          ]
        },
        {
          "output_type": "display_data",
          "data": {
            "application/javascript": [
              "window[\"e27f8184-9db1-11ec-890e-0242ac1c0002\"] = google.colab.output.setActiveOutputArea(window[\"e27d8096-9db1-11ec-890e-0242ac1c0002\"]);\n",
              "//# sourceURL=js_3b4d18d719"
            ],
            "text/plain": [
              "<IPython.core.display.Javascript object>"
            ]
          },
          "metadata": {}
        },
        {
          "output_type": "display_data",
          "data": {
            "application/javascript": [
              "window[\"e2817836-9db1-11ec-890e-0242ac1c0002\"] = google.colab.output.getActiveOutputArea();\n",
              "//# sourceURL=js_2f230305ac"
            ],
            "text/plain": [
              "<IPython.core.display.Javascript object>"
            ]
          },
          "metadata": {}
        },
        {
          "output_type": "display_data",
          "data": {
            "application/javascript": [
              "window[\"e281cdfe-9db1-11ec-890e-0242ac1c0002\"] = document.querySelector(\"#id48-1-1\");\n",
              "//# sourceURL=js_8a78dd8ed5"
            ],
            "text/plain": [
              "<IPython.core.display.Javascript object>"
            ]
          },
          "metadata": {}
        },
        {
          "output_type": "display_data",
          "data": {
            "application/javascript": [
              "window[\"e2822498-9db1-11ec-890e-0242ac1c0002\"] = google.colab.output.setActiveOutputArea(window[\"e281cdfe-9db1-11ec-890e-0242ac1c0002\"]);\n",
              "//# sourceURL=js_7c10a841d1"
            ],
            "text/plain": [
              "<IPython.core.display.Javascript object>"
            ]
          },
          "metadata": {}
        },
        {
          "output_type": "stream",
          "name": "stdout",
          "text": [
            "-1\n"
          ]
        },
        {
          "output_type": "display_data",
          "data": {
            "application/javascript": [
              "window[\"e283737a-9db1-11ec-890e-0242ac1c0002\"] = google.colab.output.setActiveOutputArea(window[\"e2817836-9db1-11ec-890e-0242ac1c0002\"]);\n",
              "//# sourceURL=js_33d5107b37"
            ],
            "text/plain": [
              "<IPython.core.display.Javascript object>"
            ]
          },
          "metadata": {}
        },
        {
          "output_type": "display_data",
          "data": {
            "application/javascript": [
              "window[\"e28573dc-9db1-11ec-890e-0242ac1c0002\"] = google.colab.output.getActiveOutputArea();\n",
              "//# sourceURL=js_2f46fe5ad1"
            ],
            "text/plain": [
              "<IPython.core.display.Javascript object>"
            ]
          },
          "metadata": {}
        },
        {
          "output_type": "display_data",
          "data": {
            "application/javascript": [
              "window[\"e285c864-9db1-11ec-890e-0242ac1c0002\"] = document.querySelector(\"#id48-2-2\");\n",
              "//# sourceURL=js_2c941a3358"
            ],
            "text/plain": [
              "<IPython.core.display.Javascript object>"
            ]
          },
          "metadata": {}
        },
        {
          "output_type": "display_data",
          "data": {
            "application/javascript": [
              "window[\"e2861e36-9db1-11ec-890e-0242ac1c0002\"] = google.colab.output.setActiveOutputArea(window[\"e285c864-9db1-11ec-890e-0242ac1c0002\"]);\n",
              "//# sourceURL=js_e0b7d656f3"
            ],
            "text/plain": [
              "<IPython.core.display.Javascript object>"
            ]
          },
          "metadata": {}
        },
        {
          "output_type": "stream",
          "name": "stdout",
          "text": [
            "-2\n"
          ]
        },
        {
          "output_type": "display_data",
          "data": {
            "application/javascript": [
              "window[\"e2878528-9db1-11ec-890e-0242ac1c0002\"] = google.colab.output.setActiveOutputArea(window[\"e28573dc-9db1-11ec-890e-0242ac1c0002\"]);\n",
              "//# sourceURL=js_2fded01009"
            ],
            "text/plain": [
              "<IPython.core.display.Javascript object>"
            ]
          },
          "metadata": {}
        },
        {
          "output_type": "display_data",
          "data": {
            "application/javascript": [
              "window[\"e2899886-9db1-11ec-890e-0242ac1c0002\"] = google.colab.output.getActiveOutputArea();\n",
              "//# sourceURL=js_0199603526"
            ],
            "text/plain": [
              "<IPython.core.display.Javascript object>"
            ]
          },
          "metadata": {}
        },
        {
          "output_type": "display_data",
          "data": {
            "application/javascript": [
              "window[\"e289eea8-9db1-11ec-890e-0242ac1c0002\"] = document.querySelector(\"#id48-2-0\");\n",
              "//# sourceURL=js_1fdb6e4a77"
            ],
            "text/plain": [
              "<IPython.core.display.Javascript object>"
            ]
          },
          "metadata": {}
        },
        {
          "output_type": "display_data",
          "data": {
            "application/javascript": [
              "window[\"e28a4074-9db1-11ec-890e-0242ac1c0002\"] = google.colab.output.setActiveOutputArea(window[\"e289eea8-9db1-11ec-890e-0242ac1c0002\"]);\n",
              "//# sourceURL=js_4dee80b8b3"
            ],
            "text/plain": [
              "<IPython.core.display.Javascript object>"
            ]
          },
          "metadata": {}
        },
        {
          "output_type": "stream",
          "name": "stdout",
          "text": [
            "+3\n"
          ]
        },
        {
          "output_type": "display_data",
          "data": {
            "application/javascript": [
              "window[\"e28bd8ee-9db1-11ec-890e-0242ac1c0002\"] = google.colab.output.setActiveOutputArea(window[\"e2899886-9db1-11ec-890e-0242ac1c0002\"]);\n",
              "//# sourceURL=js_55d9f40cef"
            ],
            "text/plain": [
              "<IPython.core.display.Javascript object>"
            ]
          },
          "metadata": {}
        },
        {
          "output_type": "display_data",
          "data": {
            "application/javascript": [
              "window[\"e28df732-9db1-11ec-890e-0242ac1c0002\"] = google.colab.output.getActiveOutputArea();\n",
              "//# sourceURL=js_3ec93cf1b9"
            ],
            "text/plain": [
              "<IPython.core.display.Javascript object>"
            ]
          },
          "metadata": {}
        },
        {
          "output_type": "display_data",
          "data": {
            "application/javascript": [
              "window[\"e28e70b8-9db1-11ec-890e-0242ac1c0002\"] = document.querySelector(\"#id48-3-0\");\n",
              "//# sourceURL=js_8cf227483e"
            ],
            "text/plain": [
              "<IPython.core.display.Javascript object>"
            ]
          },
          "metadata": {}
        },
        {
          "output_type": "display_data",
          "data": {
            "application/javascript": [
              "window[\"e28ec554-9db1-11ec-890e-0242ac1c0002\"] = google.colab.output.setActiveOutputArea(window[\"e28e70b8-9db1-11ec-890e-0242ac1c0002\"]);\n",
              "//# sourceURL=js_166736f834"
            ],
            "text/plain": [
              "<IPython.core.display.Javascript object>"
            ]
          },
          "metadata": {}
        },
        {
          "output_type": "stream",
          "name": "stdout",
          "text": [
            "+4\n"
          ]
        },
        {
          "output_type": "display_data",
          "data": {
            "application/javascript": [
              "window[\"e28fe10a-9db1-11ec-890e-0242ac1c0002\"] = google.colab.output.setActiveOutputArea(window[\"e28df732-9db1-11ec-890e-0242ac1c0002\"]);\n",
              "//# sourceURL=js_2f29fcab67"
            ],
            "text/plain": [
              "<IPython.core.display.Javascript object>"
            ]
          },
          "metadata": {}
        },
        {
          "output_type": "stream",
          "name": "stdout",
          "text": [
            "Optimal Path: \n",
            "1 -> 1 -> 5 -> 9 -> 13 -> 14 -> 13 -> 14 -> 13 -> 13 -> 14 -> 13 -> 14 -> 15 -> 16\n"
          ]
        }
      ]
    },
    {
      "cell_type": "code",
      "source": [
        "#Rewards for Q-learning and SARSA\n",
        "yq = yq_r\n",
        "ys = ys_r\n",
        "episodes = len(yq_r)\n",
        "x = [x for x in range(episodes)]\n",
        "plt.plot(x, yq)\n",
        "plt.plot(x, ys)\n",
        "plt.xlabel('Episodes')\n",
        "plt.ylabel('Rewards')\n",
        "plt.legend([\"Q-learning\", \"SARSA\"])\n",
        "plt.title(\"Stochastic Environment\")"
      ],
      "metadata": {
        "colab": {
          "base_uri": "https://localhost:8080/",
          "height": 312
        },
        "id": "IhHYb8MzfTrM",
        "outputId": "8a42f551-bdb1-4ed4-fbc0-3c8792e47c3a"
      },
      "execution_count": 37,
      "outputs": [
        {
          "output_type": "execute_result",
          "data": {
            "text/plain": [
              "Text(0.5, 1.0, 'Stochastic Environment')"
            ]
          },
          "metadata": {},
          "execution_count": 37
        },
        {
          "output_type": "display_data",
          "data": {
            "image/png": "[encoded data removed]",
            "text/plain": [
              "<Figure size 432x288 with 1 Axes>"
            ]
          },
          "metadata": {
            "needs_background": "light"
          }
        }
      ]
    },
    {
      "cell_type": "code",
      "source": [
        ""
      ],
      "metadata": {
        "id": "tQV79pYVfYrp"
      },
      "execution_count": null,
      "outputs": []
    }
  ]
}